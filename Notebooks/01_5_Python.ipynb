{
 "cells": [
  {
   "cell_type": "markdown",
   "metadata": {},
   "source": [
    "# Crash course on Python\n",
    "\n",
    "**Suhas Somnath and Rama Vasudevan**\n",
    "\n",
    "8/2/2018, Updated on June 24, 2024\n",
    "\n",
    "This is a Jupyter Notebook. Press ``Shift``+``Enter`` to execute a ``cell``"
   ]
  },
  {
   "cell_type": "markdown",
   "metadata": {},
   "source": [
    "## Interactive\n",
    "\n",
    "Unlike compiled languages like C / Fortran / Java etc, python is an interactive and interpreted language meaning that you can use it like a calculator executing one command at a time instead of having to compile a giant set of commands:"
   ]
  },
  {
   "cell_type": "code",
   "execution_count": 2,
   "metadata": {},
   "outputs": [
    {
     "data": {
      "text/plain": [
       "16"
      ]
     },
     "execution_count": 2,
     "metadata": {},
     "output_type": "execute_result"
    }
   ],
   "source": [
    "1 + 15"
   ]
  },
  {
   "cell_type": "code",
   "execution_count": 3,
   "metadata": {},
   "outputs": [
    {
     "data": {
      "text/plain": [
       "32"
      ]
     },
     "execution_count": 3,
     "metadata": {},
     "output_type": "execute_result"
    }
   ],
   "source": [
    "2 ** 5"
   ]
  },
  {
   "cell_type": "markdown",
   "metadata": {},
   "source": [
    "## Variables\n",
    "\n",
    "The basic components of (scientific) python are variables that can hold values that can be changed later on. \n",
    "\n",
    "We create variables as:\n",
    "\n",
    "``variable_name = value``"
   ]
  },
  {
   "cell_type": "code",
   "execution_count": 26,
   "metadata": {},
   "outputs": [
    {
     "name": "stdout",
     "output_type": "stream",
     "text": [
      "100 hello 3.147 True\n"
     ]
    }
   ],
   "source": [
    "my_integer_variable = 100\n",
    "my_string_variable = 'hello'\n",
    "my_floating_pt_variable = 3.147\n",
    "my_boolean_value = True\n",
    "\n",
    "print(my_integer_variable, my_string_variable, my_floating_pt_variable, my_boolean_value)"
   ]
  },
  {
   "cell_type": "markdown",
   "metadata": {},
   "source": [
    "There are certain rules for naming variables:\n",
    "* Should not start with a number\n",
    "* Should not use reserved words like print, for, if, else etc.\n",
    "* Can use characters like '_' but not { or [ or ( or - or * or & ....\n",
    "\n",
    "Try these out:"
   ]
  },
  {
   "cell_type": "code",
   "execution_count": 27,
   "metadata": {},
   "outputs": [
    {
     "ename": "SyntaxError",
     "evalue": "invalid decimal literal (763526641.py, line 1)",
     "output_type": "error",
     "traceback": [
      "\u001b[0;36m  Cell \u001b[0;32mIn[27], line 1\u001b[0;36m\u001b[0m\n\u001b[0;31m    3rd_value = 4\u001b[0m\n\u001b[0m    ^\u001b[0m\n\u001b[0;31mSyntaxError\u001b[0m\u001b[0;31m:\u001b[0m invalid decimal literal\n"
     ]
    }
   ],
   "source": [
    "3rd_value = 4"
   ]
  },
  {
   "cell_type": "markdown",
   "metadata": {},
   "source": [
    "# Lists\n",
    "As the name implies, such objects can contain a set of items like numbers, strings, or even lists, etc."
   ]
  },
  {
   "cell_type": "code",
   "execution_count": 28,
   "metadata": {},
   "outputs": [
    {
     "name": "stdout",
     "output_type": "stream",
     "text": [
      "[1, -2.345, 'hello', True]\n"
     ]
    }
   ],
   "source": [
    "my_list = [1, -2.345, 'hello', True]\n",
    "print(my_list)"
   ]
  },
  {
   "cell_type": "markdown",
   "metadata": {},
   "source": [
    "### Length:"
   ]
  },
  {
   "cell_type": "code",
   "execution_count": 29,
   "metadata": {},
   "outputs": [
    {
     "data": {
      "text/plain": [
       "4"
      ]
     },
     "execution_count": 29,
     "metadata": {},
     "output_type": "execute_result"
    }
   ],
   "source": [
    "len(my_list)"
   ]
  },
  {
   "cell_type": "markdown",
   "metadata": {},
   "source": [
    "## Indexing\n",
    "Let's say that we are interested in getting the second value in the list above. In python, this translates to getting the item at index ``1`` and not ``2`` since **python starts counting from index 0**. \n",
    "\n",
    "Just typing \"``my_list``\" would result in the entire list. We can find the item at the ``1st`` index by adding the suffix: **[1]**"
   ]
  },
  {
   "cell_type": "code",
   "execution_count": 30,
   "metadata": {},
   "outputs": [
    {
     "data": {
      "text/plain": [
       "-2.345"
      ]
     },
     "execution_count": 30,
     "metadata": {},
     "output_type": "execute_result"
    }
   ],
   "source": [
    "my_list[1]"
   ]
  },
  {
   "cell_type": "code",
   "execution_count": 31,
   "metadata": {},
   "outputs": [
    {
     "data": {
      "text/plain": [
       "'hello'"
      ]
     },
     "execution_count": 31,
     "metadata": {},
     "output_type": "execute_result"
    }
   ],
   "source": [
    "my_list[2]"
   ]
  },
  {
   "cell_type": "markdown",
   "metadata": {},
   "source": [
    "By the same token, if the object has length ``N``, the last index is ``N-1`` and **not** ``N``. Thus, the following line would result in an error:"
   ]
  },
  {
   "cell_type": "code",
   "execution_count": 32,
   "metadata": {},
   "outputs": [
    {
     "ename": "IndexError",
     "evalue": "list index out of range",
     "output_type": "error",
     "traceback": [
      "\u001b[0;31m---------------------------------------------------------------------------\u001b[0m",
      "\u001b[0;31mIndexError\u001b[0m                                Traceback (most recent call last)",
      "Cell \u001b[0;32mIn[32], line 1\u001b[0m\n\u001b[0;32m----> 1\u001b[0m my_list[\u001b[38;5;28mlen\u001b[39m(my_list)]\n",
      "\u001b[0;31mIndexError\u001b[0m: list index out of range"
     ]
    }
   ],
   "source": [
    "my_list[len(my_list)]"
   ]
  },
  {
   "cell_type": "markdown",
   "metadata": {},
   "source": [
    "One can also get a subset of the list as ``object[start:end]``. Note that this is equivalent to a list of ``object[start], object[start+1], .... object[end-2], object[end-1]``. ``object[end]`` is **not** included!"
   ]
  },
  {
   "cell_type": "code",
   "execution_count": 33,
   "metadata": {},
   "outputs": [
    {
     "data": {
      "text/plain": [
       "[1, -2.345]"
      ]
     },
     "execution_count": 33,
     "metadata": {},
     "output_type": "execute_result"
    }
   ],
   "source": [
    "my_list[0:2]"
   ]
  },
  {
   "cell_type": "markdown",
   "metadata": {},
   "source": [
    "### Appending:"
   ]
  },
  {
   "cell_type": "code",
   "execution_count": 34,
   "metadata": {},
   "outputs": [
    {
     "data": {
      "text/plain": [
       "[1, -2.345, 'hello', True, 'bye']"
      ]
     },
     "execution_count": 34,
     "metadata": {},
     "output_type": "execute_result"
    }
   ],
   "source": [
    "my_list.append('bye')\n",
    "my_list"
   ]
  },
  {
   "cell_type": "markdown",
   "metadata": {},
   "source": [
    "### Changing an entry:"
   ]
  },
  {
   "cell_type": "code",
   "execution_count": 35,
   "metadata": {},
   "outputs": [
    {
     "data": {
      "text/plain": [
       "[1, 5.678, 'hello', True, 'bye']"
      ]
     },
     "execution_count": 35,
     "metadata": {},
     "output_type": "execute_result"
    }
   ],
   "source": [
    "my_list[1] = 5.678\n",
    "my_list"
   ]
  },
  {
   "cell_type": "markdown",
   "metadata": {},
   "source": [
    "### Tuples\n",
    "These objects are very similar to lists except that they are **immutable** in that one cannot add / remove / modify the contents of the object. \n",
    "\n",
    "We create tuples in the same way as lists, except that we use round parenthesis / braces instead:"
   ]
  },
  {
   "cell_type": "code",
   "execution_count": 36,
   "metadata": {},
   "outputs": [
    {
     "data": {
      "text/plain": [
       "('hello', 55, -2.345, False)"
      ]
     },
     "execution_count": 36,
     "metadata": {},
     "output_type": "execute_result"
    }
   ],
   "source": [
    "my_tuple = ('hello', 55, -2.345, False)\n",
    "my_tuple"
   ]
  },
  {
   "cell_type": "code",
   "execution_count": 37,
   "metadata": {},
   "outputs": [
    {
     "data": {
      "text/plain": [
       "55"
      ]
     },
     "execution_count": 37,
     "metadata": {},
     "output_type": "execute_result"
    }
   ],
   "source": [
    "my_tuple[1]"
   ]
  },
  {
   "cell_type": "markdown",
   "metadata": {},
   "source": [
    "As mentioned earlier, we cannot modify a tuple:"
   ]
  },
  {
   "cell_type": "code",
   "execution_count": 38,
   "metadata": {},
   "outputs": [
    {
     "ename": "TypeError",
     "evalue": "'tuple' object does not support item assignment",
     "output_type": "error",
     "traceback": [
      "\u001b[0;31m---------------------------------------------------------------------------\u001b[0m",
      "\u001b[0;31mTypeError\u001b[0m                                 Traceback (most recent call last)",
      "Cell \u001b[0;32mIn[38], line 1\u001b[0m\n\u001b[0;32m----> 1\u001b[0m my_tuple[\u001b[38;5;241m1\u001b[39m] \u001b[38;5;241m=\u001b[39m \u001b[38;5;241m44\u001b[39m\n",
      "\u001b[0;31mTypeError\u001b[0m: 'tuple' object does not support item assignment"
     ]
    }
   ],
   "source": [
    "my_tuple[1] = 44"
   ]
  },
  {
   "cell_type": "markdown",
   "metadata": {},
   "source": [
    "### Strings ~ Tuples of single-character strings\n",
    "We can apply the same \"indexing\" idea to find the second \"character\" in a string. Note that unlike C, Java, etc, python does not have a concept of \"characters\""
   ]
  },
  {
   "cell_type": "code",
   "execution_count": 39,
   "metadata": {},
   "outputs": [
    {
     "data": {
      "text/plain": [
       "'e'"
      ]
     },
     "execution_count": 39,
     "metadata": {},
     "output_type": "execute_result"
    }
   ],
   "source": [
    "my_string = 'hello'\n",
    "my_string[1]"
   ]
  },
  {
   "cell_type": "markdown",
   "metadata": {},
   "source": [
    "Attempting to change the second character:"
   ]
  },
  {
   "cell_type": "code",
   "execution_count": 40,
   "metadata": {},
   "outputs": [
    {
     "ename": "TypeError",
     "evalue": "'str' object does not support item assignment",
     "output_type": "error",
     "traceback": [
      "\u001b[0;31m---------------------------------------------------------------------------\u001b[0m",
      "\u001b[0;31mTypeError\u001b[0m                                 Traceback (most recent call last)",
      "Cell \u001b[0;32mIn[40], line 1\u001b[0m\n\u001b[0;32m----> 1\u001b[0m my_string[\u001b[38;5;241m1\u001b[39m] \u001b[38;5;241m=\u001b[39m \u001b[38;5;124m'\u001b[39m\u001b[38;5;124mo\u001b[39m\u001b[38;5;124m'\u001b[39m\n",
      "\u001b[0;31mTypeError\u001b[0m: 'str' object does not support item assignment"
     ]
    }
   ],
   "source": [
    "my_string[1] = 'o'"
   ]
  },
  {
   "cell_type": "markdown",
   "metadata": {},
   "source": [
    "## Dictionary\n",
    "\n",
    "This is a very handy object that allows the storage of **name-value** pairs. So, one could assign a name to a value instead of refering to it as the second value in a list. \n",
    "\n",
    "For example, if we wanted to store information (name, age, score) of all the people in a class, we could use a dictionary instead of a list:"
   ]
  },
  {
   "cell_type": "code",
   "execution_count": 41,
   "metadata": {},
   "outputs": [],
   "source": [
    "student_1 = {'name': 'Harry', \n",
    "             'age': 20, \n",
    "             'score':89}"
   ]
  },
  {
   "cell_type": "markdown",
   "metadata": {},
   "source": [
    "Now, if we wanted to find the age of the person, we could say:"
   ]
  },
  {
   "cell_type": "code",
   "execution_count": 42,
   "metadata": {},
   "outputs": [
    {
     "data": {
      "text/plain": [
       "20"
      ]
     },
     "execution_count": 42,
     "metadata": {},
     "output_type": "execute_result"
    }
   ],
   "source": [
    "student_1['age']"
   ]
  },
  {
   "cell_type": "markdown",
   "metadata": {},
   "source": [
    "Note that the dictionary may itself arrange the name-value pairs (**internally**) in any order unlike the order you see above. So **do not assume that the dictionary is sorted in a particular way**. "
   ]
  },
  {
   "cell_type": "code",
   "execution_count": 43,
   "metadata": {},
   "outputs": [
    {
     "data": {
      "text/plain": [
       "{'name': 'Harry', 'age': 20, 'score': 89}"
      ]
     },
     "execution_count": 43,
     "metadata": {},
     "output_type": "execute_result"
    }
   ],
   "source": [
    "student_1"
   ]
  },
  {
   "cell_type": "markdown",
   "metadata": {},
   "source": [
    "## Conditional\n",
    "\n",
    "Python offers if-elif-else for performing separate operations depending on certain conditions"
   ]
  },
  {
   "cell_type": "code",
   "execution_count": 44,
   "metadata": {},
   "outputs": [
    {
     "name": "stdout",
     "output_type": "stream",
     "text": [
      "You are not old enough to drink\n"
     ]
    }
   ],
   "source": [
    "age = 20\n",
    "if age >= 21:\n",
    "    print('You are old enough to drink')\n",
    "else:\n",
    "    print('You are not old enough to drink')"
   ]
  },
  {
   "cell_type": "markdown",
   "metadata": {},
   "source": [
    "**Note: Python is VERY particular about indentation**. Use the ``Tab`` key to move right by four spaces or the ``Shift``+``Tab`` key to move left one level \n",
    "\n",
    "Adding additional conditions via **elif**:"
   ]
  },
  {
   "cell_type": "code",
   "execution_count": 45,
   "metadata": {},
   "outputs": [
    {
     "name": "stdout",
     "output_type": "stream",
     "text": [
      "You can have a soda if you like\n"
     ]
    }
   ],
   "source": [
    "if age >= 21:\n",
    "    print('You are old enough to drink')\n",
    "elif age > 10:\n",
    "    print('You can have a soda if you like')\n",
    "else:\n",
    "    print('You are not old enough to drink')"
   ]
  },
  {
   "cell_type": "markdown",
   "metadata": {},
   "source": [
    "## Loops\n",
    "\n",
    "In many cases we need to perform the same operation multiple times. For such cases, we could use **for** or **while** loops depending on which works better\n",
    "\n",
    "### For loops\n",
    "These are great when the number of iterations is clearly known:"
   ]
  },
  {
   "cell_type": "code",
   "execution_count": 46,
   "metadata": {},
   "outputs": [
    {
     "name": "stdout",
     "output_type": "stream",
     "text": [
      "1\n",
      "5.678\n",
      "hello\n",
      "True\n",
      "bye\n"
     ]
    }
   ],
   "source": [
    "for item in my_list:\n",
    "    print(item)"
   ]
  },
  {
   "cell_type": "markdown",
   "metadata": {},
   "source": [
    "## Enumeration \n",
    "\n",
    "Sometimes, it is useful to know which element index you are at. For this, enumerate serves a useful purpose."
   ]
  },
  {
   "cell_type": "code",
   "execution_count": 47,
   "metadata": {},
   "outputs": [
    {
     "name": "stdout",
     "output_type": "stream",
     "text": [
      "0 1\n",
      "1 5.678\n",
      "2 hello\n",
      "3 True\n",
      "4 bye\n"
     ]
    }
   ],
   "source": [
    "for ind, item in enumerate(my_list):\n",
    "    print(ind,item)"
   ]
  },
  {
   "cell_type": "markdown",
   "metadata": {},
   "source": [
    "### While loops\n",
    "These are great when you want some thing to keep happening over an **unknownn number of iterations** till a certain condition is met."
   ]
  },
  {
   "cell_type": "code",
   "execution_count": 25,
   "metadata": {},
   "outputs": [
    {
     "name": "stdout",
     "output_type": "stream",
     "text": [
      "Cannot drive yet, you are only 15 years old\n",
      "Cannot drive yet, you are only 16 years old\n",
      "Cannot drive yet, you are only 17 years old\n",
      "You can finally drive now that you are 18 years old\n"
     ]
    }
   ],
   "source": [
    "age = 15\n",
    "while age < 18:\n",
    "    print('Cannot drive yet, you are only {} years old'.format(age))\n",
    "    age = age + 1\n",
    "print('You can finally drive now that you are {} years old'.format(age))"
   ]
  },
  {
   "cell_type": "markdown",
   "metadata": {},
   "source": [
    "## Functions\n",
    "\n",
    "Functions allow us to wrap a few lines of code so that it can be reused multiple times quickly in different places. "
   ]
  },
  {
   "cell_type": "code",
   "execution_count": 26,
   "metadata": {},
   "outputs": [
    {
     "name": "stdout",
     "output_type": "stream",
     "text": [
      "hello world!\n"
     ]
    }
   ],
   "source": [
    "def welcome():\n",
    "    print('hello world!')\n",
    "    \n",
    "welcome()"
   ]
  },
  {
   "cell_type": "markdown",
   "metadata": {},
   "source": [
    "These functions can take variables as inputs..."
   ]
  },
  {
   "cell_type": "code",
   "execution_count": 29,
   "metadata": {},
   "outputs": [
    {
     "name": "stdout",
     "output_type": "stream",
     "text": [
      "Dave is old enough to drive\n"
     ]
    }
   ],
   "source": [
    "def driving_eligibility(name, age):\n",
    "    if age >= 18:\n",
    "        print(name + ' is old enough to drive')\n",
    "    else:\n",
    "        print(name + ' is not old enough to drive')\n",
    "        \n",
    "driving_eligibility('Dave', 19)"
   ]
  },
  {
   "cell_type": "markdown",
   "metadata": {},
   "source": [
    "The functions can also output some value when appropriate by **return**ing some value(s)"
   ]
  },
  {
   "cell_type": "code",
   "execution_count": 30,
   "metadata": {},
   "outputs": [
    {
     "name": "stdout",
     "output_type": "stream",
     "text": [
      "A person of age: 17 is allowed to drive: False\n"
     ]
    }
   ],
   "source": [
    "def eligible_to_drive(age):\n",
    "    if age >= 18:\n",
    "        return True\n",
    "    else:\n",
    "        return False\n",
    "\n",
    "age = 17\n",
    "result = eligible_to_drive(age)\n",
    "    \n",
    "print('A person of age: {} is allowed to drive: {}'.format(age, result))"
   ]
  },
  {
   "cell_type": "markdown",
   "metadata": {
    "collapsed": true,
    "jupyter": {
     "outputs_hidden": true
    }
   },
   "source": [
    "## Boolean operations"
   ]
  },
  {
   "cell_type": "code",
   "execution_count": 3,
   "metadata": {},
   "outputs": [
    {
     "data": {
      "text/plain": [
       "False"
      ]
     },
     "execution_count": 3,
     "metadata": {},
     "output_type": "execute_result"
    }
   ],
   "source": [
    "True and False"
   ]
  },
  {
   "cell_type": "code",
   "execution_count": 4,
   "metadata": {},
   "outputs": [
    {
     "data": {
      "text/plain": [
       "True"
      ]
     },
     "execution_count": 4,
     "metadata": {},
     "output_type": "execute_result"
    }
   ],
   "source": [
    "not False"
   ]
  },
  {
   "cell_type": "code",
   "execution_count": 5,
   "metadata": {},
   "outputs": [
    {
     "data": {
      "text/plain": [
       "True"
      ]
     },
     "execution_count": 5,
     "metadata": {},
     "output_type": "execute_result"
    }
   ],
   "source": [
    "False or True"
   ]
  },
  {
   "cell_type": "markdown",
   "metadata": {},
   "source": [
    "## Comparisons"
   ]
  },
  {
   "cell_type": "code",
   "execution_count": 6,
   "metadata": {},
   "outputs": [
    {
     "data": {
      "text/plain": [
       "True"
      ]
     },
     "execution_count": 6,
     "metadata": {},
     "output_type": "execute_result"
    }
   ],
   "source": [
    "7 > 5"
   ]
  },
  {
   "cell_type": "code",
   "execution_count": 7,
   "metadata": {},
   "outputs": [
    {
     "data": {
      "text/plain": [
       "True"
      ]
     },
     "execution_count": 7,
     "metadata": {},
     "output_type": "execute_result"
    }
   ],
   "source": [
    "5 <= 5"
   ]
  },
  {
   "cell_type": "markdown",
   "metadata": {},
   "source": [
    "The exclamation symbol is equivalent to **not**"
   ]
  },
  {
   "cell_type": "code",
   "execution_count": 8,
   "metadata": {},
   "outputs": [
    {
     "data": {
      "text/plain": [
       "True"
      ]
     },
     "execution_count": 8,
     "metadata": {},
     "output_type": "execute_result"
    }
   ],
   "source": [
    "6 != 4"
   ]
  },
  {
   "cell_type": "markdown",
   "metadata": {},
   "source": [
    "## Datatypes:"
   ]
  },
  {
   "cell_type": "code",
   "execution_count": 10,
   "metadata": {},
   "outputs": [
    {
     "data": {
      "text/plain": [
       "list"
      ]
     },
     "execution_count": 10,
     "metadata": {},
     "output_type": "execute_result"
    }
   ],
   "source": [
    "type([1,2,3])"
   ]
  },
  {
   "cell_type": "code",
   "execution_count": 11,
   "metadata": {},
   "outputs": [
    {
     "data": {
      "text/plain": [
       "tuple"
      ]
     },
     "execution_count": 11,
     "metadata": {},
     "output_type": "execute_result"
    }
   ],
   "source": [
    "type((1,2,3))"
   ]
  },
  {
   "cell_type": "code",
   "execution_count": 12,
   "metadata": {},
   "outputs": [
    {
     "data": {
      "text/plain": [
       "dict"
      ]
     },
     "execution_count": 12,
     "metadata": {},
     "output_type": "execute_result"
    }
   ],
   "source": [
    "type({'name': 'Bob', 'age': 20})"
   ]
  },
  {
   "cell_type": "code",
   "execution_count": 13,
   "metadata": {},
   "outputs": [
    {
     "data": {
      "text/plain": [
       "str"
      ]
     },
     "execution_count": 13,
     "metadata": {},
     "output_type": "execute_result"
    }
   ],
   "source": [
    "type('Hello')"
   ]
  },
  {
   "cell_type": "code",
   "execution_count": 15,
   "metadata": {},
   "outputs": [
    {
     "data": {
      "text/plain": [
       "bool"
      ]
     },
     "execution_count": 15,
     "metadata": {},
     "output_type": "execute_result"
    }
   ],
   "source": [
    "type(False)"
   ]
  },
  {
   "cell_type": "code",
   "execution_count": 16,
   "metadata": {},
   "outputs": [
    {
     "data": {
      "text/plain": [
       "float"
      ]
     },
     "execution_count": 16,
     "metadata": {},
     "output_type": "execute_result"
    }
   ],
   "source": [
    "type(1.0)"
   ]
  },
  {
   "cell_type": "code",
   "execution_count": 17,
   "metadata": {},
   "outputs": [
    {
     "data": {
      "text/plain": [
       "int"
      ]
     },
     "execution_count": 17,
     "metadata": {},
     "output_type": "execute_result"
    }
   ],
   "source": [
    "type(1)"
   ]
  },
  {
   "cell_type": "markdown",
   "metadata": {},
   "source": [
    "# Additional for loops\n",
    "\n",
    "The 'zip' command is very useful within loops to iterate over multiple objects"
   ]
  },
  {
   "cell_type": "code",
   "execution_count": 2,
   "metadata": {},
   "outputs": [
    {
     "name": "stdout",
     "output_type": "stream",
     "text": [
      "10 a\n",
      "12 b\n",
      "14 c\n"
     ]
    }
   ],
   "source": [
    "list1 = [10,12,14]\n",
    "list2 = ['a', 'b', 'c']\n",
    "\n",
    "for el1, el2 in zip(list1, list2):\n",
    "    print(el1, el2)"
   ]
  },
  {
   "cell_type": "markdown",
   "metadata": {},
   "source": [
    "# List comprehension"
   ]
  },
  {
   "cell_type": "code",
   "execution_count": 3,
   "metadata": {},
   "outputs": [
    {
     "data": {
      "text/plain": [
       "[1, 4, 9]"
      ]
     },
     "execution_count": 3,
     "metadata": {},
     "output_type": "execute_result"
    }
   ],
   "source": [
    "# List comprehension\n",
    "\n",
    "#We can use for loops within lists\n",
    "\n",
    "[x**2 for x in [1,2,3]]"
   ]
  },
  {
   "cell_type": "code",
   "execution_count": 4,
   "metadata": {},
   "outputs": [
    {
     "data": {
      "text/plain": [
       "[25, 81]"
      ]
     },
     "execution_count": 4,
     "metadata": {},
     "output_type": "execute_result"
    }
   ],
   "source": [
    "#We can go further, by indicating clauses within this as well\n",
    "\n",
    "[x**2 for x in [1,5,9] if x>4]"
   ]
  },
  {
   "cell_type": "markdown",
   "metadata": {
    "collapsed": true,
    "jupyter": {
     "outputs_hidden": true
    }
   },
   "source": [
    "# File Handling\n",
    "\n",
    "Let's open a text file in python"
   ]
  },
  {
   "cell_type": "code",
   "execution_count": 19,
   "metadata": {},
   "outputs": [],
   "source": [
    "#we can create a file object by using the command open\n",
    "path_to_data_file = r'../Data Files/data_file_with_header.dat'\n",
    "f = open(path_to_data_file, 'r')"
   ]
  },
  {
   "cell_type": "code",
   "execution_count": 15,
   "metadata": {
    "scrolled": true
   },
   "outputs": [
    {
     "name": "stdout",
     "output_type": "stream",
     "text": [
      "Experiment\tbias spectroscopy\t\n",
      "\n",
      "Date\t07.07.2020 15:01:50\t\n",
      "\n",
      "User\t\t\n",
      "\n",
      "X (m)\t1.10123E-6\t\n",
      "\n",
      "Y (m)\t1.89724E-6\t\n",
      "\n",
      "Z (m)\t99.2194E-9\t\n",
      "\n",
      "Z offset (m)\t0E+0\t\n",
      "\n",
      "Settling time (s)\t200E-6\t\n",
      "\n",
      "Integration time (s)\t600E-6\t\n",
      "\n",
      "Z-Ctrl hold\tTRUE\t\n",
      "\n",
      "Final Z (m)\tN/A\t\n",
      "\n",
      "Filter type\tGaussian\t\n",
      "\n",
      "Order\t2\t\n",
      "\n",
      "Cutoff frq\t\t\n",
      "\n",
      "\n",
      "\n",
      "[DATA]\n",
      "\n",
      "Bias calc (V)\tCurrent (A)\tVert. Deflection (V)\tX (m)\tY (m)\tZ (m)\tExcitation (V)\tCurrent [bwd] (A)\tVert. Deflection [bwd] (V)\tX [bwd] (m)\tY [bwd] (m)\tZ [bwd] (m)\tExcitation [bwd] (V)\tCurrent (A) [filt]\tVert. Deflection (V) [filt]\tX (m) [filt]\tY (m) [filt]\tZ (m) [filt]\tExcitation (V) [filt]\tCurrent (A) [bwd] [filt]\tVert. Deflection (V) [bwd] [filt]\tX (m) [bwd] [filt]\tY (m) [bwd] [filt]\tZ (m) [bwd] [filt]\tExcitation (V) [bwd] [filt]\n",
      "\n",
      "-2.00000E+0\t-10.0007E-9\t2.00011E+0\t1.10123E-6\t1.89724E-6\t99.2194E-9\t10.0000E+0\t-10.0007E-9\t1.99982E+0\t1.10123E-6\t1.89724E-6\t99.2194E-9\t10.0000E+0\t-10.0007E-9\t2.00011E+0\t1.10123E-6\t1.89724E-6\t99.2194E-9\t10.0000E+0\t-10.0007E-9\t1.99982E+0\t1.10123E-6\t1.89724E-6\t99.2194E-9\t10.0000E+0\n",
      "\n",
      "-1.98431E+0\t-10.0007E-9\t2.00012E+0\t1.10123E-6\t1.89724E-6\t99.2194E-9\t10.0000E+0\t-10.0007E-9\t1.99990E+0\t1.10123E-6\t1.89724E-6\t99.2194E-9\t10.0000E+0\t-10.0007E-9\t2.00021E+0\t1.10123E-6\t1.89724E-6\t99.2194E-9\t10.0000E+0\t-10.0007E-9\t1.99983E+0\t1.10123E-6\t1.89724E-6\t99.2194E-9\t10.0000E+0\n",
      "\n",
      "-1.96863E+0\t-10.0007E-9\t2.00043E+0\t1.10123E-6\t1.89724E-6\t99.2194E-9\t10.0000E+0\t-10.0007E-9\t1.99982E+0\t1.10123E-6\t1.89724E-6\t99.2194E-9\t10.0000E+0\t-10.0007E-9\t2.00028E+0\t1.10123E-6\t1.89724E-6\t99.2194E-9\t10.0000E+0\t-10.0007E-9\t1.99983E+0\t1.10123E-6\t1.89724E-6\t99.2194E-9\t10.0000E+0\n",
      "\n",
      "-1.95294E+0\t-10.0007E-9\t2.00028E+0\t1.10123E-6\t1.89724E-6\t99.2194E-9\t10.0000E+0\t-10.0007E-9\t1.99978E+0\t1.10123E-6\t1.89724E-6\t99.2194E-9\t10.0000E+0\t-10.0007E-9\t2.00033E+0\t1.10123E-6\t1.89724E-6\t99.2194E-9\t10.0000E+0\t-10.0007E-9\t1.99980E+0\t1.10123E-6\t1.89724E-6\t99.2194E-9\t10.0000E+0\n",
      "\n",
      "-1.93725E+0\t-10.0007E-9\t2.00036E+0\t1.10123E-6\t1.89724E-6\t99.2194E-9\t10.0000E+0\t-10.0007E-9\t1.99984E+0\t1.10123E-6\t1.89724E-6\t99.2194E-9\t10.0000E+0\t-10.0007E-9\t2.00039E+0\t1.10123E-6\t1.89724E-6\t99.2194E-9\t10.0000E+0\t-10.0007E-9\t1.99977E+0\t1.10123E-6\t1.89724E-6\t99.2194E-9\t10.0000E+0\n",
      "\n",
      "-1.92157E+0\t-10.0007E-9\t2.00042E+0\t1.10123E-6\t1.89724E-6\t99.2194E-9\t10.0000E+0\t-10.0007E-9\t1.99963E+0\t1.10123E-6\t1.89724E-6\t99.2194E-9\t10.0000E+0\t-10.0007E-9\t2.00044E+0\t1.10123E-6\t1.89724E-6\t99.2194E-9\t10.0000E+0\t-10.0007E-9\t1.99976E+0\t1.10123E-6\t1.89724E-6\t99.2194E-9\t10.0000E+0\n",
      "\n",
      "-1.90588E+0\t-10.0007E-9\t2.00057E+0\t1.10123E-6\t1.89724E-6\t99.2194E-9\t10.0000E+0\t-10.0007E-9\t1.99979E+0\t1.10123E-6\t1.89724E-6\t99.2194E-9\t10.0000E+0\t-10.0007E-9\t2.00049E+0\t1.10123E-6\t1.89724E-6\t99.2194E-9\t10.0000E+0\t-10.0007E-9\t1.99980E+0\t1.10123E-6\t1.89724E-6\t99.2194E-9\t10.0000E+0\n",
      "\n",
      "-1.89020E+0\t-10.0007E-9\t2.00052E+0\t1.10123E-6\t1.89724E-6\t99.2194E-9\t10.0000E+0\t-10.0007E-9\t1.99987E+0\t1.10123E-6\t1.89724E-6\t99.2194E-9\t10.0000E+0\t-10.0007E-9\t2.00053E+0\t1.10123E-6\t1.89724E-6\t99.2194E-9\t10.0000E+0\t-10.0007E-9\t1.99983E+0\t1.10123E-6\t1.89724E-6\t99.2194E-9\t10.0000E+0\n",
      "\n",
      "-1.87451E+0\t-10.0007E-9\t2.00048E+0\t1.10123E-6\t1.89724E-6\t99.2194E-9\t10.0000E+0\t-10.0007E-9\t1.99994E+0\t1.10123E-6\t1.89724E-6\t99.2194E-9\t10.0000E+0\t-10.0007E-9\t2.00057E+0\t1.10123E-6\t1.89724E-6\t99.2194E-9\t10.0000E+0\t-10.0007E-9\t1.99984E+0\t1.10123E-6\t1.89724E-6\t99.2194E-9\t10.0000E+0\n",
      "\n",
      "-1.85882E+0\t-10.0007E-9\t2.00067E+0\t1.10123E-6\t1.89724E-6\t99.2194E-9\t10.0000E+0\t-10.0007E-9\t1.99975E+0\t1.10123E-6\t1.89724E-6\t99.2194E-9\t10.0000E+0\t-10.0007E-9\t2.00060E+0\t1.10123E-6\t1.89724E-6\t99.2194E-9\t10.0000E+0\t-10.0007E-9\t1.99980E+0\t1.10123E-6\t1.89724E-6\t99.2194E-9\t10.0000E+0\n",
      "\n",
      "-1.84314E+0\t-10.0007E-9\t2.00073E+0\t1.10123E-6\t1.89724E-6\t99.2194E-9\t10.0000E+0\t-10.0007E-9\t1.99978E+0\t1.10123E-6\t1.89724E-6\t99.2194E-9\t10.0000E+0\t-10.0007E-9\t2.00059E+0\t1.10123E-6\t1.89724E-6\t99.2194E-9\t10.0000E+0\t-10.0007E-9\t1.99978E+0\t1.10123E-6\t1.89724E-6\t99.2194E-9\t10.0000E+0\n",
      "\n",
      "-1.82745E+0\t-10.0007E-9\t2.00045E+0\t1.10123E-6\t1.89724E-6\t99.2194E-9\t10.0000E+0\t-10.0007E-9\t1.99962E+0\t1.10123E-6\t1.89724E-6\t99.2194E-9\t10.0000E+0\t-10.0007E-9\t2.00051E+0\t1.10123E-6\t1.89724E-6\t99.2194E-9\t10.0000E+0\t-10.0007E-9\t1.99981E+0\t1.10123E-6\t1.89724E-6\t99.2194E-9\t10.0000E+0\n",
      "\n",
      "-1.81176E+0\t-10.0007E-9\t2.00042E+0\t1.10123E-6\t1.89724E-6\t99.2194E-9\t10.0000E+0\t-10.0007E-9\t2.00005E+0\t1.10123E-6\t1.89724E-6\t99.2194E-9\t10.0000E+0\t-10.0007E-9\t2.00042E+0\t1.10123E-6\t1.89724E-6\t99.2194E-9\t10.0000E+0\t-10.0007E-9\t1.99988E+0\t1.10123E-6\t1.89724E-6\t99.2194E-9\t10.0000E+0\n",
      "\n",
      "-1.79608E+0\t-10.0007E-9\t2.00024E+0\t1.10123E-6\t1.89724E-6\t99.2194E-9\t10.0000E+0\t-10.0007E-9\t1.99997E+0\t1.10123E-6\t1.89724E-6\t99.2194E-9\t10.0000E+0\t-10.0007E-9\t2.00036E+0\t1.10123E-6\t1.89724E-6\t99.2194E-9\t10.0000E+0\t-10.0007E-9\t1.99991E+0\t1.10123E-6\t1.89724E-6\t99.2194E-9\t10.0000E+0\n",
      "\n",
      "-1.78039E+0\t-10.0007E-9\t2.00042E+0\t1.10123E-6\t1.89724E-6\t99.2194E-9\t10.0000E+0\t-10.0007E-9\t1.99987E+0\t1.10123E-6\t1.89724E-6\t99.2194E-9\t10.0000E+0\t-10.0007E-9\t2.00035E+0\t1.10123E-6\t1.89724E-6\t99.2194E-9\t10.0000E+0\t-10.0007E-9\t1.99992E+0\t1.10123E-6\t1.89724E-6\t99.2194E-9\t10.0000E+0\n",
      "\n",
      "-1.76471E+0\t-10.0007E-9\t2.00039E+0\t1.10123E-6\t1.89724E-6\t99.2194E-9\t10.0000E+0\t-10.0007E-9\t1.99984E+0\t1.10123E-6\t1.89724E-6\t99.2194E-9\t10.0000E+0\t-10.0007E-9\t2.00034E+0\t1.10123E-6\t1.89724E-6\t99.2194E-9\t10.0000E+0\t-10.0007E-9\t1.99990E+0\t1.10123E-6\t1.89724E-6\t99.2194E-9\t10.0000E+0\n",
      "\n",
      "-1.74902E+0\t-10.0007E-9\t2.00023E+0\t1.10123E-6\t1.89724E-6\t99.2194E-9\t10.0000E+0\t-10.0007E-9\t1.99998E+0\t1.10123E-6\t1.89724E-6\t99.2194E-9\t10.0000E+0\t-10.0007E-9\t2.00033E+0\t1.10123E-6\t1.89724E-6\t99.2194E-9\t10.0000E+0\t-10.0007E-9\t1.99991E+0\t1.10123E-6\t1.89724E-6\t99.2194E-9\t10.0000E+0\n",
      "\n",
      "-1.73333E+0\t-10.0007E-9\t2.00039E+0\t1.10123E-6\t1.89724E-6\t99.2194E-9\t10.0000E+0\t-10.0007E-9\t1.99987E+0\t1.10123E-6\t1.89724E-6\t99.2194E-9\t10.0000E+0\t-10.0007E-9\t2.00031E+0\t1.10123E-6\t1.89724E-6\t99.2194E-9\t10.0000E+0\t-10.0007E-9\t1.99995E+0\t1.10123E-6\t1.89724E-6\t99.2194E-9\t10.0000E+0\n",
      "\n",
      "-1.71765E+0\t-10.0007E-9\t2.00026E+0\t1.10123E-6\t1.89724E-6\t99.2194E-9\t10.0000E+0\t-10.0007E-9\t1.99998E+0\t1.10123E-6\t1.89724E-6\t99.2194E-9\t10.0000E+0\t-10.0007E-9\t2.00028E+0\t1.10123E-6\t1.89724E-6\t99.2194E-9\t10.0000E+0\t-10.0007E-9\t1.99998E+0\t1.10123E-6\t1.89724E-6\t99.2194E-9\t10.0000E+0\n",
      "\n",
      "-1.70196E+0\t-10.0007E-9\t2.00029E+0\t1.10123E-6\t1.89724E-6\t99.2194E-9\t10.0000E+0\t-10.0007E-9\t2.00014E+0\t1.10123E-6\t1.89724E-6\t99.2194E-9\t10.0000E+0\t-10.0007E-9\t2.00023E+0\t1.10123E-6\t1.89724E-6\t99.2194E-9\t10.0000E+0\t-10.0007E-9\t1.99999E+0\t1.10123E-6\t1.89724E-6\t99.2194E-9\t10.0000E+0\n",
      "\n",
      "-1.68627E+0\t-10.0007E-9\t2.00009E+0\t1.10123E-6\t1.89724E-6\t99.2194E-9\t10.0000E+0\t-10.0007E-9\t1.99988E+0\t1.10123E-6\t1.89724E-6\t99.2194E-9\t10.0000E+0\t-10.0007E-9\t2.00014E+0\t1.10123E-6\t1.89724E-6\t99.2194E-9\t10.0000E+0\t-10.0007E-9\t1.99998E+0\t1.10123E-6\t1.89724E-6\t99.2194E-9\t10.0000E+0\n",
      "\n",
      "-1.67059E+0\t-10.0007E-9\t2.00008E+0\t1.10123E-6\t1.89724E-6\t99.2194E-9\t10.0000E+0\t-10.0007E-9\t1.99997E+0\t1.10123E-6\t1.89724E-6\t99.2194E-9\t10.0000E+0\t-10.0007E-9\t2.00008E+0\t1.10123E-6\t1.89724E-6\t99.2194E-9\t10.0000E+0\t-10.0007E-9\t1.99994E+0\t1.10123E-6\t1.89724E-6\t99.2194E-9\t10.0000E+0\n",
      "\n",
      "-1.65490E+0\t-10.0007E-9\t1.99995E+0\t1.10123E-6\t1.89724E-6\t99.2194E-9\t10.0000E+0\t-10.0007E-9\t1.99989E+0\t1.10123E-6\t1.89724E-6\t99.2194E-9\t10.0000E+0\t-10.0007E-9\t2.00005E+0\t1.10123E-6\t1.89724E-6\t99.2194E-9\t10.0000E+0\t-10.0007E-9\t1.99991E+0\t1.10123E-6\t1.89724E-6\t99.2194E-9\t10.0000E+0\n",
      "\n",
      "-1.63922E+0\t-10.0007E-9\t2.00006E+0\t1.10123E-6\t1.89724E-6\t99.2194E-9\t10.0000E+0\t-10.0007E-9\t1.99991E+0\t1.10123E-6\t1.89724E-6\t99.2194E-9\t10.0000E+0\t-10.0007E-9\t2.00005E+0\t1.10123E-6\t1.89724E-6\t99.2194E-9\t10.0000E+0\t-10.0007E-9\t1.99990E+0\t1.10123E-6\t1.89724E-6\t99.2194E-9\t10.0000E+0\n",
      "\n",
      "-1.62353E+0\t-10.0007E-9\t2.00013E+0\t1.10123E-6\t1.89724E-6\t99.2194E-9\t10.0000E+0\t-10.0007E-9\t1.99989E+0\t1.10123E-6\t1.89724E-6\t99.2194E-9\t10.0000E+0\t-10.0007E-9\t2.00006E+0\t1.10123E-6\t1.89724E-6\t99.2194E-9\t10.0000E+0\t-10.0007E-9\t1.99988E+0\t1.10123E-6\t1.89724E-6\t99.2194E-9\t10.0000E+0\n",
      "\n",
      "-1.60784E+0\t-10.0007E-9\t1.99999E+0\t1.10123E-6\t1.89724E-6\t99.2194E-9\t10.0000E+0\t-10.0007E-9\t1.99982E+0\t1.10123E-6\t1.89724E-6\t99.2194E-9\t10.0000E+0\t-10.0007E-9\t2.00009E+0\t1.10123E-6\t1.89724E-6\t99.2194E-9\t10.0000E+0\t-10.0007E-9\t1.99988E+0\t1.10123E-6\t1.89724E-6\t99.2194E-9\t10.0000E+0\n",
      "\n",
      "-1.59216E+0\t-10.0007E-9\t2.00014E+0\t1.10123E-6\t1.89724E-6\t99.2194E-9\t10.0000E+0\t-10.0007E-9\t1.99991E+0\t1.10123E-6\t1.89724E-6\t99.2194E-9\t10.0000E+0\t-10.0007E-9\t2.00014E+0\t1.10123E-6\t1.89724E-6\t99.2194E-9\t10.0000E+0\t-10.0007E-9\t1.99989E+0\t1.10123E-6\t1.89724E-6\t99.2194E-9\t10.0000E+0\n",
      "\n",
      "-1.57647E+0\t-10.0007E-9\t2.00024E+0\t1.10123E-6\t1.89724E-6\t99.2194E-9\t10.0000E+0\t-10.0007E-9\t1.99991E+0\t1.10123E-6\t1.89724E-6\t99.2194E-9\t10.0000E+0\t-10.0007E-9\t2.00018E+0\t1.10123E-6\t1.89724E-6\t99.2194E-9\t10.0000E+0\t-10.0007E-9\t1.99991E+0\t1.10123E-6\t1.89724E-6\t99.2194E-9\t10.0000E+0\n",
      "\n",
      "-1.56078E+0\t-10.0007E-9\t2.00023E+0\t1.10123E-6\t1.89724E-6\t99.2194E-9\t10.0000E+0\t-10.0007E-9\t1.99992E+0\t1.10123E-6\t1.89724E-6\t99.2194E-9\t10.0000E+0\t-10.0007E-9\t2.00018E+0\t1.10123E-6\t1.89724E-6\t99.2194E-9\t10.0000E+0\t-10.0007E-9\t1.99995E+0\t1.10123E-6\t1.89724E-6\t99.2194E-9\t10.0000E+0\n",
      "\n",
      "-1.54510E+0\t-10.0007E-9\t2.00016E+0\t1.10123E-6\t1.89724E-6\t99.2194E-9\t10.0000E+0\t-10.0007E-9\t1.99998E+0\t1.10123E-6\t1.89724E-6\t99.2194E-9\t10.0000E+0\t-10.0007E-9\t2.00012E+0\t1.10123E-6\t1.89724E-6\t99.2194E-9\t10.0000E+0\t-10.0007E-9\t1.99996E+0\t1.10123E-6\t1.89724E-6\t99.2194E-9\t10.0000E+0\n",
      "\n",
      "-1.52941E+0\t-10.0007E-9\t1.99999E+0\t1.10123E-6\t1.89724E-6\t99.2194E-9\t10.0000E+0\t-10.0007E-9\t2.00011E+0\t1.10123E-6\t1.89724E-6\t99.2194E-9\t10.0000E+0\t-10.0007E-9\t2.00005E+0\t1.10123E-6\t1.89724E-6\t99.2194E-9\t10.0000E+0\t-10.0007E-9\t1.99996E+0\t1.10123E-6\t1.89724E-6\t99.2194E-9\t10.0000E+0\n",
      "\n",
      "-1.51373E+0\t-10.0007E-9\t1.99994E+0\t1.10123E-6\t1.89724E-6\t99.2194E-9\t10.0000E+0\t-10.0007E-9\t1.99974E+0\t1.10123E-6\t1.89724E-6\t99.2194E-9\t10.0000E+0\t-10.0007E-9\t2.00001E+0\t1.10123E-6\t1.89724E-6\t99.2194E-9\t10.0000E+0\t-10.0007E-9\t1.99995E+0\t1.10123E-6\t1.89724E-6\t99.2194E-9\t10.0000E+0\n",
      "\n",
      "-1.49804E+0\t-10.0007E-9\t1.99999E+0\t1.10123E-6\t1.89724E-6\t99.2194E-9\t10.0000E+0\t-10.0007E-9\t2.00003E+0\t1.10123E-6\t1.89724E-6\t99.2194E-9\t10.0000E+0\t-10.0007E-9\t2.00002E+0\t1.10123E-6\t1.89724E-6\t99.2194E-9\t10.0000E+0\t-10.0007E-9\t1.99994E+0\t1.10123E-6\t1.89724E-6\t99.2194E-9\t10.0000E+0\n",
      "\n",
      "-1.48235E+0\t-10.0007E-9\t2.00016E+0\t1.10123E-6\t1.89724E-6\t99.2194E-9\t10.0000E+0\t-10.0007E-9\t1.99995E+0\t1.10123E-6\t1.89724E-6\t99.2194E-9\t10.0000E+0\t-10.0007E-9\t2.00005E+0\t1.10123E-6\t1.89724E-6\t99.2194E-9\t10.0000E+0\t-10.0007E-9\t1.99997E+0\t1.10123E-6\t1.89724E-6\t99.2194E-9\t10.0000E+0\n",
      "\n",
      "-1.46667E+0\t-10.0007E-9\t2.00004E+0\t1.10123E-6\t1.89724E-6\t99.2194E-9\t10.0000E+0\t-10.0007E-9\t1.99995E+0\t1.10123E-6\t1.89724E-6\t99.2194E-9\t10.0000E+0\t-10.0007E-9\t2.00008E+0\t1.10123E-6\t1.89724E-6\t99.2194E-9\t10.0000E+0\t-10.0007E-9\t2.00003E+0\t1.10123E-6\t1.89724E-6\t99.2194E-9\t10.0000E+0\n",
      "\n",
      "-1.45098E+0\t-10.0007E-9\t2.00003E+0\t1.10123E-6\t1.89724E-6\t99.2194E-9\t10.0000E+0\t-10.0007E-9\t2.00018E+0\t1.10123E-6\t1.89724E-6\t99.2194E-9\t10.0000E+0\t-10.0007E-9\t2.00009E+0\t1.10123E-6\t1.89724E-6\t99.2194E-9\t10.0000E+0\t-10.0007E-9\t2.00005E+0\t1.10123E-6\t1.89724E-6\t99.2194E-9\t10.0000E+0\n",
      "\n",
      "-1.43529E+0\t-10.0007E-9\t2.00025E+0\t1.10123E-6\t1.89724E-6\t99.2194E-9\t10.0000E+0\t-10.0007E-9\t2.00011E+0\t1.10123E-6\t1.89724E-6\t99.2194E-9\t10.0000E+0\t-10.0007E-9\t2.00009E+0\t1.10123E-6\t1.89724E-6\t99.2194E-9\t10.0000E+0\t-10.0007E-9\t2.00005E+0\t1.10123E-6\t1.89724E-6\t99.2194E-9\t10.0000E+0\n",
      "\n",
      "-1.41961E+0\t-10.0007E-9\t1.99995E+0\t1.10123E-6\t1.89724E-6\t99.2194E-9\t10.0000E+0\t-10.0007E-9\t1.99994E+0\t1.10123E-6\t1.89724E-6\t99.2194E-9\t10.0000E+0\t-10.0007E-9\t2.00010E+0\t1.10123E-6\t1.89724E-6\t99.2194E-9\t10.0000E+0\t-10.0007E-9\t2.00003E+0\t1.10123E-6\t1.89724E-6\t99.2194E-9\t10.0000E+0\n",
      "\n",
      "-1.40392E+0\t-10.0007E-9\t2.00014E+0\t1.10123E-6\t1.89724E-6\t99.2194E-9\t10.0000E+0\t-10.0007E-9\t2.00001E+0\t1.10123E-6\t1.89724E-6\t99.2194E-9\t10.0000E+0\t-10.0007E-9\t2.00009E+0\t1.10123E-6\t1.89724E-6\t99.2194E-9\t10.0000E+0\t-10.0007E-9\t2.00005E+0\t1.10123E-6\t1.89724E-6\t99.2194E-9\t10.0000E+0\n",
      "\n",
      "-1.38824E+0\t-10.0007E-9\t2.00014E+0\t1.10123E-6\t1.89724E-6\t99.2194E-9\t10.0000E+0\t-10.0007E-9\t2.00005E+0\t1.10123E-6\t1.89724E-6\t99.2194E-9\t10.0000E+0\t-10.0007E-9\t2.00006E+0\t1.10123E-6\t1.89724E-6\t99.2194E-9\t10.0000E+0\t-10.0007E-9\t2.00010E+0\t1.10123E-6\t1.89724E-6\t99.2194E-9\t10.0000E+0\n",
      "\n",
      "-1.37255E+0\t-10.0007E-9\t2.00000E+0\t1.10123E-6\t1.89724E-6\t99.2194E-9\t10.0000E+0\t-10.0007E-9\t2.00034E+0\t1.10123E-6\t1.89724E-6\t99.2194E-9\t10.0000E+0\t-10.0007E-9\t2.00004E+0\t1.10123E-6\t1.89724E-6\t99.2194E-9\t10.0000E+0\t-10.0007E-9\t2.00014E+0\t1.10123E-6\t1.89724E-6\t99.2194E-9\t10.0000E+0\n",
      "\n",
      "-1.35686E+0\t-10.0007E-9\t1.99995E+0\t1.10123E-6\t1.89724E-6\t99.2194E-9\t10.0000E+0\t-10.0007E-9\t2.00011E+0\t1.10123E-6\t1.89724E-6\t99.2194E-9\t10.0000E+0\t-10.0007E-9\t2.00000E+0\t1.10123E-6\t1.89724E-6\t99.2194E-9\t10.0000E+0\t-10.0007E-9\t2.00013E+0\t1.10123E-6\t1.89724E-6\t99.2194E-9\t10.0000E+0\n",
      "\n",
      "-1.34118E+0\t-10.0007E-9\t2.00006E+0\t1.10123E-6\t1.89724E-6\t99.2194E-9\t10.0000E+0\t-10.0007E-9\t1.99999E+0\t1.10123E-6\t1.89724E-6\t99.2194E-9\t10.0000E+0\t-10.0007E-9\t1.99997E+0\t1.10123E-6\t1.89724E-6\t99.2194E-9\t10.0000E+0\t-10.0007E-9\t2.00007E+0\t1.10123E-6\t1.89724E-6\t99.2194E-9\t10.0000E+0\n",
      "\n",
      "-1.32549E+0\t-10.0007E-9\t1.99983E+0\t1.10123E-6\t1.89724E-6\t99.2194E-9\t10.0000E+0\t-10.0007E-9\t2.00007E+0\t1.10123E-6\t1.89724E-6\t99.2194E-9\t10.0000E+0\t-10.0007E-9\t1.99997E+0\t1.10123E-6\t1.89724E-6\t99.2194E-9\t10.0000E+0\t-10.0007E-9\t2.00005E+0\t1.10123E-6\t1.89724E-6\t99.2194E-9\t10.0000E+0\n",
      "\n",
      "-1.30980E+0\t-10.0007E-9\t2.00003E+0\t1.10123E-6\t1.89724E-6\t99.2194E-9\t10.0000E+0\t-10.0007E-9\t1.99996E+0\t1.10123E-6\t1.89724E-6\t99.2194E-9\t10.0000E+0\t-10.0007E-9\t1.99996E+0\t1.10123E-6\t1.89724E-6\t99.2194E-9\t10.0000E+0\t-10.0007E-9\t2.00008E+0\t1.10123E-6\t1.89724E-6\t99.2194E-9\t10.0000E+0\n",
      "\n",
      "-1.29412E+0\t-10.0007E-9\t2.00001E+0\t1.10123E-6\t1.89724E-6\t99.2194E-9\t10.0000E+0\t-10.0007E-9\t2.00020E+0\t1.10123E-6\t1.89724E-6\t99.2194E-9\t10.0000E+0\t-10.0007E-9\t1.99995E+0\t1.10123E-6\t1.89724E-6\t99.2194E-9\t10.0000E+0\t-10.0007E-9\t2.00014E+0\t1.10123E-6\t1.89724E-6\t99.2194E-9\t10.0000E+0\n",
      "\n",
      "-1.27843E+0\t-10.0007E-9\t1.99981E+0\t1.10123E-6\t1.89724E-6\t99.2194E-9\t10.0000E+0\t-10.0007E-9\t2.00024E+0\t1.10123E-6\t1.89724E-6\t99.2194E-9\t10.0000E+0\t-10.0007E-9\t1.99996E+0\t1.10123E-6\t1.89724E-6\t99.2194E-9\t10.0000E+0\t-10.0007E-9\t2.00019E+0\t1.10123E-6\t1.89724E-6\t99.2194E-9\t10.0000E+0\n",
      "\n",
      "-1.26275E+0\t-10.0007E-9\t2.00004E+0\t1.10123E-6\t1.89724E-6\t99.2194E-9\t10.0000E+0\t-10.0007E-9\t2.00024E+0\t1.10123E-6\t1.89724E-6\t99.2194E-9\t10.0000E+0\t-10.0007E-9\t1.99997E+0\t1.10123E-6\t1.89724E-6\t99.2194E-9\t10.0000E+0\t-10.0007E-9\t2.00023E+0\t1.10123E-6\t1.89724E-6\t99.2194E-9\t10.0000E+0\n",
      "\n",
      "-1.24706E+0\t-10.0007E-9\t2.00000E+0\t1.10123E-6\t1.89724E-6\t99.2194E-9\t10.0000E+0\t-10.0007E-9\t2.00020E+0\t1.10123E-6\t1.89724E-6\t99.2194E-9\t10.0000E+0\t-10.0007E-9\t1.99998E+0\t1.10123E-6\t1.89724E-6\t99.2194E-9\t10.0000E+0\t-10.0007E-9\t2.00021E+0\t1.10123E-6\t1.89724E-6\t99.2194E-9\t10.0000E+0\n",
      "\n",
      "-1.23137E+0\t-10.0007E-9\t1.99995E+0\t1.10123E-6\t1.89724E-6\t99.2194E-9\t10.0000E+0\t-10.0007E-9\t2.00023E+0\t1.10123E-6\t1.89724E-6\t99.2194E-9\t10.0000E+0\t-10.0007E-9\t2.00000E+0\t1.10123E-6\t1.89724E-6\t99.2194E-9\t10.0000E+0\t-10.0007E-9\t2.00019E+0\t1.10123E-6\t1.89724E-6\t99.2194E-9\t10.0000E+0\n",
      "\n",
      "-1.21569E+0\t-10.0007E-9\t1.99996E+0\t1.10123E-6\t1.89724E-6\t99.2194E-9\t10.0000E+0\t-10.0007E-9\t2.00009E+0\t1.10123E-6\t1.89724E-6\t99.2194E-9\t10.0000E+0\t-10.0007E-9\t2.00001E+0\t1.10123E-6\t1.89724E-6\t99.2194E-9\t10.0000E+0\t-10.0007E-9\t2.00019E+0\t1.10123E-6\t1.89724E-6\t99.2194E-9\t10.0000E+0\n",
      "\n",
      "-1.20000E+0\t-10.0007E-9\t2.00012E+0\t1.10123E-6\t1.89724E-6\t99.2194E-9\t10.0000E+0\t-10.0007E-9\t2.00024E+0\t1.10123E-6\t1.89724E-6\t99.2194E-9\t10.0000E+0\t-10.0007E-9\t2.00005E+0\t1.10123E-6\t1.89724E-6\t99.2194E-9\t10.0000E+0\t-10.0007E-9\t2.00017E+0\t1.10123E-6\t1.89724E-6\t99.2194E-9\t10.0000E+0\n",
      "\n",
      "-1.18431E+0\t-10.0007E-9\t2.00004E+0\t1.10123E-6\t1.89724E-6\t99.2194E-9\t10.0000E+0\t-10.0007E-9\t2.00020E+0\t1.10123E-6\t1.89724E-6\t99.2194E-9\t10.0000E+0\t-10.0007E-9\t2.00008E+0\t1.10123E-6\t1.89724E-6\t99.2194E-9\t10.0000E+0\t-10.0007E-9\t2.00012E+0\t1.10123E-6\t1.89724E-6\t99.2194E-9\t10.0000E+0\n",
      "\n",
      "-1.16863E+0\t-10.0007E-9\t2.00015E+0\t1.10123E-6\t1.89724E-6\t99.2194E-9\t10.0000E+0\t-10.0007E-9\t2.00000E+0\t1.10123E-6\t1.89724E-6\t99.2194E-9\t10.0000E+0\t-10.0007E-9\t2.00010E+0\t1.10123E-6\t1.89724E-6\t99.2194E-9\t10.0000E+0\t-10.0007E-9\t2.00008E+0\t1.10123E-6\t1.89724E-6\t99.2194E-9\t10.0000E+0\n",
      "\n",
      "-1.15294E+0\t-10.0007E-9\t2.00004E+0\t1.10123E-6\t1.89724E-6\t99.2194E-9\t10.0000E+0\t-10.0007E-9\t1.99995E+0\t1.10123E-6\t1.89724E-6\t99.2194E-9\t10.0000E+0\t-10.0007E-9\t2.00010E+0\t1.10123E-6\t1.89724E-6\t99.2194E-9\t10.0000E+0\t-10.0007E-9\t2.00004E+0\t1.10123E-6\t1.89724E-6\t99.2194E-9\t10.0000E+0\n",
      "\n",
      "-1.13725E+0\t-10.0007E-9\t2.00019E+0\t1.10123E-6\t1.89724E-6\t99.2194E-9\t10.0000E+0\t-10.0007E-9\t2.00014E+0\t1.10123E-6\t1.89724E-6\t99.2194E-9\t10.0000E+0\t-10.0007E-9\t2.00010E+0\t1.10123E-6\t1.89724E-6\t99.2194E-9\t10.0000E+0\t-10.0007E-9\t2.00002E+0\t1.10123E-6\t1.89724E-6\t99.2194E-9\t10.0000E+0\n",
      "\n",
      "-1.12157E+0\t-10.0007E-9\t2.00005E+0\t1.10123E-6\t1.89724E-6\t99.2194E-9\t10.0000E+0\t-10.0007E-9\t1.99997E+0\t1.10123E-6\t1.89724E-6\t99.2194E-9\t10.0000E+0\t-10.0007E-9\t2.00008E+0\t1.10123E-6\t1.89724E-6\t99.2194E-9\t10.0000E+0\t-10.0007E-9\t2.00002E+0\t1.10123E-6\t1.89724E-6\t99.2194E-9\t10.0000E+0\n",
      "\n",
      "-1.10588E+0\t-10.0007E-9\t2.00005E+0\t1.10123E-6\t1.89724E-6\t99.2194E-9\t10.0000E+0\t-10.0007E-9\t1.99998E+0\t1.10123E-6\t1.89724E-6\t99.2194E-9\t10.0000E+0\t-10.0007E-9\t2.00005E+0\t1.10123E-6\t1.89724E-6\t99.2194E-9\t10.0000E+0\t-10.0007E-9\t2.00005E+0\t1.10123E-6\t1.89724E-6\t99.2194E-9\t10.0000E+0\n",
      "\n",
      "-1.09020E+0\t-10.0007E-9\t2.00002E+0\t1.10123E-6\t1.89724E-6\t99.2194E-9\t10.0000E+0\t-10.0007E-9\t2.00005E+0\t1.10123E-6\t1.89724E-6\t99.2194E-9\t10.0000E+0\t-10.0007E-9\t2.00002E+0\t1.10123E-6\t1.89724E-6\t99.2194E-9\t10.0000E+0\t-10.0007E-9\t2.00008E+0\t1.10123E-6\t1.89724E-6\t99.2194E-9\t10.0000E+0\n",
      "\n",
      "-1.07451E+0\t-10.0007E-9\t2.00000E+0\t1.10123E-6\t1.89724E-6\t99.2194E-9\t10.0000E+0\t-10.0007E-9\t2.00029E+0\t1.10123E-6\t1.89724E-6\t99.2194E-9\t10.0000E+0\t-10.0007E-9\t1.99999E+0\t1.10123E-6\t1.89724E-6\t99.2194E-9\t10.0000E+0\t-10.0007E-9\t2.00012E+0\t1.10123E-6\t1.89724E-6\t99.2194E-9\t10.0000E+0\n",
      "\n",
      "-1.05882E+0\t-10.0007E-9\t1.99999E+0\t1.10123E-6\t1.89724E-6\t99.2194E-9\t10.0000E+0\t-10.0007E-9\t2.00002E+0\t1.10123E-6\t1.89724E-6\t99.2194E-9\t10.0000E+0\t-10.0007E-9\t1.99998E+0\t1.10123E-6\t1.89724E-6\t99.2194E-9\t10.0000E+0\t-10.0007E-9\t2.00013E+0\t1.10123E-6\t1.89724E-6\t99.2194E-9\t10.0000E+0\n",
      "\n",
      "-1.04314E+0\t-10.0007E-9\t1.99987E+0\t1.10123E-6\t1.89724E-6\t99.2194E-9\t10.0000E+0\t-10.0007E-9\t2.00019E+0\t1.10123E-6\t1.89724E-6\t99.2194E-9\t10.0000E+0\t-10.0007E-9\t2.00000E+0\t1.10123E-6\t1.89724E-6\t99.2194E-9\t10.0000E+0\t-10.0007E-9\t2.00011E+0\t1.10123E-6\t1.89724E-6\t99.2194E-9\t10.0000E+0\n",
      "\n",
      "-1.02745E+0\t-10.0007E-9\t2.00011E+0\t1.10123E-6\t1.89724E-6\t99.2194E-9\t10.0000E+0\t-10.0007E-9\t2.00002E+0\t1.10123E-6\t1.89724E-6\t99.2194E-9\t10.0000E+0\t-10.0007E-9\t2.00004E+0\t1.10123E-6\t1.89724E-6\t99.2194E-9\t10.0000E+0\t-10.0007E-9\t2.00008E+0\t1.10123E-6\t1.89724E-6\t99.2194E-9\t10.0000E+0\n",
      "\n",
      "-1.01176E+0\t-10.0007E-9\t2.00016E+0\t1.10123E-6\t1.89724E-6\t99.2194E-9\t10.0000E+0\t-10.0007E-9\t2.00010E+0\t1.10123E-6\t1.89724E-6\t99.2194E-9\t10.0000E+0\t-10.0007E-9\t2.00007E+0\t1.10123E-6\t1.89724E-6\t99.2194E-9\t10.0000E+0\t-10.0007E-9\t2.00008E+0\t1.10123E-6\t1.89724E-6\t99.2194E-9\t10.0000E+0\n",
      "\n",
      "-996.078E-3\t-10.0007E-9\t2.00001E+0\t1.10123E-6\t1.89724E-6\t99.2194E-9\t10.0000E+0\t-10.0007E-9\t2.00001E+0\t1.10123E-6\t1.89724E-6\t99.2194E-9\t10.0000E+0\t-10.0007E-9\t2.00010E+0\t1.10123E-6\t1.89724E-6\t99.2194E-9\t10.0000E+0\t-10.0007E-9\t2.00008E+0\t1.10123E-6\t1.89724E-6\t99.2194E-9\t10.0000E+0\n",
      "\n",
      "-980.392E-3\t-10.0007E-9\t2.00007E+0\t1.10123E-6\t1.89724E-6\t99.2194E-9\t10.0000E+0\t-10.0007E-9\t2.00019E+0\t1.10123E-6\t1.89724E-6\t99.2194E-9\t10.0000E+0\t-10.0007E-9\t2.00008E+0\t1.10123E-6\t1.89724E-6\t99.2194E-9\t10.0000E+0\t-10.0007E-9\t2.00008E+0\t1.10123E-6\t1.89724E-6\t99.2194E-9\t10.0000E+0\n",
      "\n",
      "-964.706E-3\t-10.0007E-9\t2.00024E+0\t1.10123E-6\t1.89724E-6\t99.2194E-9\t10.0000E+0\t-10.0007E-9\t2.00001E+0\t1.10123E-6\t1.89724E-6\t99.2194E-9\t10.0000E+0\t-10.0007E-9\t2.00004E+0\t1.10123E-6\t1.89724E-6\t99.2194E-9\t10.0000E+0\t-10.0007E-9\t2.00009E+0\t1.10123E-6\t1.89724E-6\t99.2194E-9\t10.0000E+0\n",
      "\n",
      "-949.020E-3\t-10.0007E-9\t1.99981E+0\t1.10123E-6\t1.89724E-6\t99.2194E-9\t10.0000E+0\t-10.0007E-9\t2.00011E+0\t1.10123E-6\t1.89724E-6\t99.2194E-9\t10.0000E+0\t-10.0007E-9\t1.99999E+0\t1.10123E-6\t1.89724E-6\t99.2194E-9\t10.0000E+0\t-10.0007E-9\t2.00007E+0\t1.10123E-6\t1.89724E-6\t99.2194E-9\t10.0000E+0\n",
      "\n",
      "-933.333E-3\t-10.0007E-9\t2.00000E+0\t1.10123E-6\t1.89724E-6\t99.2194E-9\t10.0000E+0\t-10.0007E-9\t2.00011E+0\t1.10123E-6\t1.89724E-6\t99.2194E-9\t10.0000E+0\t-10.0007E-9\t1.99995E+0\t1.10123E-6\t1.89724E-6\t99.2194E-9\t10.0000E+0\t-10.0007E-9\t2.00005E+0\t1.10123E-6\t1.89724E-6\t99.2194E-9\t10.0000E+0\n",
      "\n",
      "-917.647E-3\t-10.0007E-9\t1.99990E+0\t1.10123E-6\t1.89724E-6\t99.2194E-9\t10.0000E+0\t-10.0007E-9\t1.99993E+0\t1.10123E-6\t1.89724E-6\t99.2194E-9\t10.0000E+0\t-10.0007E-9\t1.99995E+0\t1.10123E-6\t1.89724E-6\t99.2194E-9\t10.0000E+0\t-10.0007E-9\t2.00006E+0\t1.10123E-6\t1.89724E-6\t99.2194E-9\t10.0000E+0\n",
      "\n",
      "-901.961E-3\t-10.0007E-9\t1.99990E+0\t1.10123E-6\t1.89724E-6\t99.2194E-9\t10.0000E+0\t-10.0007E-9\t2.00007E+0\t1.10123E-6\t1.89724E-6\t99.2194E-9\t10.0000E+0\t-10.0007E-9\t1.99998E+0\t1.10123E-6\t1.89724E-6\t99.2194E-9\t10.0000E+0\t-10.0007E-9\t2.00008E+0\t1.10123E-6\t1.89724E-6\t99.2194E-9\t10.0000E+0\n",
      "\n",
      "-886.275E-3\t-10.0007E-9\t2.00017E+0\t1.10123E-6\t1.89724E-6\t99.2194E-9\t10.0000E+0\t-10.0007E-9\t2.00022E+0\t1.10123E-6\t1.89724E-6\t99.2194E-9\t10.0000E+0\t-10.0007E-9\t2.00001E+0\t1.10123E-6\t1.89724E-6\t99.2194E-9\t10.0000E+0\t-10.0007E-9\t2.00010E+0\t1.10123E-6\t1.89724E-6\t99.2194E-9\t10.0000E+0\n",
      "\n",
      "-870.588E-3\t-10.0007E-9\t1.99994E+0\t1.10123E-6\t1.89724E-6\t99.2194E-9\t10.0000E+0\t-10.0007E-9\t2.00008E+0\t1.10123E-6\t1.89724E-6\t99.2194E-9\t10.0000E+0\t-10.0007E-9\t2.00002E+0\t1.10123E-6\t1.89724E-6\t99.2194E-9\t10.0000E+0\t-10.0007E-9\t2.00012E+0\t1.10123E-6\t1.89724E-6\t99.2194E-9\t10.0000E+0\n",
      "\n",
      "-854.902E-3\t-10.0007E-9\t2.00002E+0\t1.10123E-6\t1.89724E-6\t99.2194E-9\t10.0000E+0\t-10.0007E-9\t2.00005E+0\t1.10123E-6\t1.89724E-6\t99.2194E-9\t10.0000E+0\t-10.0007E-9\t2.00003E+0\t1.10123E-6\t1.89724E-6\t99.2194E-9\t10.0000E+0\t-10.0007E-9\t2.00014E+0\t1.10123E-6\t1.89724E-6\t99.2194E-9\t10.0000E+0\n",
      "\n",
      "-839.216E-3\t-10.0007E-9\t2.00005E+0\t1.10123E-6\t1.89724E-6\t99.2194E-9\t10.0000E+0\t-10.0007E-9\t2.00024E+0\t1.10123E-6\t1.89724E-6\t99.2194E-9\t10.0000E+0\t-10.0007E-9\t2.00007E+0\t1.10123E-6\t1.89724E-6\t99.2194E-9\t10.0000E+0\t-10.0007E-9\t2.00019E+0\t1.10123E-6\t1.89724E-6\t99.2194E-9\t10.0000E+0\n",
      "\n",
      "-823.529E-3\t-10.0007E-9\t2.00008E+0\t1.10123E-6\t1.89724E-6\t99.2194E-9\t10.0000E+0\t-10.0007E-9\t2.00021E+0\t1.10123E-6\t1.89724E-6\t99.2194E-9\t10.0000E+0\t-10.0007E-9\t2.00013E+0\t1.10123E-6\t1.89724E-6\t99.2194E-9\t10.0000E+0\t-10.0007E-9\t2.00025E+0\t1.10123E-6\t1.89724E-6\t99.2194E-9\t10.0000E+0\n",
      "\n",
      "-807.843E-3\t-10.0007E-9\t2.00032E+0\t1.10123E-6\t1.89724E-6\t99.2194E-9\t10.0000E+0\t-10.0007E-9\t2.00043E+0\t1.10123E-6\t1.89724E-6\t99.2194E-9\t10.0000E+0\t-10.0007E-9\t2.00017E+0\t1.10123E-6\t1.89724E-6\t99.2194E-9\t10.0000E+0\t-10.0007E-9\t2.00028E+0\t1.10123E-6\t1.89724E-6\t99.2194E-9\t10.0000E+0\n",
      "\n",
      "-792.157E-3\t-10.0007E-9\t2.00017E+0\t1.10123E-6\t1.89724E-6\t99.2194E-9\t10.0000E+0\t-10.0007E-9\t2.00023E+0\t1.10123E-6\t1.89724E-6\t99.2194E-9\t10.0000E+0\t-10.0007E-9\t2.00014E+0\t1.10123E-6\t1.89724E-6\t99.2194E-9\t10.0000E+0\t-10.0007E-9\t2.00025E+0\t1.10123E-6\t1.89724E-6\t99.2194E-9\t10.0000E+0\n",
      "\n",
      "-776.471E-3\t-10.0007E-9\t2.00007E+0\t1.10123E-6\t1.89724E-6\t99.2194E-9\t10.0000E+0\t-10.0007E-9\t2.00016E+0\t1.10123E-6\t1.89724E-6\t99.2194E-9\t10.0000E+0\t-10.0007E-9\t2.00010E+0\t1.10123E-6\t1.89724E-6\t99.2194E-9\t10.0000E+0\t-10.0007E-9\t2.00017E+0\t1.10123E-6\t1.89724E-6\t99.2194E-9\t10.0000E+0\n",
      "\n",
      "-760.784E-3\t-10.0007E-9\t1.99990E+0\t1.10123E-6\t1.89724E-6\t99.2194E-9\t10.0000E+0\t-10.0007E-9\t2.00011E+0\t1.10123E-6\t1.89724E-6\t99.2194E-9\t10.0000E+0\t-10.0007E-9\t2.00008E+0\t1.10123E-6\t1.89724E-6\t99.2194E-9\t10.0000E+0\t-10.0007E-9\t2.00008E+0\t1.10123E-6\t1.89724E-6\t99.2194E-9\t10.0000E+0\n",
      "\n",
      "-745.098E-3\t-10.0007E-9\t2.00027E+0\t1.10123E-6\t1.89724E-6\t99.2194E-9\t10.0000E+0\t-10.0007E-9\t1.99993E+0\t1.10123E-6\t1.89724E-6\t99.2194E-9\t10.0000E+0\t-10.0007E-9\t2.00011E+0\t1.10123E-6\t1.89724E-6\t99.2194E-9\t10.0000E+0\t-10.0007E-9\t2.00002E+0\t1.10123E-6\t1.89724E-6\t99.2194E-9\t10.0000E+0\n",
      "\n",
      "-729.412E-3\t-10.0007E-9\t2.00010E+0\t1.10123E-6\t1.89724E-6\t99.2194E-9\t10.0000E+0\t-10.0007E-9\t1.99999E+0\t1.10123E-6\t1.89724E-6\t99.2194E-9\t10.0000E+0\t-10.0007E-9\t2.00014E+0\t1.10123E-6\t1.89724E-6\t99.2194E-9\t10.0000E+0\t-10.0007E-9\t1.99998E+0\t1.10123E-6\t1.89724E-6\t99.2194E-9\t10.0000E+0\n",
      "\n",
      "-713.726E-3\t-10.0007E-9\t2.00020E+0\t1.10123E-6\t1.89724E-6\t99.2194E-9\t10.0000E+0\t-10.0007E-9\t1.99998E+0\t1.10123E-6\t1.89724E-6\t99.2194E-9\t10.0000E+0\t-10.0007E-9\t2.00013E+0\t1.10123E-6\t1.89724E-6\t99.2194E-9\t10.0000E+0\t-10.0007E-9\t1.99995E+0\t1.10123E-6\t1.89724E-6\t99.2194E-9\t10.0000E+0\n",
      "\n",
      "-698.039E-3\t-10.0007E-9\t2.00011E+0\t1.10123E-6\t1.89724E-6\t99.2194E-9\t10.0000E+0\t-10.0007E-9\t1.99993E+0\t1.10123E-6\t1.89724E-6\t99.2194E-9\t10.0000E+0\t-10.0007E-9\t2.00009E+0\t1.10123E-6\t1.89724E-6\t99.2194E-9\t10.0000E+0\t-10.0007E-9\t1.99995E+0\t1.10123E-6\t1.89724E-6\t99.2194E-9\t10.0000E+0\n",
      "\n",
      "-682.353E-3\t-10.0007E-9\t1.99994E+0\t1.10123E-6\t1.89724E-6\t99.2194E-9\t10.0000E+0\t-10.0007E-9\t1.99989E+0\t1.10123E-6\t1.89724E-6\t99.2194E-9\t10.0000E+0\t-10.0007E-9\t2.00008E+0\t1.10123E-6\t1.89724E-6\t99.2194E-9\t10.0000E+0\t-10.0007E-9\t1.99994E+0\t1.10123E-6\t1.89724E-6\t99.2194E-9\t10.0000E+0\n",
      "\n",
      "-666.667E-3\t-10.0007E-9\t2.00009E+0\t1.10123E-6\t1.89724E-6\t99.2194E-9\t10.0000E+0\t-10.0007E-9\t2.00001E+0\t1.10123E-6\t1.89724E-6\t99.2194E-9\t10.0000E+0\t-10.0007E-9\t2.00008E+0\t1.10123E-6\t1.89724E-6\t99.2194E-9\t10.0000E+0\t-10.0007E-9\t1.99995E+0\t1.10123E-6\t1.89724E-6\t99.2194E-9\t10.0000E+0\n",
      "\n",
      "-650.980E-3\t-10.0007E-9\t2.00025E+0\t1.10123E-6\t1.89724E-6\t99.2194E-9\t10.0000E+0\t-10.0007E-9\t1.99996E+0\t1.10123E-6\t1.89724E-6\t99.2194E-9\t10.0000E+0\t-10.0007E-9\t2.00008E+0\t1.10123E-6\t1.89724E-6\t99.2194E-9\t10.0000E+0\t-10.0007E-9\t1.99996E+0\t1.10123E-6\t1.89724E-6\t99.2194E-9\t10.0000E+0\n",
      "\n",
      "-635.294E-3\t-10.0007E-9\t1.99995E+0\t1.10123E-6\t1.89724E-6\t99.2194E-9\t10.0000E+0\t-10.0007E-9\t1.99990E+0\t1.10123E-6\t1.89724E-6\t99.2194E-9\t10.0000E+0\t-10.0007E-9\t2.00008E+0\t1.10123E-6\t1.89724E-6\t99.2194E-9\t10.0000E+0\t-10.0007E-9\t1.99999E+0\t1.10123E-6\t1.89724E-6\t99.2194E-9\t10.0000E+0\n",
      "\n",
      "-619.608E-3\t-10.0007E-9\t2.00002E+0\t1.10123E-6\t1.89724E-6\t99.2194E-9\t10.0000E+0\t-10.0007E-9\t2.00008E+0\t1.10123E-6\t1.89724E-6\t99.2194E-9\t10.0000E+0\t-10.0007E-9\t2.00006E+0\t1.10123E-6\t1.89724E-6\t99.2194E-9\t10.0000E+0\t-10.0007E-9\t2.00001E+0\t1.10123E-6\t1.89724E-6\t99.2194E-9\t10.0000E+0\n",
      "\n",
      "-603.922E-3\t-10.0007E-9\t2.00022E+0\t1.10123E-6\t1.89724E-6\t99.2194E-9\t10.0000E+0\t-10.0007E-9\t2.00006E+0\t1.10123E-6\t1.89724E-6\t99.2194E-9\t10.0000E+0\t-10.0007E-9\t2.00004E+0\t1.10123E-6\t1.89724E-6\t99.2194E-9\t10.0000E+0\t-10.0007E-9\t2.00001E+0\t1.10123E-6\t1.89724E-6\t99.2194E-9\t10.0000E+0\n",
      "\n",
      "-588.235E-3\t-10.0007E-9\t1.99994E+0\t1.10123E-6\t1.89724E-6\t99.2194E-9\t10.0000E+0\t-10.0007E-9\t1.99999E+0\t1.10123E-6\t1.89724E-6\t99.2194E-9\t10.0000E+0\t-10.0007E-9\t1.99999E+0\t1.10123E-6\t1.89724E-6\t99.2194E-9\t10.0000E+0\t-10.0007E-9\t1.99999E+0\t1.10123E-6\t1.89724E-6\t99.2194E-9\t10.0000E+0\n",
      "\n",
      "-572.549E-3\t-10.0007E-9\t1.99989E+0\t1.10123E-6\t1.89724E-6\t99.2194E-9\t10.0000E+0\t-10.0007E-9\t1.99986E+0\t1.10123E-6\t1.89724E-6\t99.2194E-9\t10.0000E+0\t-10.0007E-9\t1.99995E+0\t1.10123E-6\t1.89724E-6\t99.2194E-9\t10.0000E+0\t-10.0007E-9\t1.99996E+0\t1.10123E-6\t1.89724E-6\t99.2194E-9\t10.0000E+0\n",
      "\n",
      "-556.863E-3\t-10.0007E-9\t1.99985E+0\t1.10123E-6\t1.89724E-6\t99.2194E-9\t10.0000E+0\t-10.0007E-9\t2.00003E+0\t1.10123E-6\t1.89724E-6\t99.2194E-9\t10.0000E+0\t-10.0007E-9\t1.99995E+0\t1.10123E-6\t1.89724E-6\t99.2194E-9\t10.0000E+0\t-10.0007E-9\t1.99995E+0\t1.10123E-6\t1.89724E-6\t99.2194E-9\t10.0000E+0\n",
      "\n",
      "-541.176E-3\t-10.0007E-9\t2.00009E+0\t1.10123E-6\t1.89724E-6\t99.2194E-9\t10.0000E+0\t-10.0007E-9\t1.99989E+0\t1.10123E-6\t1.89724E-6\t99.2194E-9\t10.0000E+0\t-10.0007E-9\t2.00002E+0\t1.10123E-6\t1.89724E-6\t99.2194E-9\t10.0000E+0\t-9.99563E-9\t1.99996E+0\t1.10123E-6\t1.89724E-6\t99.2194E-9\t10.0000E+0\n",
      "\n",
      "-525.490E-3\t-10.0007E-9\t2.00006E+0\t1.10123E-6\t1.89724E-6\t99.2194E-9\t10.0000E+0\t-10.0007E-9\t2.00004E+0\t1.10123E-6\t1.89724E-6\t99.2194E-9\t10.0000E+0\t-10.0007E-9\t2.00007E+0\t1.10123E-6\t1.89724E-6\t99.2194E-9\t10.0000E+0\t-9.87303E-9\t1.99997E+0\t1.10123E-6\t1.89724E-6\t99.2194E-9\t10.0000E+0\n",
      "\n",
      "-509.804E-3\t-10.0007E-9\t2.00023E+0\t1.10123E-6\t1.89724E-6\t99.2194E-9\t10.0000E+0\t-9.95561E-9\t1.99990E+0\t1.10123E-6\t1.89724E-6\t99.2194E-9\t10.0000E+0\t-10.0007E-9\t2.00009E+0\t1.10123E-6\t1.89724E-6\t99.2194E-9\t10.0000E+0\t-9.49773E-9\t1.99998E+0\t1.10123E-6\t1.89724E-6\t99.2194E-9\t10.0000E+0\n",
      "\n",
      "-494.118E-3\t-10.0007E-9\t1.99996E+0\t1.10123E-6\t1.89724E-6\t99.2194E-9\t10.0000E+0\t-8.95348E-9\t2.00005E+0\t1.10123E-6\t1.89724E-6\t99.2194E-9\t10.0000E+0\t-10.0007E-9\t2.00007E+0\t1.10123E-6\t1.89724E-6\t99.2194E-9\t10.0000E+0\t-8.83926E-9\t2.00001E+0\t1.10123E-6\t1.89724E-6\t99.2194E-9\t10.0000E+0\n",
      "\n",
      "-478.431E-3\t-10.0007E-9\t2.00005E+0\t1.10123E-6\t1.89724E-6\t99.2194E-9\t10.0000E+0\t-7.83766E-9\t2.00004E+0\t1.10123E-6\t1.89724E-6\t99.2194E-9\t10.0000E+0\t-10.0007E-9\t2.00006E+0\t1.10123E-6\t1.89724E-6\t99.2194E-9\t10.0000E+0\t-8.00612E-9\t2.00000E+0\t1.10123E-6\t1.89724E-6\t99.2194E-9\t10.0000E+0\n",
      "\n",
      "-462.745E-3\t-10.0007E-9\t2.00004E+0\t1.10123E-6\t1.89724E-6\t99.2194E-9\t10.0000E+0\t-7.12444E-9\t2.00001E+0\t1.10123E-6\t1.89724E-6\t99.2194E-9\t10.0000E+0\t-10.0007E-9\t2.00007E+0\t1.10123E-6\t1.89724E-6\t99.2194E-9\t10.0000E+0\t-7.14284E-9\t1.99997E+0\t1.10123E-6\t1.89724E-6\t99.2194E-9\t10.0000E+0\n",
      "\n",
      "-447.059E-3\t-10.0007E-9\t2.00015E+0\t1.10123E-6\t1.89724E-6\t99.2194E-9\t10.0000E+0\t-6.37548E-9\t1.99987E+0\t1.10123E-6\t1.89724E-6\t99.2194E-9\t10.0000E+0\t-10.0007E-9\t2.00012E+0\t1.10123E-6\t1.89724E-6\t99.2194E-9\t10.0000E+0\t-6.34506E-9\t1.99993E+0\t1.10123E-6\t1.89724E-6\t99.2194E-9\t10.0000E+0\n",
      "\n",
      "-431.373E-3\t-10.0007E-9\t2.00016E+0\t1.10123E-6\t1.89724E-6\t99.2194E-9\t10.0000E+0\t-5.53581E-9\t1.99988E+0\t1.10123E-6\t1.89724E-6\t99.2194E-9\t10.0000E+0\t-10.0007E-9\t2.00013E+0\t1.10123E-6\t1.89724E-6\t99.2194E-9\t10.0000E+0\t-5.62428E-9\t1.99991E+0\t1.10123E-6\t1.89724E-6\t99.2194E-9\t10.0000E+0\n",
      "\n",
      "-415.686E-3\t-10.0007E-9\t2.00014E+0\t1.10123E-6\t1.89724E-6\t99.2194E-9\t10.0000E+0\t-4.83297E-9\t1.99995E+0\t1.10123E-6\t1.89724E-6\t99.2194E-9\t10.0000E+0\t-9.99221E-9\t2.00011E+0\t1.10123E-6\t1.89724E-6\t99.2194E-9\t10.0000E+0\t-4.98145E-9\t1.99990E+0\t1.10123E-6\t1.89724E-6\t99.2194E-9\t10.0000E+0\n",
      "\n",
      "-400.000E-3\t-10.0007E-9\t2.00003E+0\t1.10123E-6\t1.89724E-6\t99.2194E-9\t10.0000E+0\t-4.44956E-9\t1.99990E+0\t1.10123E-6\t1.89724E-6\t99.2194E-9\t10.0000E+0\t-9.76132E-9\t2.00008E+0\t1.10123E-6\t1.89724E-6\t99.2194E-9\t10.0000E+0\t-4.45265E-9\t1.99988E+0\t1.10123E-6\t1.89724E-6\t99.2194E-9\t10.0000E+0\n",
      "\n",
      "-384.314E-3\t-9.92500E-9\t2.00001E+0\t1.10123E-6\t1.89724E-6\t99.2194E-9\t10.0000E+0\t-3.94351E-9\t1.99987E+0\t1.10123E-6\t1.89724E-6\t99.2194E-9\t10.0000E+0\t-9.23697E-9\t2.00007E+0\t1.10123E-6\t1.89724E-6\t99.2194E-9\t10.0000E+0\t-4.01160E-9\t1.99983E+0\t1.10123E-6\t1.89724E-6\t99.2194E-9\t10.0000E+0\n",
      "\n",
      "-368.627E-3\t-8.01819E-9\t2.00016E+0\t1.10123E-6\t1.89724E-6\t99.2194E-9\t10.0000E+0\t-3.65059E-9\t1.99967E+0\t1.10123E-6\t1.89724E-6\t99.2194E-9\t10.0000E+0\t-8.41068E-9\t2.00008E+0\t1.10123E-6\t1.89724E-6\t99.2194E-9\t10.0000E+0\t-3.60656E-9\t1.99978E+0\t1.10123E-6\t1.89724E-6\t99.2194E-9\t10.0000E+0\n",
      "\n",
      "-352.941E-3\t-7.56649E-9\t2.00005E+0\t1.10123E-6\t1.89724E-6\t99.2194E-9\t10.0000E+0\t-3.21243E-9\t1.99981E+0\t1.10123E-6\t1.89724E-6\t99.2194E-9\t10.0000E+0\t-7.45281E-9\t2.00011E+0\t1.10123E-6\t1.89724E-6\t99.2194E-9\t10.0000E+0\t-3.20534E-9\t1.99977E+0\t1.10123E-6\t1.89724E-6\t99.2194E-9\t10.0000E+0\n",
      "\n",
      "-337.255E-3\t-6.46892E-9\t2.00013E+0\t1.10123E-6\t1.89724E-6\t99.2194E-9\t10.0000E+0\t-2.76494E-9\t1.99974E+0\t1.10123E-6\t1.89724E-6\t99.2194E-9\t10.0000E+0\t-6.49688E-9\t2.00013E+0\t1.10123E-6\t1.89724E-6\t99.2194E-9\t10.0000E+0\t-2.79786E-9\t1.99978E+0\t1.10123E-6\t1.89724E-6\t99.2194E-9\t10.0000E+0\n",
      "\n",
      "-321.569E-3\t-5.55757E-9\t2.00020E+0\t1.10123E-6\t1.89724E-6\t99.2194E-9\t10.0000E+0\t-2.43758E-9\t1.99981E+0\t1.10123E-6\t1.89724E-6\t99.2194E-9\t10.0000E+0\t-5.67342E-9\t2.00016E+0\t1.10123E-6\t1.89724E-6\t99.2194E-9\t10.0000E+0\t-2.38404E-9\t1.99982E+0\t1.10123E-6\t1.89724E-6\t99.2194E-9\t10.0000E+0\n",
      "\n",
      "-305.882E-3\t-4.77577E-9\t2.00013E+0\t1.10123E-6\t1.89724E-6\t99.2194E-9\t10.0000E+0\t-1.91971E-9\t1.99987E+0\t1.10123E-6\t1.89724E-6\t99.2194E-9\t10.0000E+0\t-4.93845E-9\t2.00019E+0\t1.10123E-6\t1.89724E-6\t99.2194E-9\t10.0000E+0\t-2.00157E-9\t1.99988E+0\t1.10123E-6\t1.89724E-6\t99.2194E-9\t10.0000E+0\n",
      "\n",
      "-290.196E-3\t-4.31157E-9\t2.00035E+0\t1.10123E-6\t1.89724E-6\t99.2194E-9\t10.0000E+0\t-1.58674E-9\t1.99994E+0\t1.10123E-6\t1.89724E-6\t99.2194E-9\t10.0000E+0\t-4.32827E-9\t2.00021E+0\t1.10123E-6\t1.89724E-6\t99.2194E-9\t10.0000E+0\t-1.68636E-9\t1.99995E+0\t1.10123E-6\t1.89724E-6\t99.2194E-9\t10.0000E+0\n",
      "\n",
      "-274.510E-3\t-3.86662E-9\t2.00007E+0\t1.10123E-6\t1.89724E-6\t99.2194E-9\t10.0000E+0\t-1.41584E-9\t2.00007E+0\t1.10123E-6\t1.89724E-6\t99.2194E-9\t10.0000E+0\t-3.79411E-9\t2.00022E+0\t1.10123E-6\t1.89724E-6\t99.2194E-9\t10.0000E+0\t-1.43804E-9\t2.00002E+0\t1.10123E-6\t1.89724E-6\t99.2194E-9\t10.0000E+0\n",
      "\n",
      "-258.824E-3\t-3.17435E-9\t2.00033E+0\t1.10123E-6\t1.89724E-6\t99.2194E-9\t10.0000E+0\t-1.28459E-9\t2.00008E+0\t1.10123E-6\t1.89724E-6\t99.2194E-9\t10.0000E+0\t-3.30134E-9\t2.00023E+0\t1.10123E-6\t1.89724E-6\t99.2194E-9\t10.0000E+0\t-1.24338E-9\t2.00006E+0\t1.10123E-6\t1.89724E-6\t99.2194E-9\t10.0000E+0\n",
      "\n",
      "-243.137E-3\t-2.83194E-9\t2.00026E+0\t1.10123E-6\t1.89724E-6\t99.2194E-9\t10.0000E+0\t-1.02679E-9\t2.00011E+0\t1.10123E-6\t1.89724E-6\t99.2194E-9\t10.0000E+0\t-2.84123E-9\t2.00022E+0\t1.10123E-6\t1.89724E-6\t99.2194E-9\t10.0000E+0\t-1.07093E-9\t2.00009E+0\t1.10123E-6\t1.89724E-6\t99.2194E-9\t10.0000E+0\n",
      "\n",
      "-227.451E-3\t-2.43333E-9\t2.00009E+0\t1.10123E-6\t1.89724E-6\t99.2194E-9\t10.0000E+0\t-881.398E-12\t2.00004E+0\t1.10123E-6\t1.89724E-6\t99.2194E-9\t10.0000E+0\t-2.42095E-9\t2.00022E+0\t1.10123E-6\t1.89724E-6\t99.2194E-9\t10.0000E+0\t-917.598E-12\t2.00011E+0\t1.10123E-6\t1.89724E-6\t99.2194E-9\t10.0000E+0\n",
      "\n",
      "-211.765E-3\t-1.99944E-9\t2.00030E+0\t1.10123E-6\t1.89724E-6\t99.2194E-9\t10.0000E+0\t-794.950E-12\t2.00020E+0\t1.10123E-6\t1.89724E-6\t99.2194E-9\t10.0000E+0\t-2.03885E-9\t2.00022E+0\t1.10123E-6\t1.89724E-6\t99.2194E-9\t10.0000E+0\t-782.385E-12\t2.00012E+0\t1.10123E-6\t1.89724E-6\t99.2194E-9\t10.0000E+0\n",
      "\n",
      "-196.078E-3\t-1.65621E-9\t2.00020E+0\t1.10123E-6\t1.89724E-6\t99.2194E-9\t10.0000E+0\t-677.489E-12\t2.00017E+0\t1.10123E-6\t1.89724E-6\t99.2194E-9\t10.0000E+0\t-1.67584E-9\t2.00024E+0\t1.10123E-6\t1.89724E-6\t99.2194E-9\t10.0000E+0\t-635.803E-12\t2.00009E+0\t1.10123E-6\t1.89724E-6\t99.2194E-9\t10.0000E+0\n",
      "\n",
      "-180.392E-3\t-1.32785E-9\t2.00027E+0\t1.10123E-6\t1.89724E-6\t99.2194E-9\t10.0000E+0\t-516.281E-12\t2.00000E+0\t1.10123E-6\t1.89724E-6\t99.2194E-9\t10.0000E+0\t-1.36125E-9\t2.00027E+0\t1.10123E-6\t1.89724E-6\t99.2194E-9\t10.0000E+0\t-466.909E-12\t2.00003E+0\t1.10123E-6\t1.89724E-6\t99.2194E-9\t10.0000E+0\n",
      "\n",
      "-164.706E-3\t-1.02332E-9\t2.00028E+0\t1.10123E-6\t1.89724E-6\t99.2194E-9\t10.0000E+0\t-193.007E-12\t1.99989E+0\t1.10123E-6\t1.89724E-6\t99.2194E-9\t10.0000E+0\t-1.10752E-9\t2.00030E+0\t1.10123E-6\t1.89724E-6\t99.2194E-9\t10.0000E+0\t-301.901E-12\t1.99995E+0\t1.10123E-6\t1.89724E-6\t99.2194E-9\t10.0000E+0\n",
      "\n",
      "-149.020E-3\t-904.784E-12\t2.00032E+0\t1.10123E-6\t1.89724E-6\t99.2194E-9\t10.0000E+0\t-138.714E-12\t1.99991E+0\t1.10123E-6\t1.89724E-6\t99.2194E-9\t10.0000E+0\t-907.091E-12\t2.00036E+0\t1.10123E-6\t1.89724E-6\t99.2194E-9\t10.0000E+0\t-183.580E-12\t1.99990E+0\t1.10123E-6\t1.89724E-6\t99.2194E-9\t10.0000E+0\n",
      "\n",
      "-133.333E-3\t-750.470E-12\t2.00049E+0\t1.10123E-6\t1.89724E-6\t99.2194E-9\t10.0000E+0\t-113.944E-12\t1.99988E+0\t1.10123E-6\t1.89724E-6\t99.2194E-9\t10.0000E+0\t-738.824E-12\t2.00040E+0\t1.10123E-6\t1.89724E-6\t99.2194E-9\t10.0000E+0\t-122.473E-12\t1.99988E+0\t1.10123E-6\t1.89724E-6\t99.2194E-9\t10.0000E+0\n",
      "\n",
      "-117.647E-3\t-578.100E-12\t2.00041E+0\t1.10123E-6\t1.89724E-6\t99.2194E-9\t10.0000E+0\t-100.302E-12\t1.99983E+0\t1.10123E-6\t1.89724E-6\t99.2194E-9\t10.0000E+0\t-587.041E-12\t2.00042E+0\t1.10123E-6\t1.89724E-6\t99.2194E-9\t10.0000E+0\t-102.977E-12\t1.99987E+0\t1.10123E-6\t1.89724E-6\t99.2194E-9\t10.0000E+0\n",
      "\n",
      "-101.961E-3\t-411.585E-12\t2.00037E+0\t1.10123E-6\t1.89724E-6\t99.2194E-9\t10.0000E+0\t-87.6748E-12\t1.99996E+0\t1.10123E-6\t1.89724E-6\t99.2194E-9\t10.0000E+0\t-449.312E-12\t2.00041E+0\t1.10123E-6\t1.89724E-6\t99.2194E-9\t10.0000E+0\t-90.9715E-12\t1.99984E+0\t1.10123E-6\t1.89724E-6\t99.2194E-9\t10.0000E+0\n",
      "\n",
      "-86.2745E-3\t-319.060E-12\t2.00046E+0\t1.10123E-6\t1.89724E-6\t99.2194E-9\t10.0000E+0\t-83.6932E-12\t1.99977E+0\t1.10123E-6\t1.89724E-6\t99.2194E-9\t10.0000E+0\t-340.869E-12\t2.00040E+0\t1.10123E-6\t1.89724E-6\t99.2194E-9\t10.0000E+0\t-81.6034E-12\t1.99981E+0\t1.10123E-6\t1.89724E-6\t99.2194E-9\t10.0000E+0\n",
      "\n",
      "-70.5882E-3\t-253.809E-12\t2.00035E+0\t1.10123E-6\t1.89724E-6\t99.2194E-9\t10.0000E+0\t-72.6170E-12\t1.99970E+0\t1.10123E-6\t1.89724E-6\t99.2194E-9\t10.0000E+0\t-261.025E-12\t2.00040E+0\t1.10123E-6\t1.89724E-6\t99.2194E-9\t10.0000E+0\t-71.9954E-12\t1.99980E+0\t1.10123E-6\t1.89724E-6\t99.2194E-9\t10.0000E+0\n",
      "\n",
      "-54.9020E-3\t-197.521E-12\t2.00040E+0\t1.10123E-6\t1.89724E-6\t99.2194E-9\t10.0000E+0\t-63.3958E-12\t1.99985E+0\t1.10123E-6\t1.89724E-6\t99.2194E-9\t10.0000E+0\t-199.852E-12\t2.00036E+0\t1.10123E-6\t1.89724E-6\t99.2194E-9\t10.0000E+0\t-60.3950E-12\t1.99977E+0\t1.10123E-6\t1.89724E-6\t99.2194E-9\t10.0000E+0\n",
      "\n",
      "-39.2157E-3\t-141.659E-12\t2.00040E+0\t1.10123E-6\t1.89724E-6\t99.2194E-9\t10.0000E+0\t-48.0679E-12\t1.99983E+0\t1.10123E-6\t1.89724E-6\t99.2194E-9\t10.0000E+0\t-141.749E-12\t2.00032E+0\t1.10123E-6\t1.89724E-6\t99.2194E-9\t10.0000E+0\t-46.2066E-12\t1.99977E+0\t1.10123E-6\t1.89724E-6\t99.2194E-9\t10.0000E+0\n",
      "\n",
      "-23.5294E-3\t-95.9499E-12\t2.00013E+0\t1.10123E-6\t1.89724E-6\t99.2194E-9\t10.0000E+0\t-29.1622E-12\t1.99956E+0\t1.10123E-6\t1.89724E-6\t99.2194E-9\t10.0000E+0\t-80.7655E-12\t2.00029E+0\t1.10123E-6\t1.89724E-6\t99.2194E-9\t10.0000E+0\t-30.2279E-12\t1.99978E+0\t1.10123E-6\t1.89724E-6\t99.2194E-9\t10.0000E+0\n",
      "\n",
      "-7.84314E-3\t-8.82516E-12\t2.00033E+0\t1.10123E-6\t1.89724E-6\t99.2194E-9\t10.0000E+0\t-14.4299E-12\t1.99993E+0\t1.10123E-6\t1.89724E-6\t99.2194E-9\t10.0000E+0\t-15.1294E-12\t2.00027E+0\t1.10123E-6\t1.89724E-6\t99.2194E-9\t10.0000E+0\t-13.5718E-12\t1.99980E+0\t1.10123E-6\t1.89724E-6\t99.2194E-9\t10.0000E+0\n",
      "\n",
      "7.84314E-3\t53.8792E-12\t2.00031E+0\t1.10123E-6\t1.89724E-6\t99.2194E-9\t10.0000E+0\t4.36596E-12\t1.99983E+0\t1.10123E-6\t1.89724E-6\t99.2194E-9\t10.0000E+0\t53.7187E-12\t2.00027E+0\t1.10123E-6\t1.89724E-6\t99.2194E-9\t10.0000E+0\t2.97193E-12\t1.99982E+0\t1.10123E-6\t1.89724E-6\t99.2194E-9\t10.0000E+0\n",
      "\n",
      "23.5294E-3\t119.269E-12\t2.00021E+0\t1.10123E-6\t1.89724E-6\t99.2194E-9\t10.0000E+0\t18.2870E-12\t1.99982E+0\t1.10123E-6\t1.89724E-6\t99.2194E-9\t10.0000E+0\t125.282E-12\t2.00030E+0\t1.10123E-6\t1.89724E-6\t99.2194E-9\t10.0000E+0\t18.7491E-12\t1.99984E+0\t1.10123E-6\t1.89724E-6\t99.2194E-9\t10.0000E+0\n",
      "\n",
      "39.2157E-3\t196.586E-12\t2.00034E+0\t1.10123E-6\t1.89724E-6\t99.2194E-9\t10.0000E+0\t35.7344E-12\t1.99983E+0\t1.10123E-6\t1.89724E-6\t99.2194E-9\t10.0000E+0\t200.504E-12\t2.00032E+0\t1.10123E-6\t1.89724E-6\t99.2194E-9\t10.0000E+0\t34.2859E-12\t1.99985E+0\t1.10123E-6\t1.89724E-6\t99.2194E-9\t10.0000E+0\n",
      "\n",
      "54.9020E-3\t275.943E-12\t2.00043E+0\t1.10123E-6\t1.89724E-6\t99.2194E-9\t10.0000E+0\t47.6758E-12\t1.99988E+0\t1.10123E-6\t1.89724E-6\t99.2194E-9\t10.0000E+0\t286.666E-12\t2.00036E+0\t1.10123E-6\t1.89724E-6\t99.2194E-9\t10.0000E+0\t51.5498E-12\t1.99988E+0\t1.10123E-6\t1.89724E-6\t99.2194E-9\t10.0000E+0\n",
      "\n",
      "70.5882E-3\t370.045E-12\t2.00030E+0\t1.10123E-6\t1.89724E-6\t99.2194E-9\t10.0000E+0\t65.7921E-12\t1.99995E+0\t1.10123E-6\t1.89724E-6\t99.2194E-9\t10.0000E+0\t385.060E-12\t2.00038E+0\t1.10123E-6\t1.89724E-6\t99.2194E-9\t10.0000E+0\t74.0293E-12\t1.99988E+0\t1.10123E-6\t1.89724E-6\t99.2194E-9\t10.0000E+0\n",
      "\n",
      "86.2745E-3\t497.396E-12\t2.00050E+0\t1.10123E-6\t1.89724E-6\t99.2194E-9\t10.0000E+0\t98.6737E-12\t1.99986E+0\t1.10123E-6\t1.89724E-6\t99.2194E-9\t10.0000E+0\t495.652E-12\t2.00035E+0\t1.10123E-6\t1.89724E-6\t99.2194E-9\t10.0000E+0\t104.783E-12\t1.99990E+0\t1.10123E-6\t1.89724E-6\t99.2194E-9\t10.0000E+0\n",
      "\n",
      "101.961E-3\t607.533E-12\t2.00027E+0\t1.10123E-6\t1.89724E-6\t99.2194E-9\t10.0000E+0\t138.333E-12\t1.99980E+0\t1.10123E-6\t1.89724E-6\t99.2194E-9\t10.0000E+0\t616.919E-12\t2.00030E+0\t1.10123E-6\t1.89724E-6\t99.2194E-9\t10.0000E+0\t147.591E-12\t1.99990E+0\t1.10123E-6\t1.89724E-6\t99.2194E-9\t10.0000E+0\n",
      "\n",
      "117.647E-3\t739.676E-12\t2.00014E+0\t1.10123E-6\t1.89724E-6\t99.2194E-9\t10.0000E+0\t190.018E-12\t2.00010E+0\t1.10123E-6\t1.89724E-6\t99.2194E-9\t10.0000E+0\t752.485E-12\t2.00026E+0\t1.10123E-6\t1.89724E-6\t99.2194E-9\t10.0000E+0\t205.957E-12\t1.99991E+0\t1.10123E-6\t1.89724E-6\t99.2194E-9\t10.0000E+0\n",
      "\n",
      "133.333E-3\t882.457E-12\t2.00026E+0\t1.10123E-6\t1.89724E-6\t99.2194E-9\t10.0000E+0\t268.296E-12\t1.99977E+0\t1.10123E-6\t1.89724E-6\t99.2194E-9\t10.0000E+0\t906.210E-12\t2.00025E+0\t1.10123E-6\t1.89724E-6\t99.2194E-9\t10.0000E+0\t285.928E-12\t1.99991E+0\t1.10123E-6\t1.89724E-6\t99.2194E-9\t10.0000E+0\n",
      "\n",
      "149.020E-3\t1.07410E-9\t2.00030E+0\t1.10123E-6\t1.89724E-6\t99.2194E-9\t10.0000E+0\t367.753E-12\t1.99997E+0\t1.10123E-6\t1.89724E-6\t99.2194E-9\t10.0000E+0\t1.07518E-9\t2.00027E+0\t1.10123E-6\t1.89724E-6\t99.2194E-9\t10.0000E+0\t390.641E-12\t1.99991E+0\t1.10123E-6\t1.89724E-6\t99.2194E-9\t10.0000E+0\n",
      "\n",
      "164.706E-3\t1.26658E-9\t2.00029E+0\t1.10123E-6\t1.89724E-6\t99.2194E-9\t10.0000E+0\t511.264E-12\t1.99991E+0\t1.10123E-6\t1.89724E-6\t99.2194E-9\t10.0000E+0\t1.25366E-9\t2.00026E+0\t1.10123E-6\t1.89724E-6\t99.2194E-9\t10.0000E+0\t522.492E-12\t1.99990E+0\t1.10123E-6\t1.89724E-6\t99.2194E-9\t10.0000E+0\n",
      "\n",
      "180.392E-3\t1.41641E-9\t2.00029E+0\t1.10123E-6\t1.89724E-6\t99.2194E-9\t10.0000E+0\t657.121E-12\t1.99985E+0\t1.10123E-6\t1.89724E-6\t99.2194E-9\t10.0000E+0\t1.44697E-9\t2.00024E+0\t1.10123E-6\t1.89724E-6\t99.2194E-9\t10.0000E+0\t682.161E-12\t1.99990E+0\t1.10123E-6\t1.89724E-6\t99.2194E-9\t10.0000E+0\n",
      "\n",
      "196.078E-3\t1.62530E-9\t2.00005E+0\t1.10123E-6\t1.89724E-6\t99.2194E-9\t10.0000E+0\t849.781E-12\t1.99996E+0\t1.10123E-6\t1.89724E-6\t99.2194E-9\t10.0000E+0\t1.67805E-9\t2.00023E+0\t1.10123E-6\t1.89724E-6\t99.2194E-9\t10.0000E+0\t869.867E-12\t1.99989E+0\t1.10123E-6\t1.89724E-6\t99.2194E-9\t10.0000E+0\n",
      "\n",
      "211.765E-3\t1.90724E-9\t2.00032E+0\t1.10123E-6\t1.89724E-6\t99.2194E-9\t10.0000E+0\t1.07157E-9\t1.99985E+0\t1.10123E-6\t1.89724E-6\t99.2194E-9\t10.0000E+0\t1.95840E-9\t2.00024E+0\t1.10123E-6\t1.89724E-6\t99.2194E-9\t10.0000E+0\t1.07898E-9\t1.99986E+0\t1.10123E-6\t1.89724E-6\t99.2194E-9\t10.0000E+0\n",
      "\n",
      "227.451E-3\t2.30165E-9\t2.00033E+0\t1.10123E-6\t1.89724E-6\t99.2194E-9\t10.0000E+0\t1.30644E-9\t1.99984E+0\t1.10123E-6\t1.89724E-6\t99.2194E-9\t10.0000E+0\t2.27236E-9\t2.00023E+0\t1.10123E-6\t1.89724E-6\t99.2194E-9\t10.0000E+0\t1.29617E-9\t1.99984E+0\t1.10123E-6\t1.89724E-6\t99.2194E-9\t10.0000E+0\n",
      "\n",
      "243.137E-3\t2.61796E-9\t2.00018E+0\t1.10123E-6\t1.89724E-6\t99.2194E-9\t10.0000E+0\t1.52465E-9\t1.99971E+0\t1.10123E-6\t1.89724E-6\t99.2194E-9\t10.0000E+0\t2.59238E-9\t2.00021E+0\t1.10123E-6\t1.89724E-6\t99.2194E-9\t10.0000E+0\t1.53191E-9\t1.99987E+0\t1.10123E-6\t1.89724E-6\t99.2194E-9\t10.0000E+0\n",
      "\n",
      "258.824E-3\t2.88112E-9\t2.00010E+0\t1.10123E-6\t1.89724E-6\t99.2194E-9\t10.0000E+0\t1.70646E-9\t2.00000E+0\t1.10123E-6\t1.89724E-6\t99.2194E-9\t10.0000E+0\t2.94860E-9\t2.00018E+0\t1.10123E-6\t1.89724E-6\t99.2194E-9\t10.0000E+0\t1.78574E-9\t1.99993E+0\t1.10123E-6\t1.89724E-6\t99.2194E-9\t10.0000E+0\n",
      "\n",
      "274.510E-3\t3.21217E-9\t2.00014E+0\t1.10123E-6\t1.89724E-6\t99.2194E-9\t10.0000E+0\t2.11981E-9\t2.00010E+0\t1.10123E-6\t1.89724E-6\t99.2194E-9\t10.0000E+0\t3.34423E-9\t2.00020E+0\t1.10123E-6\t1.89724E-6\t99.2194E-9\t10.0000E+0\t2.05738E-9\t2.00000E+0\t1.10123E-6\t1.89724E-6\t99.2194E-9\t10.0000E+0\n",
      "\n",
      "290.196E-3\t3.92098E-9\t2.00038E+0\t1.10123E-6\t1.89724E-6\t99.2194E-9\t10.0000E+0\t2.32603E-9\t1.99994E+0\t1.10123E-6\t1.89724E-6\t99.2194E-9\t10.0000E+0\t3.84195E-9\t2.00024E+0\t1.10123E-6\t1.89724E-6\t99.2194E-9\t10.0000E+0\t2.33115E-9\t2.00005E+0\t1.10123E-6\t1.89724E-6\t99.2194E-9\t10.0000E+0\n",
      "\n",
      "305.882E-3\t4.18894E-9\t2.00018E+0\t1.10123E-6\t1.89724E-6\t99.2194E-9\t10.0000E+0\t2.59459E-9\t2.00019E+0\t1.10123E-6\t1.89724E-6\t99.2194E-9\t10.0000E+0\t4.42131E-9\t2.00027E+0\t1.10123E-6\t1.89724E-6\t99.2194E-9\t10.0000E+0\t2.62204E-9\t2.00007E+0\t1.10123E-6\t1.89724E-6\t99.2194E-9\t10.0000E+0\n",
      "\n",
      "321.569E-3\t5.18663E-9\t2.00030E+0\t1.10123E-6\t1.89724E-6\t99.2194E-9\t10.0000E+0\t2.85941E-9\t1.99999E+0\t1.10123E-6\t1.89724E-6\t99.2194E-9\t10.0000E+0\t5.04375E-9\t2.00030E+0\t1.10123E-6\t1.89724E-6\t99.2194E-9\t10.0000E+0\t2.90716E-9\t2.00006E+0\t1.10123E-6\t1.89724E-6\t99.2194E-9\t10.0000E+0\n",
      "\n",
      "337.255E-3\t5.70109E-9\t2.00036E+0\t1.10123E-6\t1.89724E-6\t99.2194E-9\t10.0000E+0\t3.32300E-9\t2.00019E+0\t1.10123E-6\t1.89724E-6\t99.2194E-9\t10.0000E+0\t5.74295E-9\t2.00031E+0\t1.10123E-6\t1.89724E-6\t99.2194E-9\t10.0000E+0\t3.23964E-9\t2.00005E+0\t1.10123E-6\t1.89724E-6\t99.2194E-9\t10.0000E+0\n",
      "\n",
      "352.941E-3\t6.19621E-9\t2.00032E+0\t1.10123E-6\t1.89724E-6\t99.2194E-9\t10.0000E+0\t3.39948E-9\t1.99987E+0\t1.10123E-6\t1.89724E-6\t99.2194E-9\t10.0000E+0\t6.65716E-9\t2.00031E+0\t1.10123E-6\t1.89724E-6\t99.2194E-9\t10.0000E+0\t3.66645E-9\t2.00004E+0\t1.10123E-6\t1.89724E-6\t99.2194E-9\t10.0000E+0\n",
      "\n",
      "368.627E-3\t7.62896E-9\t2.00031E+0\t1.10123E-6\t1.89724E-6\t99.2194E-9\t10.0000E+0\t4.12461E-9\t2.00006E+0\t1.10123E-6\t1.89724E-6\t99.2194E-9\t10.0000E+0\t7.74205E-9\t2.00026E+0\t1.10123E-6\t1.89724E-6\t99.2194E-9\t10.0000E+0\t4.20276E-9\t2.00005E+0\t1.10123E-6\t1.89724E-6\t99.2194E-9\t10.0000E+0\n",
      "\n",
      "384.314E-3\t9.34740E-9\t2.00016E+0\t1.10123E-6\t1.89724E-6\t99.2194E-9\t10.0000E+0\t4.95634E-9\t2.00016E+0\t1.10123E-6\t1.89724E-6\t99.2194E-9\t10.0000E+0\t8.80781E-9\t2.00020E+0\t1.10123E-6\t1.89724E-6\t99.2194E-9\t10.0000E+0\t4.79036E-9\t2.00004E+0\t1.10123E-6\t1.89724E-6\t99.2194E-9\t10.0000E+0\n",
      "\n",
      "400.000E-3\t9.96446E-9\t2.00009E+0\t1.10123E-6\t1.89724E-6\t99.2194E-9\t10.0000E+0\t5.40020E-9\t2.00001E+0\t1.10123E-6\t1.89724E-6\t99.2194E-9\t10.0000E+0\t9.56991E-9\t2.00016E+0\t1.10123E-6\t1.89724E-6\t99.2194E-9\t10.0000E+0\t5.42834E-9\t2.00003E+0\t1.10123E-6\t1.89724E-6\t99.2194E-9\t10.0000E+0\n",
      "\n",
      "415.686E-3\t9.99965E-9\t2.00016E+0\t1.10123E-6\t1.89724E-6\t99.2194E-9\t10.0000E+0\t5.84846E-9\t1.99992E+0\t1.10123E-6\t1.89724E-6\t99.2194E-9\t10.0000E+0\t9.91847E-9\t2.00016E+0\t1.10123E-6\t1.89724E-6\t99.2194E-9\t10.0000E+0\t6.13038E-9\t1.99997E+0\t1.10123E-6\t1.89724E-6\t99.2194E-9\t10.0000E+0\n",
      "\n",
      "431.373E-3\t9.99965E-9\t2.00024E+0\t1.10123E-6\t1.89724E-6\t99.2194E-9\t10.0000E+0\t6.91840E-9\t1.99997E+0\t1.10123E-6\t1.89724E-6\t99.2194E-9\t10.0000E+0\t9.99572E-9\t2.00017E+0\t1.10123E-6\t1.89724E-6\t99.2194E-9\t10.0000E+0\t7.08353E-9\t1.99993E+0\t1.10123E-6\t1.89724E-6\t99.2194E-9\t10.0000E+0\n",
      "\n",
      "447.059E-3\t9.99965E-9\t2.00016E+0\t1.10123E-6\t1.89724E-6\t99.2194E-9\t10.0000E+0\t7.94832E-9\t1.99983E+0\t1.10123E-6\t1.89724E-6\t99.2194E-9\t10.0000E+0\t9.99965E-9\t2.00014E+0\t1.10123E-6\t1.89724E-6\t99.2194E-9\t10.0000E+0\t8.18444E-9\t1.99989E+0\t1.10123E-6\t1.89724E-6\t99.2194E-9\t10.0000E+0\n",
      "\n",
      "462.745E-3\t9.99965E-9\t2.00007E+0\t1.10123E-6\t1.89724E-6\t99.2194E-9\t10.0000E+0\t9.99965E-9\t1.99993E+0\t1.10123E-6\t1.89724E-6\t99.2194E-9\t10.0000E+0\t9.99965E-9\t2.00008E+0\t1.10123E-6\t1.89724E-6\t99.2194E-9\t10.0000E+0\t9.17037E-9\t1.99988E+0\t1.10123E-6\t1.89724E-6\t99.2194E-9\t10.0000E+0\n",
      "\n",
      "478.431E-3\t9.99965E-9\t1.99999E+0\t1.10123E-6\t1.89724E-6\t99.2194E-9\t10.0000E+0\t9.99965E-9\t1.99975E+0\t1.10123E-6\t1.89724E-6\t99.2194E-9\t10.0000E+0\t9.99965E-9\t2.00006E+0\t1.10123E-6\t1.89724E-6\t99.2194E-9\t10.0000E+0\t9.77051E-9\t1.99990E+0\t1.10123E-6\t1.89724E-6\t99.2194E-9\t10.0000E+0\n",
      "\n",
      "494.118E-3\t9.99965E-9\t2.00000E+0\t1.10123E-6\t1.89724E-6\t99.2194E-9\t10.0000E+0\t9.99965E-9\t2.00007E+0\t1.10123E-6\t1.89724E-6\t99.2194E-9\t10.0000E+0\t9.99965E-9\t2.00009E+0\t1.10123E-6\t1.89724E-6\t99.2194E-9\t10.0000E+0\t9.99965E-9\t1.99993E+0\t1.10123E-6\t1.89724E-6\t99.2194E-9\t10.0000E+0\n",
      "\n",
      "509.804E-3\t9.99965E-9\t2.00026E+0\t1.10123E-6\t1.89724E-6\t99.2194E-9\t10.0000E+0\t9.99965E-9\t1.99997E+0\t1.10123E-6\t1.89724E-6\t99.2194E-9\t10.0000E+0\t9.99965E-9\t2.00012E+0\t1.10123E-6\t1.89724E-6\t99.2194E-9\t10.0000E+0\t9.99965E-9\t1.99992E+0\t1.10123E-6\t1.89724E-6\t99.2194E-9\t10.0000E+0\n",
      "\n",
      "525.490E-3\t9.99965E-9\t2.00015E+0\t1.10123E-6\t1.89724E-6\t99.2194E-9\t10.0000E+0\t9.99965E-9\t1.99981E+0\t1.10123E-6\t1.89724E-6\t99.2194E-9\t10.0000E+0\t9.99965E-9\t2.00014E+0\t1.10123E-6\t1.89724E-6\t99.2194E-9\t10.0000E+0\t9.99965E-9\t1.99991E+0\t1.10123E-6\t1.89724E-6\t99.2194E-9\t10.0000E+0\n",
      "\n",
      "541.176E-3\t9.99965E-9\t2.00009E+0\t1.10123E-6\t1.89724E-6\t99.2194E-9\t10.0000E+0\t9.99965E-9\t1.99989E+0\t1.10123E-6\t1.89724E-6\t99.2194E-9\t10.0000E+0\t9.99965E-9\t2.00013E+0\t1.10123E-6\t1.89724E-6\t99.2194E-9\t10.0000E+0\t9.99965E-9\t1.99993E+0\t1.10123E-6\t1.89724E-6\t99.2194E-9\t10.0000E+0\n",
      "\n",
      "556.863E-3\t9.99965E-9\t2.00012E+0\t1.10123E-6\t1.89724E-6\t99.2194E-9\t10.0000E+0\t9.99965E-9\t1.99994E+0\t1.10123E-6\t1.89724E-6\t99.2194E-9\t10.0000E+0\t9.99965E-9\t2.00011E+0\t1.10123E-6\t1.89724E-6\t99.2194E-9\t10.0000E+0\t9.99965E-9\t1.99999E+0\t1.10123E-6\t1.89724E-6\t99.2194E-9\t10.0000E+0\n",
      "\n",
      "572.549E-3\t9.99965E-9\t2.00006E+0\t1.10123E-6\t1.89724E-6\t99.2194E-9\t10.0000E+0\t9.99965E-9\t2.00023E+0\t1.10123E-6\t1.89724E-6\t99.2194E-9\t10.0000E+0\t9.99965E-9\t2.00010E+0\t1.10123E-6\t1.89724E-6\t99.2194E-9\t10.0000E+0\t9.99965E-9\t2.00003E+0\t1.10123E-6\t1.89724E-6\t99.2194E-9\t10.0000E+0\n",
      "\n",
      "588.235E-3\t9.99965E-9\t2.00017E+0\t1.10123E-6\t1.89724E-6\t99.2194E-9\t10.0000E+0\t9.99965E-9\t1.99998E+0\t1.10123E-6\t1.89724E-6\t99.2194E-9\t10.0000E+0\t9.99965E-9\t2.00011E+0\t1.10123E-6\t1.89724E-6\t99.2194E-9\t10.0000E+0\t9.99965E-9\t2.00000E+0\t1.10123E-6\t1.89724E-6\t99.2194E-9\t10.0000E+0\n",
      "\n",
      "603.922E-3\t9.99965E-9\t2.00005E+0\t1.10123E-6\t1.89724E-6\t99.2194E-9\t10.0000E+0\t9.99965E-9\t1.99990E+0\t1.10123E-6\t1.89724E-6\t99.2194E-9\t10.0000E+0\t9.99965E-9\t2.00012E+0\t1.10123E-6\t1.89724E-6\t99.2194E-9\t10.0000E+0\t9.99965E-9\t1.99996E+0\t1.10123E-6\t1.89724E-6\t99.2194E-9\t10.0000E+0\n",
      "\n",
      "619.608E-3\t9.99965E-9\t2.00012E+0\t1.10123E-6\t1.89724E-6\t99.2194E-9\t10.0000E+0\t9.99965E-9\t1.99986E+0\t1.10123E-6\t1.89724E-6\t99.2194E-9\t10.0000E+0\t9.99965E-9\t2.00014E+0\t1.10123E-6\t1.89724E-6\t99.2194E-9\t10.0000E+0\t9.99965E-9\t1.99990E+0\t1.10123E-6\t1.89724E-6\t99.2194E-9\t10.0000E+0\n",
      "\n",
      "635.294E-3\t9.99965E-9\t2.00022E+0\t1.10123E-6\t1.89724E-6\t99.2194E-9\t10.0000E+0\t9.99965E-9\t2.00003E+0\t1.10123E-6\t1.89724E-6\t99.2194E-9\t10.0000E+0\t9.99965E-9\t2.00015E+0\t1.10123E-6\t1.89724E-6\t99.2194E-9\t10.0000E+0\t9.99965E-9\t1.99984E+0\t1.10123E-6\t1.89724E-6\t99.2194E-9\t10.0000E+0\n",
      "\n",
      "650.980E-3\t9.99965E-9\t2.00021E+0\t1.10123E-6\t1.89724E-6\t99.2194E-9\t10.0000E+0\t9.99965E-9\t1.99969E+0\t1.10123E-6\t1.89724E-6\t99.2194E-9\t10.0000E+0\t9.99965E-9\t2.00014E+0\t1.10123E-6\t1.89724E-6\t99.2194E-9\t10.0000E+0\t9.99965E-9\t1.99976E+0\t1.10123E-6\t1.89724E-6\t99.2194E-9\t10.0000E+0\n",
      "\n",
      "666.667E-3\t9.99965E-9\t1.99999E+0\t1.10123E-6\t1.89724E-6\t99.2194E-9\t10.0000E+0\t9.99965E-9\t1.99956E+0\t1.10123E-6\t1.89724E-6\t99.2194E-9\t10.0000E+0\t9.99965E-9\t2.00010E+0\t1.10123E-6\t1.89724E-6\t99.2194E-9\t10.0000E+0\t9.99965E-9\t1.99969E+0\t1.10123E-6\t1.89724E-6\t99.2194E-9\t10.0000E+0\n",
      "\n",
      "682.353E-3\t9.99965E-9\t2.00010E+0\t1.10123E-6\t1.89724E-6\t99.2194E-9\t10.0000E+0\t9.99965E-9\t1.99975E+0\t1.10123E-6\t1.89724E-6\t99.2194E-9\t10.0000E+0\t9.99965E-9\t2.00006E+0\t1.10123E-6\t1.89724E-6\t99.2194E-9\t10.0000E+0\t9.99965E-9\t1.99966E+0\t1.10123E-6\t1.89724E-6\t99.2194E-9\t10.0000E+0\n",
      "\n",
      "698.039E-3\t9.99965E-9\t2.00009E+0\t1.10123E-6\t1.89724E-6\t99.2194E-9\t10.0000E+0\t9.99965E-9\t1.99960E+0\t1.10123E-6\t1.89724E-6\t99.2194E-9\t10.0000E+0\t9.99965E-9\t2.00002E+0\t1.10123E-6\t1.89724E-6\t99.2194E-9\t10.0000E+0\t9.99965E-9\t1.99969E+0\t1.10123E-6\t1.89724E-6\t99.2194E-9\t10.0000E+0\n",
      "\n",
      "713.726E-3\t9.99965E-9\t1.99988E+0\t1.10123E-6\t1.89724E-6\t99.2194E-9\t10.0000E+0\t9.99965E-9\t1.99975E+0\t1.10123E-6\t1.89724E-6\t99.2194E-9\t10.0000E+0\t9.99965E-9\t1.99998E+0\t1.10123E-6\t1.89724E-6\t99.2194E-9\t10.0000E+0\t9.99965E-9\t1.99972E+0\t1.10123E-6\t1.89724E-6\t99.2194E-9\t10.0000E+0\n",
      "\n",
      "729.412E-3\t9.99965E-9\t1.99995E+0\t1.10123E-6\t1.89724E-6\t99.2194E-9\t10.0000E+0\t9.99965E-9\t1.99979E+0\t1.10123E-6\t1.89724E-6\t99.2194E-9\t10.0000E+0\t9.99965E-9\t1.99994E+0\t1.10123E-6\t1.89724E-6\t99.2194E-9\t10.0000E+0\t9.99965E-9\t1.99974E+0\t1.10123E-6\t1.89724E-6\t99.2194E-9\t10.0000E+0\n",
      "\n",
      "745.098E-3\t9.99965E-9\t1.99993E+0\t1.10123E-6\t1.89724E-6\t99.2194E-9\t10.0000E+0\t9.99965E-9\t1.99969E+0\t1.10123E-6\t1.89724E-6\t99.2194E-9\t10.0000E+0\t9.99965E-9\t1.99992E+0\t1.10123E-6\t1.89724E-6\t99.2194E-9\t10.0000E+0\t9.99965E-9\t1.99976E+0\t1.10123E-6\t1.89724E-6\t99.2194E-9\t10.0000E+0\n",
      "\n",
      "760.784E-3\t9.99965E-9\t1.99996E+0\t1.10123E-6\t1.89724E-6\t99.2194E-9\t10.0000E+0\t9.99965E-9\t1.99983E+0\t1.10123E-6\t1.89724E-6\t99.2194E-9\t10.0000E+0\t9.99965E-9\t1.99994E+0\t1.10123E-6\t1.89724E-6\t99.2194E-9\t10.0000E+0\t9.99965E-9\t1.99974E+0\t1.10123E-6\t1.89724E-6\t99.2194E-9\t10.0000E+0\n",
      "\n",
      "776.471E-3\t9.99965E-9\t1.99984E+0\t1.10123E-6\t1.89724E-6\t99.2194E-9\t10.0000E+0\t9.99965E-9\t1.99973E+0\t1.10123E-6\t1.89724E-6\t99.2194E-9\t10.0000E+0\t9.99965E-9\t1.99995E+0\t1.10123E-6\t1.89724E-6\t99.2194E-9\t10.0000E+0\t9.99965E-9\t1.99971E+0\t1.10123E-6\t1.89724E-6\t99.2194E-9\t10.0000E+0\n",
      "\n",
      "792.157E-3\t9.99965E-9\t2.00008E+0\t1.10123E-6\t1.89724E-6\t99.2194E-9\t10.0000E+0\t9.99965E-9\t1.99961E+0\t1.10123E-6\t1.89724E-6\t99.2194E-9\t10.0000E+0\t9.99965E-9\t1.99997E+0\t1.10123E-6\t1.89724E-6\t99.2194E-9\t10.0000E+0\t9.99965E-9\t1.99965E+0\t1.10123E-6\t1.89724E-6\t99.2194E-9\t10.0000E+0\n",
      "\n",
      "807.843E-3\t9.99965E-9\t1.99998E+0\t1.10123E-6\t1.89724E-6\t99.2194E-9\t10.0000E+0\t9.99965E-9\t1.99963E+0\t1.10123E-6\t1.89724E-6\t99.2194E-9\t10.0000E+0\t9.99965E-9\t1.99998E+0\t1.10123E-6\t1.89724E-6\t99.2194E-9\t10.0000E+0\t9.99965E-9\t1.99960E+0\t1.10123E-6\t1.89724E-6\t99.2194E-9\t10.0000E+0\n",
      "\n",
      "823.529E-3\t9.99965E-9\t1.99997E+0\t1.10123E-6\t1.89724E-6\t99.2194E-9\t10.0000E+0\t9.99965E-9\t1.99947E+0\t1.10123E-6\t1.89724E-6\t99.2194E-9\t10.0000E+0\t9.99965E-9\t1.99998E+0\t1.10123E-6\t1.89724E-6\t99.2194E-9\t10.0000E+0\t9.99965E-9\t1.99958E+0\t1.10123E-6\t1.89724E-6\t99.2194E-9\t10.0000E+0\n",
      "\n",
      "839.216E-3\t9.99965E-9\t1.99992E+0\t1.10123E-6\t1.89724E-6\t99.2194E-9\t10.0000E+0\t9.99965E-9\t1.99966E+0\t1.10123E-6\t1.89724E-6\t99.2194E-9\t10.0000E+0\t9.99965E-9\t1.99999E+0\t1.10123E-6\t1.89724E-6\t99.2194E-9\t10.0000E+0\t9.99965E-9\t1.99960E+0\t1.10123E-6\t1.89724E-6\t99.2194E-9\t10.0000E+0\n",
      "\n",
      "854.902E-3\t9.99965E-9\t2.00005E+0\t1.10123E-6\t1.89724E-6\t99.2194E-9\t10.0000E+0\t9.99965E-9\t1.99961E+0\t1.10123E-6\t1.89724E-6\t99.2194E-9\t10.0000E+0\t9.99965E-9\t2.00003E+0\t1.10123E-6\t1.89724E-6\t99.2194E-9\t10.0000E+0\t9.99965E-9\t1.99964E+0\t1.10123E-6\t1.89724E-6\t99.2194E-9\t10.0000E+0\n",
      "\n",
      "870.588E-3\t9.99965E-9\t2.00010E+0\t1.10123E-6\t1.89724E-6\t99.2194E-9\t10.0000E+0\t9.99965E-9\t1.99970E+0\t1.10123E-6\t1.89724E-6\t99.2194E-9\t10.0000E+0\t9.99965E-9\t2.00004E+0\t1.10123E-6\t1.89724E-6\t99.2194E-9\t10.0000E+0\t9.99965E-9\t1.99967E+0\t1.10123E-6\t1.89724E-6\t99.2194E-9\t10.0000E+0\n",
      "\n",
      "886.275E-3\t9.99965E-9\t2.00008E+0\t1.10123E-6\t1.89724E-6\t99.2194E-9\t10.0000E+0\t9.99965E-9\t1.99971E+0\t1.10123E-6\t1.89724E-6\t99.2194E-9\t10.0000E+0\t9.99965E-9\t2.00000E+0\t1.10123E-6\t1.89724E-6\t99.2194E-9\t10.0000E+0\t9.99965E-9\t1.99965E+0\t1.10123E-6\t1.89724E-6\t99.2194E-9\t10.0000E+0\n",
      "\n",
      "901.961E-3\t9.99965E-9\t1.99985E+0\t1.10123E-6\t1.89724E-6\t99.2194E-9\t10.0000E+0\t9.99965E-9\t1.99960E+0\t1.10123E-6\t1.89724E-6\t99.2194E-9\t10.0000E+0\t9.99965E-9\t1.99994E+0\t1.10123E-6\t1.89724E-6\t99.2194E-9\t10.0000E+0\t9.99965E-9\t1.99963E+0\t1.10123E-6\t1.89724E-6\t99.2194E-9\t10.0000E+0\n",
      "\n",
      "917.647E-3\t9.99965E-9\t1.99981E+0\t1.10123E-6\t1.89724E-6\t99.2194E-9\t10.0000E+0\t9.99965E-9\t1.99953E+0\t1.10123E-6\t1.89724E-6\t99.2194E-9\t10.0000E+0\t9.99965E-9\t1.99990E+0\t1.10123E-6\t1.89724E-6\t99.2194E-9\t10.0000E+0\t9.99965E-9\t1.99961E+0\t1.10123E-6\t1.89724E-6\t99.2194E-9\t10.0000E+0\n",
      "\n",
      "933.333E-3\t9.99965E-9\t1.99995E+0\t1.10123E-6\t1.89724E-6\t99.2194E-9\t10.0000E+0\t9.99965E-9\t1.99966E+0\t1.10123E-6\t1.89724E-6\t99.2194E-9\t10.0000E+0\t9.99965E-9\t1.99989E+0\t1.10123E-6\t1.89724E-6\t99.2194E-9\t10.0000E+0\t9.99965E-9\t1.99962E+0\t1.10123E-6\t1.89724E-6\t99.2194E-9\t10.0000E+0\n",
      "\n",
      "949.020E-3\t9.99965E-9\t1.99997E+0\t1.10123E-6\t1.89724E-6\t99.2194E-9\t10.0000E+0\t9.99965E-9\t1.99966E+0\t1.10123E-6\t1.89724E-6\t99.2194E-9\t10.0000E+0\t9.99965E-9\t1.99988E+0\t1.10123E-6\t1.89724E-6\t99.2194E-9\t10.0000E+0\t9.99965E-9\t1.99966E+0\t1.10123E-6\t1.89724E-6\t99.2194E-9\t10.0000E+0\n",
      "\n",
      "964.706E-3\t9.99965E-9\t1.99974E+0\t1.10123E-6\t1.89724E-6\t99.2194E-9\t10.0000E+0\t9.99965E-9\t1.99965E+0\t1.10123E-6\t1.89724E-6\t99.2194E-9\t10.0000E+0\t9.99965E-9\t1.99985E+0\t1.10123E-6\t1.89724E-6\t99.2194E-9\t10.0000E+0\t9.99965E-9\t1.99968E+0\t1.10123E-6\t1.89724E-6\t99.2194E-9\t10.0000E+0\n",
      "\n",
      "980.392E-3\t9.99965E-9\t1.99983E+0\t1.10123E-6\t1.89724E-6\t99.2194E-9\t10.0000E+0\t9.99965E-9\t1.99979E+0\t1.10123E-6\t1.89724E-6\t99.2194E-9\t10.0000E+0\t9.99965E-9\t1.99983E+0\t1.10123E-6\t1.89724E-6\t99.2194E-9\t10.0000E+0\t9.99965E-9\t1.99971E+0\t1.10123E-6\t1.89724E-6\t99.2194E-9\t10.0000E+0\n",
      "\n",
      "996.078E-3\t9.99965E-9\t1.99982E+0\t1.10123E-6\t1.89724E-6\t99.2194E-9\t10.0000E+0\t9.99965E-9\t1.99962E+0\t1.10123E-6\t1.89724E-6\t99.2194E-9\t10.0000E+0\t9.99965E-9\t1.99983E+0\t1.10123E-6\t1.89724E-6\t99.2194E-9\t10.0000E+0\t9.99965E-9\t1.99974E+0\t1.10123E-6\t1.89724E-6\t99.2194E-9\t10.0000E+0\n",
      "\n",
      "1.01176E+0\t9.99965E-9\t1.99990E+0\t1.10123E-6\t1.89724E-6\t99.2194E-9\t10.0000E+0\t9.99965E-9\t1.99982E+0\t1.10123E-6\t1.89724E-6\t99.2194E-9\t10.0000E+0\t9.99965E-9\t1.99985E+0\t1.10123E-6\t1.89724E-6\t99.2194E-9\t10.0000E+0\t9.99965E-9\t1.99977E+0\t1.10123E-6\t1.89724E-6\t99.2194E-9\t10.0000E+0\n",
      "\n",
      "1.02745E+0\t9.99965E-9\t1.99983E+0\t1.10123E-6\t1.89724E-6\t99.2194E-9\t10.0000E+0\t9.99965E-9\t1.99982E+0\t1.10123E-6\t1.89724E-6\t99.2194E-9\t10.0000E+0\t9.99965E-9\t1.99986E+0\t1.10123E-6\t1.89724E-6\t99.2194E-9\t10.0000E+0\t9.99965E-9\t1.99978E+0\t1.10123E-6\t1.89724E-6\t99.2194E-9\t10.0000E+0\n",
      "\n",
      "1.04314E+0\t9.99965E-9\t1.99980E+0\t1.10123E-6\t1.89724E-6\t99.2194E-9\t10.0000E+0\t9.99965E-9\t1.99977E+0\t1.10123E-6\t1.89724E-6\t99.2194E-9\t10.0000E+0\t9.99965E-9\t1.99989E+0\t1.10123E-6\t1.89724E-6\t99.2194E-9\t10.0000E+0\t9.99965E-9\t1.99978E+0\t1.10123E-6\t1.89724E-6\t99.2194E-9\t10.0000E+0\n",
      "\n",
      "1.05882E+0\t9.99965E-9\t2.00005E+0\t1.10123E-6\t1.89724E-6\t99.2194E-9\t10.0000E+0\t9.99965E-9\t1.99979E+0\t1.10123E-6\t1.89724E-6\t99.2194E-9\t10.0000E+0\t9.99965E-9\t1.99992E+0\t1.10123E-6\t1.89724E-6\t99.2194E-9\t10.0000E+0\t9.99965E-9\t1.99975E+0\t1.10123E-6\t1.89724E-6\t99.2194E-9\t10.0000E+0\n",
      "\n",
      "1.07451E+0\t9.99965E-9\t1.99993E+0\t1.10123E-6\t1.89724E-6\t99.2194E-9\t10.0000E+0\t9.99965E-9\t1.99966E+0\t1.10123E-6\t1.89724E-6\t99.2194E-9\t10.0000E+0\t9.99965E-9\t1.99994E+0\t1.10123E-6\t1.89724E-6\t99.2194E-9\t10.0000E+0\t9.99965E-9\t1.99970E+0\t1.10123E-6\t1.89724E-6\t99.2194E-9\t10.0000E+0\n",
      "\n",
      "1.09020E+0\t9.99965E-9\t1.99989E+0\t1.10123E-6\t1.89724E-6\t99.2194E-9\t10.0000E+0\t9.99965E-9\t1.99971E+0\t1.10123E-6\t1.89724E-6\t99.2194E-9\t10.0000E+0\t9.99965E-9\t1.99994E+0\t1.10123E-6\t1.89724E-6\t99.2194E-9\t10.0000E+0\t9.99965E-9\t1.99965E+0\t1.10123E-6\t1.89724E-6\t99.2194E-9\t10.0000E+0\n",
      "\n",
      "1.10588E+0\t9.99965E-9\t1.99999E+0\t1.10123E-6\t1.89724E-6\t99.2194E-9\t10.0000E+0\t9.99965E-9\t1.99954E+0\t1.10123E-6\t1.89724E-6\t99.2194E-9\t10.0000E+0\t9.99965E-9\t1.99993E+0\t1.10123E-6\t1.89724E-6\t99.2194E-9\t10.0000E+0\t9.99965E-9\t1.99961E+0\t1.10123E-6\t1.89724E-6\t99.2194E-9\t10.0000E+0\n",
      "\n",
      "1.12157E+0\t9.99965E-9\t1.99988E+0\t1.10123E-6\t1.89724E-6\t99.2194E-9\t10.0000E+0\t9.99965E-9\t1.99954E+0\t1.10123E-6\t1.89724E-6\t99.2194E-9\t10.0000E+0\t9.99965E-9\t1.99992E+0\t1.10123E-6\t1.89724E-6\t99.2194E-9\t10.0000E+0\t9.99965E-9\t1.99959E+0\t1.10123E-6\t1.89724E-6\t99.2194E-9\t10.0000E+0\n",
      "\n",
      "1.13725E+0\t9.99965E-9\t1.99997E+0\t1.10123E-6\t1.89724E-6\t99.2194E-9\t10.0000E+0\t9.99965E-9\t1.99966E+0\t1.10123E-6\t1.89724E-6\t99.2194E-9\t10.0000E+0\t9.99965E-9\t1.99991E+0\t1.10123E-6\t1.89724E-6\t99.2194E-9\t10.0000E+0\t9.99965E-9\t1.99958E+0\t1.10123E-6\t1.89724E-6\t99.2194E-9\t10.0000E+0\n",
      "\n",
      "1.15294E+0\t9.99965E-9\t1.99982E+0\t1.10123E-6\t1.89724E-6\t99.2194E-9\t10.0000E+0\t9.99965E-9\t1.99952E+0\t1.10123E-6\t1.89724E-6\t99.2194E-9\t10.0000E+0\t9.99965E-9\t1.99991E+0\t1.10123E-6\t1.89724E-6\t99.2194E-9\t10.0000E+0\t9.99965E-9\t1.99957E+0\t1.10123E-6\t1.89724E-6\t99.2194E-9\t10.0000E+0\n",
      "\n",
      "1.16863E+0\t9.99965E-9\t1.99996E+0\t1.10123E-6\t1.89724E-6\t99.2194E-9\t10.0000E+0\t9.99965E-9\t1.99957E+0\t1.10123E-6\t1.89724E-6\t99.2194E-9\t10.0000E+0\t9.99965E-9\t1.99991E+0\t1.10123E-6\t1.89724E-6\t99.2194E-9\t10.0000E+0\t9.99965E-9\t1.99957E+0\t1.10123E-6\t1.89724E-6\t99.2194E-9\t10.0000E+0\n",
      "\n",
      "1.18431E+0\t9.99965E-9\t1.99991E+0\t1.10123E-6\t1.89724E-6\t99.2194E-9\t10.0000E+0\t9.99965E-9\t1.99957E+0\t1.10123E-6\t1.89724E-6\t99.2194E-9\t10.0000E+0\t9.99965E-9\t1.99990E+0\t1.10123E-6\t1.89724E-6\t99.2194E-9\t10.0000E+0\t9.99965E-9\t1.99957E+0\t1.10123E-6\t1.89724E-6\t99.2194E-9\t10.0000E+0\n",
      "\n",
      "1.20000E+0\t9.99965E-9\t1.99993E+0\t1.10123E-6\t1.89724E-6\t99.2194E-9\t10.0000E+0\t9.99965E-9\t1.99962E+0\t1.10123E-6\t1.89724E-6\t99.2194E-9\t10.0000E+0\t9.99965E-9\t1.99990E+0\t1.10123E-6\t1.89724E-6\t99.2194E-9\t10.0000E+0\t9.99965E-9\t1.99957E+0\t1.10123E-6\t1.89724E-6\t99.2194E-9\t10.0000E+0\n",
      "\n",
      "1.21569E+0\t9.99965E-9\t1.99975E+0\t1.10123E-6\t1.89724E-6\t99.2194E-9\t10.0000E+0\t9.99965E-9\t1.99953E+0\t1.10123E-6\t1.89724E-6\t99.2194E-9\t10.0000E+0\t9.99965E-9\t1.99988E+0\t1.10123E-6\t1.89724E-6\t99.2194E-9\t10.0000E+0\t9.99965E-9\t1.99957E+0\t1.10123E-6\t1.89724E-6\t99.2194E-9\t10.0000E+0\n",
      "\n",
      "1.23137E+0\t9.99965E-9\t2.00002E+0\t1.10123E-6\t1.89724E-6\t99.2194E-9\t10.0000E+0\t9.99965E-9\t1.99954E+0\t1.10123E-6\t1.89724E-6\t99.2194E-9\t10.0000E+0\t9.99965E-9\t1.99988E+0\t1.10123E-6\t1.89724E-6\t99.2194E-9\t10.0000E+0\t9.99965E-9\t1.99958E+0\t1.10123E-6\t1.89724E-6\t99.2194E-9\t10.0000E+0\n",
      "\n",
      "1.24706E+0\t9.99965E-9\t1.99981E+0\t1.10123E-6\t1.89724E-6\t99.2194E-9\t10.0000E+0\t9.99965E-9\t1.99967E+0\t1.10123E-6\t1.89724E-6\t99.2194E-9\t10.0000E+0\t9.99965E-9\t1.99986E+0\t1.10123E-6\t1.89724E-6\t99.2194E-9\t10.0000E+0\t9.99965E-9\t1.99960E+0\t1.10123E-6\t1.89724E-6\t99.2194E-9\t10.0000E+0\n",
      "\n",
      "1.26275E+0\t9.99965E-9\t1.99987E+0\t1.10123E-6\t1.89724E-6\t99.2194E-9\t10.0000E+0\t9.99965E-9\t1.99957E+0\t1.10123E-6\t1.89724E-6\t99.2194E-9\t10.0000E+0\t9.99965E-9\t1.99983E+0\t1.10123E-6\t1.89724E-6\t99.2194E-9\t10.0000E+0\t9.99965E-9\t1.99961E+0\t1.10123E-6\t1.89724E-6\t99.2194E-9\t10.0000E+0\n",
      "\n",
      "1.27843E+0\t9.99965E-9\t1.99975E+0\t1.10123E-6\t1.89724E-6\t99.2194E-9\t10.0000E+0\t9.99965E-9\t1.99966E+0\t1.10123E-6\t1.89724E-6\t99.2194E-9\t10.0000E+0\t9.99965E-9\t1.99977E+0\t1.10123E-6\t1.89724E-6\t99.2194E-9\t10.0000E+0\t9.99965E-9\t1.99963E+0\t1.10123E-6\t1.89724E-6\t99.2194E-9\t10.0000E+0\n",
      "\n",
      "1.29412E+0\t9.99965E-9\t1.99972E+0\t1.10123E-6\t1.89724E-6\t99.2194E-9\t10.0000E+0\t9.99965E-9\t1.99952E+0\t1.10123E-6\t1.89724E-6\t99.2194E-9\t10.0000E+0\t9.99965E-9\t1.99977E+0\t1.10123E-6\t1.89724E-6\t99.2194E-9\t10.0000E+0\t9.99965E-9\t1.99965E+0\t1.10123E-6\t1.89724E-6\t99.2194E-9\t10.0000E+0\n",
      "\n",
      "1.30980E+0\t9.99965E-9\t1.99973E+0\t1.10123E-6\t1.89724E-6\t99.2194E-9\t10.0000E+0\t9.99965E-9\t1.99981E+0\t1.10123E-6\t1.89724E-6\t99.2194E-9\t10.0000E+0\t9.99965E-9\t1.99977E+0\t1.10123E-6\t1.89724E-6\t99.2194E-9\t10.0000E+0\t9.99965E-9\t1.99969E+0\t1.10123E-6\t1.89724E-6\t99.2194E-9\t10.0000E+0\n",
      "\n",
      "1.32549E+0\t9.99965E-9\t1.99992E+0\t1.10123E-6\t1.89724E-6\t99.2194E-9\t10.0000E+0\t9.99965E-9\t1.99974E+0\t1.10123E-6\t1.89724E-6\t99.2194E-9\t10.0000E+0\t9.99965E-9\t1.99978E+0\t1.10123E-6\t1.89724E-6\t99.2194E-9\t10.0000E+0\t9.99965E-9\t1.99969E+0\t1.10123E-6\t1.89724E-6\t99.2194E-9\t10.0000E+0\n",
      "\n",
      "1.34118E+0\t9.99965E-9\t1.99972E+0\t1.10123E-6\t1.89724E-6\t99.2194E-9\t10.0000E+0\t9.99965E-9\t1.99966E+0\t1.10123E-6\t1.89724E-6\t99.2194E-9\t10.0000E+0\t9.99965E-9\t1.99977E+0\t1.10123E-6\t1.89724E-6\t99.2194E-9\t10.0000E+0\t9.99965E-9\t1.99965E+0\t1.10123E-6\t1.89724E-6\t99.2194E-9\t10.0000E+0\n",
      "\n",
      "1.35686E+0\t9.99965E-9\t1.99965E+0\t1.10123E-6\t1.89724E-6\t99.2194E-9\t10.0000E+0\t9.99965E-9\t1.99951E+0\t1.10123E-6\t1.89724E-6\t99.2194E-9\t10.0000E+0\t9.99965E-9\t1.99975E+0\t1.10123E-6\t1.89724E-6\t99.2194E-9\t10.0000E+0\t9.99965E-9\t1.99958E+0\t1.10123E-6\t1.89724E-6\t99.2194E-9\t10.0000E+0\n",
      "\n",
      "1.37255E+0\t9.99965E-9\t1.99988E+0\t1.10123E-6\t1.89724E-6\t99.2194E-9\t10.0000E+0\t9.99965E-9\t1.99959E+0\t1.10123E-6\t1.89724E-6\t99.2194E-9\t10.0000E+0\t9.99965E-9\t1.99973E+0\t1.10123E-6\t1.89724E-6\t99.2194E-9\t10.0000E+0\t9.99965E-9\t1.99955E+0\t1.10123E-6\t1.89724E-6\t99.2194E-9\t10.0000E+0\n",
      "\n",
      "1.38824E+0\t9.99965E-9\t1.99967E+0\t1.10123E-6\t1.89724E-6\t99.2194E-9\t10.0000E+0\t9.99965E-9\t1.99944E+0\t1.10123E-6\t1.89724E-6\t99.2194E-9\t10.0000E+0\t9.99965E-9\t1.99974E+0\t1.10123E-6\t1.89724E-6\t99.2194E-9\t10.0000E+0\t9.99965E-9\t1.99955E+0\t1.10123E-6\t1.89724E-6\t99.2194E-9\t10.0000E+0\n",
      "\n",
      "1.40392E+0\t9.99965E-9\t1.99962E+0\t1.10123E-6\t1.89724E-6\t99.2194E-9\t10.0000E+0\t9.99965E-9\t1.99966E+0\t1.10123E-6\t1.89724E-6\t99.2194E-9\t10.0000E+0\t9.99965E-9\t1.99974E+0\t1.10123E-6\t1.89724E-6\t99.2194E-9\t10.0000E+0\t9.99965E-9\t1.99960E+0\t1.10123E-6\t1.89724E-6\t99.2194E-9\t10.0000E+0\n",
      "\n",
      "1.41961E+0\t9.99965E-9\t1.99994E+0\t1.10123E-6\t1.89724E-6\t99.2194E-9\t10.0000E+0\t9.99965E-9\t1.99961E+0\t1.10123E-6\t1.89724E-6\t99.2194E-9\t10.0000E+0\t9.99965E-9\t1.99974E+0\t1.10123E-6\t1.89724E-6\t99.2194E-9\t10.0000E+0\t9.99965E-9\t1.99964E+0\t1.10123E-6\t1.89724E-6\t99.2194E-9\t10.0000E+0\n",
      "\n",
      "1.43529E+0\t9.99965E-9\t1.99962E+0\t1.10123E-6\t1.89724E-6\t99.2194E-9\t10.0000E+0\t9.99965E-9\t1.99975E+0\t1.10123E-6\t1.89724E-6\t99.2194E-9\t10.0000E+0\t9.99965E-9\t1.99976E+0\t1.10123E-6\t1.89724E-6\t99.2194E-9\t10.0000E+0\t9.99965E-9\t1.99970E+0\t1.10123E-6\t1.89724E-6\t99.2194E-9\t10.0000E+0\n",
      "\n",
      "1.45098E+0\t9.99965E-9\t1.99976E+0\t1.10123E-6\t1.89724E-6\t99.2194E-9\t10.0000E+0\t9.99965E-9\t1.99969E+0\t1.10123E-6\t1.89724E-6\t99.2194E-9\t10.0000E+0\t9.99965E-9\t1.99976E+0\t1.10123E-6\t1.89724E-6\t99.2194E-9\t10.0000E+0\t9.99965E-9\t1.99974E+0\t1.10123E-6\t1.89724E-6\t99.2194E-9\t10.0000E+0\n",
      "\n",
      "1.46667E+0\t9.99965E-9\t1.99985E+0\t1.10123E-6\t1.89724E-6\t99.2194E-9\t10.0000E+0\t9.99965E-9\t1.99982E+0\t1.10123E-6\t1.89724E-6\t99.2194E-9\t10.0000E+0\t9.99965E-9\t1.99976E+0\t1.10123E-6\t1.89724E-6\t99.2194E-9\t10.0000E+0\t9.99965E-9\t1.99976E+0\t1.10123E-6\t1.89724E-6\t99.2194E-9\t10.0000E+0\n",
      "\n",
      "1.48235E+0\t9.99965E-9\t1.99965E+0\t1.10123E-6\t1.89724E-6\t99.2194E-9\t10.0000E+0\t9.99965E-9\t1.99980E+0\t1.10123E-6\t1.89724E-6\t99.2194E-9\t10.0000E+0\t9.99965E-9\t1.99979E+0\t1.10123E-6\t1.89724E-6\t99.2194E-9\t10.0000E+0\t9.99965E-9\t1.99976E+0\t1.10123E-6\t1.89724E-6\t99.2194E-9\t10.0000E+0\n",
      "\n",
      "1.49804E+0\t9.99965E-9\t1.99984E+0\t1.10123E-6\t1.89724E-6\t99.2194E-9\t10.0000E+0\t9.99965E-9\t1.99969E+0\t1.10123E-6\t1.89724E-6\t99.2194E-9\t10.0000E+0\t9.99965E-9\t1.99983E+0\t1.10123E-6\t1.89724E-6\t99.2194E-9\t10.0000E+0\t9.99965E-9\t1.99975E+0\t1.10123E-6\t1.89724E-6\t99.2194E-9\t10.0000E+0\n",
      "\n",
      "1.51373E+0\t9.99965E-9\t1.99997E+0\t1.10123E-6\t1.89724E-6\t99.2194E-9\t10.0000E+0\t9.99965E-9\t1.99973E+0\t1.10123E-6\t1.89724E-6\t99.2194E-9\t10.0000E+0\t9.99965E-9\t1.99986E+0\t1.10123E-6\t1.89724E-6\t99.2194E-9\t10.0000E+0\t9.99965E-9\t1.99974E+0\t1.10123E-6\t1.89724E-6\t99.2194E-9\t10.0000E+0\n",
      "\n",
      "1.52941E+0\t9.99965E-9\t1.99983E+0\t1.10123E-6\t1.89724E-6\t99.2194E-9\t10.0000E+0\t9.99965E-9\t1.99975E+0\t1.10123E-6\t1.89724E-6\t99.2194E-9\t10.0000E+0\t9.99965E-9\t1.99985E+0\t1.10123E-6\t1.89724E-6\t99.2194E-9\t10.0000E+0\t9.99965E-9\t1.99975E+0\t1.10123E-6\t1.89724E-6\t99.2194E-9\t10.0000E+0\n",
      "\n",
      "1.54510E+0\t9.99965E-9\t1.99991E+0\t1.10123E-6\t1.89724E-6\t99.2194E-9\t10.0000E+0\t9.99965E-9\t1.99978E+0\t1.10123E-6\t1.89724E-6\t99.2194E-9\t10.0000E+0\t9.99965E-9\t1.99981E+0\t1.10123E-6\t1.89724E-6\t99.2194E-9\t10.0000E+0\t9.99965E-9\t1.99976E+0\t1.10123E-6\t1.89724E-6\t99.2194E-9\t10.0000E+0\n",
      "\n",
      "1.56078E+0\t9.99965E-9\t1.99956E+0\t1.10123E-6\t1.89724E-6\t99.2194E-9\t10.0000E+0\t9.99965E-9\t1.99979E+0\t1.10123E-6\t1.89724E-6\t99.2194E-9\t10.0000E+0\t9.99965E-9\t1.99977E+0\t1.10123E-6\t1.89724E-6\t99.2194E-9\t10.0000E+0\t9.99965E-9\t1.99973E+0\t1.10123E-6\t1.89724E-6\t99.2194E-9\t10.0000E+0\n",
      "\n",
      "1.57647E+0\t9.99965E-9\t1.99985E+0\t1.10123E-6\t1.89724E-6\t99.2194E-9\t10.0000E+0\t9.99965E-9\t1.99969E+0\t1.10123E-6\t1.89724E-6\t99.2194E-9\t10.0000E+0\t9.99965E-9\t1.99978E+0\t1.10123E-6\t1.89724E-6\t99.2194E-9\t10.0000E+0\t9.99965E-9\t1.99969E+0\t1.10123E-6\t1.89724E-6\t99.2194E-9\t10.0000E+0\n",
      "\n",
      "1.59216E+0\t9.99965E-9\t1.99982E+0\t1.10123E-6\t1.89724E-6\t99.2194E-9\t10.0000E+0\t9.99965E-9\t1.99948E+0\t1.10123E-6\t1.89724E-6\t99.2194E-9\t10.0000E+0\t9.99965E-9\t1.99980E+0\t1.10123E-6\t1.89724E-6\t99.2194E-9\t10.0000E+0\t9.99965E-9\t1.99969E+0\t1.10123E-6\t1.89724E-6\t99.2194E-9\t10.0000E+0\n",
      "\n",
      "1.60784E+0\t9.99965E-9\t1.99984E+0\t1.10123E-6\t1.89724E-6\t99.2194E-9\t10.0000E+0\t9.99965E-9\t1.99988E+0\t1.10123E-6\t1.89724E-6\t99.2194E-9\t10.0000E+0\t9.99965E-9\t1.99983E+0\t1.10123E-6\t1.89724E-6\t99.2194E-9\t10.0000E+0\t9.99965E-9\t1.99972E+0\t1.10123E-6\t1.89724E-6\t99.2194E-9\t10.0000E+0\n",
      "\n",
      "1.62353E+0\t9.99965E-9\t1.99980E+0\t1.10123E-6\t1.89724E-6\t99.2194E-9\t10.0000E+0\t9.99965E-9\t1.99977E+0\t1.10123E-6\t1.89724E-6\t99.2194E-9\t10.0000E+0\t9.99965E-9\t1.99984E+0\t1.10123E-6\t1.89724E-6\t99.2194E-9\t10.0000E+0\t9.99965E-9\t1.99976E+0\t1.10123E-6\t1.89724E-6\t99.2194E-9\t10.0000E+0\n",
      "\n",
      "1.63922E+0\t9.99965E-9\t1.99989E+0\t1.10123E-6\t1.89724E-6\t99.2194E-9\t10.0000E+0\t9.99965E-9\t1.99975E+0\t1.10123E-6\t1.89724E-6\t99.2194E-9\t10.0000E+0\t9.99965E-9\t1.99986E+0\t1.10123E-6\t1.89724E-6\t99.2194E-9\t10.0000E+0\t9.99965E-9\t1.99981E+0\t1.10123E-6\t1.89724E-6\t99.2194E-9\t10.0000E+0\n",
      "\n",
      "1.65490E+0\t9.99965E-9\t1.99983E+0\t1.10123E-6\t1.89724E-6\t99.2194E-9\t10.0000E+0\t9.99965E-9\t1.99982E+0\t1.10123E-6\t1.89724E-6\t99.2194E-9\t10.0000E+0\t9.99965E-9\t1.99988E+0\t1.10123E-6\t1.89724E-6\t99.2194E-9\t10.0000E+0\t9.99965E-9\t1.99982E+0\t1.10123E-6\t1.89724E-6\t99.2194E-9\t10.0000E+0\n",
      "\n",
      "1.67059E+0\t9.99965E-9\t1.99996E+0\t1.10123E-6\t1.89724E-6\t99.2194E-9\t10.0000E+0\t9.99965E-9\t1.99997E+0\t1.10123E-6\t1.89724E-6\t99.2194E-9\t10.0000E+0\t9.99965E-9\t1.99991E+0\t1.10123E-6\t1.89724E-6\t99.2194E-9\t10.0000E+0\t9.99965E-9\t1.99984E+0\t1.10123E-6\t1.89724E-6\t99.2194E-9\t10.0000E+0\n",
      "\n",
      "1.68627E+0\t9.99965E-9\t1.99991E+0\t1.10123E-6\t1.89724E-6\t99.2194E-9\t10.0000E+0\t9.99965E-9\t1.99972E+0\t1.10123E-6\t1.89724E-6\t99.2194E-9\t10.0000E+0\t9.99965E-9\t1.99992E+0\t1.10123E-6\t1.89724E-6\t99.2194E-9\t10.0000E+0\t9.99965E-9\t1.99983E+0\t1.10123E-6\t1.89724E-6\t99.2194E-9\t10.0000E+0\n",
      "\n",
      "1.70196E+0\t9.99965E-9\t2.00002E+0\t1.10123E-6\t1.89724E-6\t99.2194E-9\t10.0000E+0\t9.99965E-9\t1.99990E+0\t1.10123E-6\t1.89724E-6\t99.2194E-9\t10.0000E+0\t9.99965E-9\t1.99992E+0\t1.10123E-6\t1.89724E-6\t99.2194E-9\t10.0000E+0\t9.99965E-9\t1.99979E+0\t1.10123E-6\t1.89724E-6\t99.2194E-9\t10.0000E+0\n",
      "\n",
      "1.71765E+0\t9.99965E-9\t1.99979E+0\t1.10123E-6\t1.89724E-6\t99.2194E-9\t10.0000E+0\t9.99965E-9\t1.99973E+0\t1.10123E-6\t1.89724E-6\t99.2194E-9\t10.0000E+0\t9.99965E-9\t1.99988E+0\t1.10123E-6\t1.89724E-6\t99.2194E-9\t10.0000E+0\t9.99965E-9\t1.99978E+0\t1.10123E-6\t1.89724E-6\t99.2194E-9\t10.0000E+0\n",
      "\n",
      "1.73333E+0\t9.99965E-9\t1.99990E+0\t1.10123E-6\t1.89724E-6\t99.2194E-9\t10.0000E+0\t9.99965E-9\t1.99961E+0\t1.10123E-6\t1.89724E-6\t99.2194E-9\t10.0000E+0\t9.99965E-9\t1.99987E+0\t1.10123E-6\t1.89724E-6\t99.2194E-9\t10.0000E+0\t9.99965E-9\t1.99981E+0\t1.10123E-6\t1.89724E-6\t99.2194E-9\t10.0000E+0\n",
      "\n",
      "1.74902E+0\t9.99965E-9\t1.99975E+0\t1.10123E-6\t1.89724E-6\t99.2194E-9\t10.0000E+0\t9.99965E-9\t2.00005E+0\t1.10123E-6\t1.89724E-6\t99.2194E-9\t10.0000E+0\t9.99965E-9\t1.99987E+0\t1.10123E-6\t1.89724E-6\t99.2194E-9\t10.0000E+0\t9.99965E-9\t1.99984E+0\t1.10123E-6\t1.89724E-6\t99.2194E-9\t10.0000E+0\n",
      "\n",
      "1.76471E+0\t9.99965E-9\t2.00003E+0\t1.10123E-6\t1.89724E-6\t99.2194E-9\t10.0000E+0\t9.99965E-9\t1.99990E+0\t1.10123E-6\t1.89724E-6\t99.2194E-9\t10.0000E+0\t9.99965E-9\t1.99990E+0\t1.10123E-6\t1.89724E-6\t99.2194E-9\t10.0000E+0\t9.99965E-9\t1.99988E+0\t1.10123E-6\t1.89724E-6\t99.2194E-9\t10.0000E+0\n",
      "\n",
      "1.78039E+0\t9.99965E-9\t1.99987E+0\t1.10123E-6\t1.89724E-6\t99.2194E-9\t10.0000E+0\t9.99965E-9\t1.99978E+0\t1.10123E-6\t1.89724E-6\t99.2194E-9\t10.0000E+0\t9.99965E-9\t1.99989E+0\t1.10123E-6\t1.89724E-6\t99.2194E-9\t10.0000E+0\t9.99965E-9\t1.99988E+0\t1.10123E-6\t1.89724E-6\t99.2194E-9\t10.0000E+0\n",
      "\n",
      "1.79608E+0\t9.99965E-9\t1.99987E+0\t1.10123E-6\t1.89724E-6\t99.2194E-9\t10.0000E+0\t9.99965E-9\t1.99996E+0\t1.10123E-6\t1.89724E-6\t99.2194E-9\t10.0000E+0\t9.99965E-9\t1.99989E+0\t1.10123E-6\t1.89724E-6\t99.2194E-9\t10.0000E+0\t9.99965E-9\t1.99984E+0\t1.10123E-6\t1.89724E-6\t99.2194E-9\t10.0000E+0\n",
      "\n",
      "1.81176E+0\t9.99965E-9\t1.99983E+0\t1.10123E-6\t1.89724E-6\t99.2194E-9\t10.0000E+0\t9.99965E-9\t1.99977E+0\t1.10123E-6\t1.89724E-6\t99.2194E-9\t10.0000E+0\t9.99965E-9\t1.99988E+0\t1.10123E-6\t1.89724E-6\t99.2194E-9\t10.0000E+0\t9.99965E-9\t1.99981E+0\t1.10123E-6\t1.89724E-6\t99.2194E-9\t10.0000E+0\n",
      "\n",
      "1.82745E+0\t9.99965E-9\t1.99996E+0\t1.10123E-6\t1.89724E-6\t99.2194E-9\t10.0000E+0\t9.99965E-9\t1.99976E+0\t1.10123E-6\t1.89724E-6\t99.2194E-9\t10.0000E+0\t9.99965E-9\t1.99992E+0\t1.10123E-6\t1.89724E-6\t99.2194E-9\t10.0000E+0\t9.99965E-9\t1.99976E+0\t1.10123E-6\t1.89724E-6\t99.2194E-9\t10.0000E+0\n",
      "\n",
      "1.84314E+0\t9.99965E-9\t1.99991E+0\t1.10123E-6\t1.89724E-6\t99.2194E-9\t10.0000E+0\t9.99965E-9\t1.99971E+0\t1.10123E-6\t1.89724E-6\t99.2194E-9\t10.0000E+0\t9.99965E-9\t1.99993E+0\t1.10123E-6\t1.89724E-6\t99.2194E-9\t10.0000E+0\t9.99965E-9\t1.99971E+0\t1.10123E-6\t1.89724E-6\t99.2194E-9\t10.0000E+0\n",
      "\n",
      "1.85882E+0\t9.99965E-9\t2.00008E+0\t1.10123E-6\t1.89724E-6\t99.2194E-9\t10.0000E+0\t9.99965E-9\t1.99963E+0\t1.10123E-6\t1.89724E-6\t99.2194E-9\t10.0000E+0\t9.99965E-9\t1.99993E+0\t1.10123E-6\t1.89724E-6\t99.2194E-9\t10.0000E+0\t9.99965E-9\t1.99970E+0\t1.10123E-6\t1.89724E-6\t99.2194E-9\t10.0000E+0\n",
      "\n",
      "1.87451E+0\t9.99965E-9\t1.99969E+0\t1.10123E-6\t1.89724E-6\t99.2194E-9\t10.0000E+0\t9.99965E-9\t1.99971E+0\t1.10123E-6\t1.89724E-6\t99.2194E-9\t10.0000E+0\t9.99965E-9\t1.99988E+0\t1.10123E-6\t1.89724E-6\t99.2194E-9\t10.0000E+0\t9.99965E-9\t1.99971E+0\t1.10123E-6\t1.89724E-6\t99.2194E-9\t10.0000E+0\n",
      "\n",
      "1.89020E+0\t9.99965E-9\t1.99999E+0\t1.10123E-6\t1.89724E-6\t99.2194E-9\t10.0000E+0\t9.99965E-9\t1.99982E+0\t1.10123E-6\t1.89724E-6\t99.2194E-9\t10.0000E+0\t9.99965E-9\t1.99984E+0\t1.10123E-6\t1.89724E-6\t99.2194E-9\t10.0000E+0\t9.99965E-9\t1.99971E+0\t1.10123E-6\t1.89724E-6\t99.2194E-9\t10.0000E+0\n",
      "\n",
      "1.90588E+0\t9.99965E-9\t1.99973E+0\t1.10123E-6\t1.89724E-6\t99.2194E-9\t10.0000E+0\t9.99965E-9\t1.99960E+0\t1.10123E-6\t1.89724E-6\t99.2194E-9\t10.0000E+0\t9.99965E-9\t1.99980E+0\t1.10123E-6\t1.89724E-6\t99.2194E-9\t10.0000E+0\t9.99965E-9\t1.99972E+0\t1.10123E-6\t1.89724E-6\t99.2194E-9\t10.0000E+0\n",
      "\n",
      "1.92157E+0\t9.99965E-9\t1.99972E+0\t1.10123E-6\t1.89724E-6\t99.2194E-9\t10.0000E+0\t9.99965E-9\t1.99973E+0\t1.10123E-6\t1.89724E-6\t99.2194E-9\t10.0000E+0\t9.99965E-9\t1.99980E+0\t1.10123E-6\t1.89724E-6\t99.2194E-9\t10.0000E+0\t9.99965E-9\t1.99974E+0\t1.10123E-6\t1.89724E-6\t99.2194E-9\t10.0000E+0\n",
      "\n",
      "1.93725E+0\t9.99965E-9\t1.99985E+0\t1.10123E-6\t1.89724E-6\t99.2194E-9\t10.0000E+0\t9.99965E-9\t1.99983E+0\t1.10123E-6\t1.89724E-6\t99.2194E-9\t10.0000E+0\t9.99965E-9\t1.99981E+0\t1.10123E-6\t1.89724E-6\t99.2194E-9\t10.0000E+0\t9.99965E-9\t1.99974E+0\t1.10123E-6\t1.89724E-6\t99.2194E-9\t10.0000E+0\n",
      "\n",
      "1.95294E+0\t9.99965E-9\t1.99982E+0\t1.10123E-6\t1.89724E-6\t99.2194E-9\t10.0000E+0\t9.99965E-9\t1.99982E+0\t1.10123E-6\t1.89724E-6\t99.2194E-9\t10.0000E+0\t9.99965E-9\t1.99985E+0\t1.10123E-6\t1.89724E-6\t99.2194E-9\t10.0000E+0\t9.99965E-9\t1.99974E+0\t1.10123E-6\t1.89724E-6\t99.2194E-9\t10.0000E+0\n",
      "\n",
      "1.96863E+0\t9.99965E-9\t1.99996E+0\t1.10123E-6\t1.89724E-6\t99.2194E-9\t10.0000E+0\t9.99965E-9\t1.99950E+0\t1.10123E-6\t1.89724E-6\t99.2194E-9\t10.0000E+0\t9.99965E-9\t1.99988E+0\t1.10123E-6\t1.89724E-6\t99.2194E-9\t10.0000E+0\t9.99965E-9\t1.99975E+0\t1.10123E-6\t1.89724E-6\t99.2194E-9\t10.0000E+0\n",
      "\n",
      "1.98431E+0\t9.99965E-9\t1.99978E+0\t1.10123E-6\t1.89724E-6\t99.2194E-9\t10.0000E+0\t9.99965E-9\t1.99987E+0\t1.10123E-6\t1.89724E-6\t99.2194E-9\t10.0000E+0\t9.99965E-9\t1.99993E+0\t1.10123E-6\t1.89724E-6\t99.2194E-9\t10.0000E+0\t9.99965E-9\t1.99982E+0\t1.10123E-6\t1.89724E-6\t99.2194E-9\t10.0000E+0\n",
      "\n",
      "2.00000E+0\t9.99965E-9\t2.00000E+0\t1.10123E-6\t1.89724E-6\t99.2194E-9\t10.0000E+0\t9.99965E-9\t1.99995E+0\t1.10123E-6\t1.89724E-6\t99.2194E-9\t10.0000E+0\t9.99965E-9\t2.00000E+0\t1.10123E-6\t1.89724E-6\t99.2194E-9\t10.0000E+0\t9.99965E-9\t1.99995E+0\t1.10123E-6\t1.89724E-6\t99.2194E-9\t10.0000E+0\n",
      "\n"
     ]
    }
   ],
   "source": [
    "# to read the data, let's print it out line by line\n",
    "#We do this by using a for loop\n",
    "\n",
    "for line in f:\n",
    "    print(line)"
   ]
  },
  {
   "cell_type": "code",
   "execution_count": 18,
   "metadata": {
    "scrolled": true
   },
   "outputs": [
    {
     "name": "stdout",
     "output_type": "stream",
     "text": [
      "0 Experiment\tbias spectroscopy\t\n",
      "\n",
      "1 Date\t07.07.2020 15:01:50\t\n",
      "\n",
      "2 User\t\t\n",
      "\n",
      "3 X (m)\t1.10123E-6\t\n",
      "\n",
      "4 Y (m)\t1.89724E-6\t\n",
      "\n",
      "5 Z (m)\t99.2194E-9\t\n",
      "\n",
      "6 Z offset (m)\t0E+0\t\n",
      "\n",
      "7 Settling time (s)\t200E-6\t\n",
      "\n",
      "8 Integration time (s)\t600E-6\t\n",
      "\n",
      "9 Z-Ctrl hold\tTRUE\t\n",
      "\n",
      "10 Final Z (m)\tN/A\t\n",
      "\n",
      "11 Filter type\tGaussian\t\n",
      "\n",
      "12 Order\t2\t\n",
      "\n",
      "13 Cutoff frq\t\t\n",
      "\n",
      "14 \n",
      "\n",
      "15 [DATA]\n",
      "\n",
      "16 Bias calc (V)\tCurrent (A)\tVert. Deflection (V)\tX (m)\tY (m)\tZ (m)\tExcitation (V)\tCurrent [bwd] (A)\tVert. Deflection [bwd] (V)\tX [bwd] (m)\tY [bwd] (m)\tZ [bwd] (m)\tExcitation [bwd] (V)\tCurrent (A) [filt]\tVert. Deflection (V) [filt]\tX (m) [filt]\tY (m) [filt]\tZ (m) [filt]\tExcitation (V) [filt]\tCurrent (A) [bwd] [filt]\tVert. Deflection (V) [bwd] [filt]\tX (m) [bwd] [filt]\tY (m) [bwd] [filt]\tZ (m) [bwd] [filt]\tExcitation (V) [bwd] [filt]\n",
      "\n",
      "17 -2.00000E+0\t-10.0007E-9\t2.00011E+0\t1.10123E-6\t1.89724E-6\t99.2194E-9\t10.0000E+0\t-10.0007E-9\t1.99982E+0\t1.10123E-6\t1.89724E-6\t99.2194E-9\t10.0000E+0\t-10.0007E-9\t2.00011E+0\t1.10123E-6\t1.89724E-6\t99.2194E-9\t10.0000E+0\t-10.0007E-9\t1.99982E+0\t1.10123E-6\t1.89724E-6\t99.2194E-9\t10.0000E+0\n",
      "\n",
      "18 -1.98431E+0\t-10.0007E-9\t2.00012E+0\t1.10123E-6\t1.89724E-6\t99.2194E-9\t10.0000E+0\t-10.0007E-9\t1.99990E+0\t1.10123E-6\t1.89724E-6\t99.2194E-9\t10.0000E+0\t-10.0007E-9\t2.00021E+0\t1.10123E-6\t1.89724E-6\t99.2194E-9\t10.0000E+0\t-10.0007E-9\t1.99983E+0\t1.10123E-6\t1.89724E-6\t99.2194E-9\t10.0000E+0\n",
      "\n",
      "19 -1.96863E+0\t-10.0007E-9\t2.00043E+0\t1.10123E-6\t1.89724E-6\t99.2194E-9\t10.0000E+0\t-10.0007E-9\t1.99982E+0\t1.10123E-6\t1.89724E-6\t99.2194E-9\t10.0000E+0\t-10.0007E-9\t2.00028E+0\t1.10123E-6\t1.89724E-6\t99.2194E-9\t10.0000E+0\t-10.0007E-9\t1.99983E+0\t1.10123E-6\t1.89724E-6\t99.2194E-9\t10.0000E+0\n",
      "\n",
      "20 -1.95294E+0\t-10.0007E-9\t2.00028E+0\t1.10123E-6\t1.89724E-6\t99.2194E-9\t10.0000E+0\t-10.0007E-9\t1.99978E+0\t1.10123E-6\t1.89724E-6\t99.2194E-9\t10.0000E+0\t-10.0007E-9\t2.00033E+0\t1.10123E-6\t1.89724E-6\t99.2194E-9\t10.0000E+0\t-10.0007E-9\t1.99980E+0\t1.10123E-6\t1.89724E-6\t99.2194E-9\t10.0000E+0\n",
      "\n",
      "21 -1.93725E+0\t-10.0007E-9\t2.00036E+0\t1.10123E-6\t1.89724E-6\t99.2194E-9\t10.0000E+0\t-10.0007E-9\t1.99984E+0\t1.10123E-6\t1.89724E-6\t99.2194E-9\t10.0000E+0\t-10.0007E-9\t2.00039E+0\t1.10123E-6\t1.89724E-6\t99.2194E-9\t10.0000E+0\t-10.0007E-9\t1.99977E+0\t1.10123E-6\t1.89724E-6\t99.2194E-9\t10.0000E+0\n",
      "\n",
      "22 -1.92157E+0\t-10.0007E-9\t2.00042E+0\t1.10123E-6\t1.89724E-6\t99.2194E-9\t10.0000E+0\t-10.0007E-9\t1.99963E+0\t1.10123E-6\t1.89724E-6\t99.2194E-9\t10.0000E+0\t-10.0007E-9\t2.00044E+0\t1.10123E-6\t1.89724E-6\t99.2194E-9\t10.0000E+0\t-10.0007E-9\t1.99976E+0\t1.10123E-6\t1.89724E-6\t99.2194E-9\t10.0000E+0\n",
      "\n",
      "23 -1.90588E+0\t-10.0007E-9\t2.00057E+0\t1.10123E-6\t1.89724E-6\t99.2194E-9\t10.0000E+0\t-10.0007E-9\t1.99979E+0\t1.10123E-6\t1.89724E-6\t99.2194E-9\t10.0000E+0\t-10.0007E-9\t2.00049E+0\t1.10123E-6\t1.89724E-6\t99.2194E-9\t10.0000E+0\t-10.0007E-9\t1.99980E+0\t1.10123E-6\t1.89724E-6\t99.2194E-9\t10.0000E+0\n",
      "\n",
      "24 -1.89020E+0\t-10.0007E-9\t2.00052E+0\t1.10123E-6\t1.89724E-6\t99.2194E-9\t10.0000E+0\t-10.0007E-9\t1.99987E+0\t1.10123E-6\t1.89724E-6\t99.2194E-9\t10.0000E+0\t-10.0007E-9\t2.00053E+0\t1.10123E-6\t1.89724E-6\t99.2194E-9\t10.0000E+0\t-10.0007E-9\t1.99983E+0\t1.10123E-6\t1.89724E-6\t99.2194E-9\t10.0000E+0\n",
      "\n",
      "25 -1.87451E+0\t-10.0007E-9\t2.00048E+0\t1.10123E-6\t1.89724E-6\t99.2194E-9\t10.0000E+0\t-10.0007E-9\t1.99994E+0\t1.10123E-6\t1.89724E-6\t99.2194E-9\t10.0000E+0\t-10.0007E-9\t2.00057E+0\t1.10123E-6\t1.89724E-6\t99.2194E-9\t10.0000E+0\t-10.0007E-9\t1.99984E+0\t1.10123E-6\t1.89724E-6\t99.2194E-9\t10.0000E+0\n",
      "\n",
      "26 -1.85882E+0\t-10.0007E-9\t2.00067E+0\t1.10123E-6\t1.89724E-6\t99.2194E-9\t10.0000E+0\t-10.0007E-9\t1.99975E+0\t1.10123E-6\t1.89724E-6\t99.2194E-9\t10.0000E+0\t-10.0007E-9\t2.00060E+0\t1.10123E-6\t1.89724E-6\t99.2194E-9\t10.0000E+0\t-10.0007E-9\t1.99980E+0\t1.10123E-6\t1.89724E-6\t99.2194E-9\t10.0000E+0\n",
      "\n",
      "27 -1.84314E+0\t-10.0007E-9\t2.00073E+0\t1.10123E-6\t1.89724E-6\t99.2194E-9\t10.0000E+0\t-10.0007E-9\t1.99978E+0\t1.10123E-6\t1.89724E-6\t99.2194E-9\t10.0000E+0\t-10.0007E-9\t2.00059E+0\t1.10123E-6\t1.89724E-6\t99.2194E-9\t10.0000E+0\t-10.0007E-9\t1.99978E+0\t1.10123E-6\t1.89724E-6\t99.2194E-9\t10.0000E+0\n",
      "\n",
      "28 -1.82745E+0\t-10.0007E-9\t2.00045E+0\t1.10123E-6\t1.89724E-6\t99.2194E-9\t10.0000E+0\t-10.0007E-9\t1.99962E+0\t1.10123E-6\t1.89724E-6\t99.2194E-9\t10.0000E+0\t-10.0007E-9\t2.00051E+0\t1.10123E-6\t1.89724E-6\t99.2194E-9\t10.0000E+0\t-10.0007E-9\t1.99981E+0\t1.10123E-6\t1.89724E-6\t99.2194E-9\t10.0000E+0\n",
      "\n",
      "29 -1.81176E+0\t-10.0007E-9\t2.00042E+0\t1.10123E-6\t1.89724E-6\t99.2194E-9\t10.0000E+0\t-10.0007E-9\t2.00005E+0\t1.10123E-6\t1.89724E-6\t99.2194E-9\t10.0000E+0\t-10.0007E-9\t2.00042E+0\t1.10123E-6\t1.89724E-6\t99.2194E-9\t10.0000E+0\t-10.0007E-9\t1.99988E+0\t1.10123E-6\t1.89724E-6\t99.2194E-9\t10.0000E+0\n",
      "\n",
      "30 -1.79608E+0\t-10.0007E-9\t2.00024E+0\t1.10123E-6\t1.89724E-6\t99.2194E-9\t10.0000E+0\t-10.0007E-9\t1.99997E+0\t1.10123E-6\t1.89724E-6\t99.2194E-9\t10.0000E+0\t-10.0007E-9\t2.00036E+0\t1.10123E-6\t1.89724E-6\t99.2194E-9\t10.0000E+0\t-10.0007E-9\t1.99991E+0\t1.10123E-6\t1.89724E-6\t99.2194E-9\t10.0000E+0\n",
      "\n",
      "31 -1.78039E+0\t-10.0007E-9\t2.00042E+0\t1.10123E-6\t1.89724E-6\t99.2194E-9\t10.0000E+0\t-10.0007E-9\t1.99987E+0\t1.10123E-6\t1.89724E-6\t99.2194E-9\t10.0000E+0\t-10.0007E-9\t2.00035E+0\t1.10123E-6\t1.89724E-6\t99.2194E-9\t10.0000E+0\t-10.0007E-9\t1.99992E+0\t1.10123E-6\t1.89724E-6\t99.2194E-9\t10.0000E+0\n",
      "\n",
      "32 -1.76471E+0\t-10.0007E-9\t2.00039E+0\t1.10123E-6\t1.89724E-6\t99.2194E-9\t10.0000E+0\t-10.0007E-9\t1.99984E+0\t1.10123E-6\t1.89724E-6\t99.2194E-9\t10.0000E+0\t-10.0007E-9\t2.00034E+0\t1.10123E-6\t1.89724E-6\t99.2194E-9\t10.0000E+0\t-10.0007E-9\t1.99990E+0\t1.10123E-6\t1.89724E-6\t99.2194E-9\t10.0000E+0\n",
      "\n",
      "33 -1.74902E+0\t-10.0007E-9\t2.00023E+0\t1.10123E-6\t1.89724E-6\t99.2194E-9\t10.0000E+0\t-10.0007E-9\t1.99998E+0\t1.10123E-6\t1.89724E-6\t99.2194E-9\t10.0000E+0\t-10.0007E-9\t2.00033E+0\t1.10123E-6\t1.89724E-6\t99.2194E-9\t10.0000E+0\t-10.0007E-9\t1.99991E+0\t1.10123E-6\t1.89724E-6\t99.2194E-9\t10.0000E+0\n",
      "\n",
      "34 -1.73333E+0\t-10.0007E-9\t2.00039E+0\t1.10123E-6\t1.89724E-6\t99.2194E-9\t10.0000E+0\t-10.0007E-9\t1.99987E+0\t1.10123E-6\t1.89724E-6\t99.2194E-9\t10.0000E+0\t-10.0007E-9\t2.00031E+0\t1.10123E-6\t1.89724E-6\t99.2194E-9\t10.0000E+0\t-10.0007E-9\t1.99995E+0\t1.10123E-6\t1.89724E-6\t99.2194E-9\t10.0000E+0\n",
      "\n",
      "35 -1.71765E+0\t-10.0007E-9\t2.00026E+0\t1.10123E-6\t1.89724E-6\t99.2194E-9\t10.0000E+0\t-10.0007E-9\t1.99998E+0\t1.10123E-6\t1.89724E-6\t99.2194E-9\t10.0000E+0\t-10.0007E-9\t2.00028E+0\t1.10123E-6\t1.89724E-6\t99.2194E-9\t10.0000E+0\t-10.0007E-9\t1.99998E+0\t1.10123E-6\t1.89724E-6\t99.2194E-9\t10.0000E+0\n",
      "\n",
      "36 -1.70196E+0\t-10.0007E-9\t2.00029E+0\t1.10123E-6\t1.89724E-6\t99.2194E-9\t10.0000E+0\t-10.0007E-9\t2.00014E+0\t1.10123E-6\t1.89724E-6\t99.2194E-9\t10.0000E+0\t-10.0007E-9\t2.00023E+0\t1.10123E-6\t1.89724E-6\t99.2194E-9\t10.0000E+0\t-10.0007E-9\t1.99999E+0\t1.10123E-6\t1.89724E-6\t99.2194E-9\t10.0000E+0\n",
      "\n",
      "37 -1.68627E+0\t-10.0007E-9\t2.00009E+0\t1.10123E-6\t1.89724E-6\t99.2194E-9\t10.0000E+0\t-10.0007E-9\t1.99988E+0\t1.10123E-6\t1.89724E-6\t99.2194E-9\t10.0000E+0\t-10.0007E-9\t2.00014E+0\t1.10123E-6\t1.89724E-6\t99.2194E-9\t10.0000E+0\t-10.0007E-9\t1.99998E+0\t1.10123E-6\t1.89724E-6\t99.2194E-9\t10.0000E+0\n",
      "\n",
      "38 -1.67059E+0\t-10.0007E-9\t2.00008E+0\t1.10123E-6\t1.89724E-6\t99.2194E-9\t10.0000E+0\t-10.0007E-9\t1.99997E+0\t1.10123E-6\t1.89724E-6\t99.2194E-9\t10.0000E+0\t-10.0007E-9\t2.00008E+0\t1.10123E-6\t1.89724E-6\t99.2194E-9\t10.0000E+0\t-10.0007E-9\t1.99994E+0\t1.10123E-6\t1.89724E-6\t99.2194E-9\t10.0000E+0\n",
      "\n",
      "39 -1.65490E+0\t-10.0007E-9\t1.99995E+0\t1.10123E-6\t1.89724E-6\t99.2194E-9\t10.0000E+0\t-10.0007E-9\t1.99989E+0\t1.10123E-6\t1.89724E-6\t99.2194E-9\t10.0000E+0\t-10.0007E-9\t2.00005E+0\t1.10123E-6\t1.89724E-6\t99.2194E-9\t10.0000E+0\t-10.0007E-9\t1.99991E+0\t1.10123E-6\t1.89724E-6\t99.2194E-9\t10.0000E+0\n",
      "\n",
      "40 -1.63922E+0\t-10.0007E-9\t2.00006E+0\t1.10123E-6\t1.89724E-6\t99.2194E-9\t10.0000E+0\t-10.0007E-9\t1.99991E+0\t1.10123E-6\t1.89724E-6\t99.2194E-9\t10.0000E+0\t-10.0007E-9\t2.00005E+0\t1.10123E-6\t1.89724E-6\t99.2194E-9\t10.0000E+0\t-10.0007E-9\t1.99990E+0\t1.10123E-6\t1.89724E-6\t99.2194E-9\t10.0000E+0\n",
      "\n",
      "41 -1.62353E+0\t-10.0007E-9\t2.00013E+0\t1.10123E-6\t1.89724E-6\t99.2194E-9\t10.0000E+0\t-10.0007E-9\t1.99989E+0\t1.10123E-6\t1.89724E-6\t99.2194E-9\t10.0000E+0\t-10.0007E-9\t2.00006E+0\t1.10123E-6\t1.89724E-6\t99.2194E-9\t10.0000E+0\t-10.0007E-9\t1.99988E+0\t1.10123E-6\t1.89724E-6\t99.2194E-9\t10.0000E+0\n",
      "\n",
      "42 -1.60784E+0\t-10.0007E-9\t1.99999E+0\t1.10123E-6\t1.89724E-6\t99.2194E-9\t10.0000E+0\t-10.0007E-9\t1.99982E+0\t1.10123E-6\t1.89724E-6\t99.2194E-9\t10.0000E+0\t-10.0007E-9\t2.00009E+0\t1.10123E-6\t1.89724E-6\t99.2194E-9\t10.0000E+0\t-10.0007E-9\t1.99988E+0\t1.10123E-6\t1.89724E-6\t99.2194E-9\t10.0000E+0\n",
      "\n",
      "43 -1.59216E+0\t-10.0007E-9\t2.00014E+0\t1.10123E-6\t1.89724E-6\t99.2194E-9\t10.0000E+0\t-10.0007E-9\t1.99991E+0\t1.10123E-6\t1.89724E-6\t99.2194E-9\t10.0000E+0\t-10.0007E-9\t2.00014E+0\t1.10123E-6\t1.89724E-6\t99.2194E-9\t10.0000E+0\t-10.0007E-9\t1.99989E+0\t1.10123E-6\t1.89724E-6\t99.2194E-9\t10.0000E+0\n",
      "\n",
      "44 -1.57647E+0\t-10.0007E-9\t2.00024E+0\t1.10123E-6\t1.89724E-6\t99.2194E-9\t10.0000E+0\t-10.0007E-9\t1.99991E+0\t1.10123E-6\t1.89724E-6\t99.2194E-9\t10.0000E+0\t-10.0007E-9\t2.00018E+0\t1.10123E-6\t1.89724E-6\t99.2194E-9\t10.0000E+0\t-10.0007E-9\t1.99991E+0\t1.10123E-6\t1.89724E-6\t99.2194E-9\t10.0000E+0\n",
      "\n",
      "45 -1.56078E+0\t-10.0007E-9\t2.00023E+0\t1.10123E-6\t1.89724E-6\t99.2194E-9\t10.0000E+0\t-10.0007E-9\t1.99992E+0\t1.10123E-6\t1.89724E-6\t99.2194E-9\t10.0000E+0\t-10.0007E-9\t2.00018E+0\t1.10123E-6\t1.89724E-6\t99.2194E-9\t10.0000E+0\t-10.0007E-9\t1.99995E+0\t1.10123E-6\t1.89724E-6\t99.2194E-9\t10.0000E+0\n",
      "\n",
      "46 -1.54510E+0\t-10.0007E-9\t2.00016E+0\t1.10123E-6\t1.89724E-6\t99.2194E-9\t10.0000E+0\t-10.0007E-9\t1.99998E+0\t1.10123E-6\t1.89724E-6\t99.2194E-9\t10.0000E+0\t-10.0007E-9\t2.00012E+0\t1.10123E-6\t1.89724E-6\t99.2194E-9\t10.0000E+0\t-10.0007E-9\t1.99996E+0\t1.10123E-6\t1.89724E-6\t99.2194E-9\t10.0000E+0\n",
      "\n",
      "47 -1.52941E+0\t-10.0007E-9\t1.99999E+0\t1.10123E-6\t1.89724E-6\t99.2194E-9\t10.0000E+0\t-10.0007E-9\t2.00011E+0\t1.10123E-6\t1.89724E-6\t99.2194E-9\t10.0000E+0\t-10.0007E-9\t2.00005E+0\t1.10123E-6\t1.89724E-6\t99.2194E-9\t10.0000E+0\t-10.0007E-9\t1.99996E+0\t1.10123E-6\t1.89724E-6\t99.2194E-9\t10.0000E+0\n",
      "\n",
      "48 -1.51373E+0\t-10.0007E-9\t1.99994E+0\t1.10123E-6\t1.89724E-6\t99.2194E-9\t10.0000E+0\t-10.0007E-9\t1.99974E+0\t1.10123E-6\t1.89724E-6\t99.2194E-9\t10.0000E+0\t-10.0007E-9\t2.00001E+0\t1.10123E-6\t1.89724E-6\t99.2194E-9\t10.0000E+0\t-10.0007E-9\t1.99995E+0\t1.10123E-6\t1.89724E-6\t99.2194E-9\t10.0000E+0\n",
      "\n",
      "49 -1.49804E+0\t-10.0007E-9\t1.99999E+0\t1.10123E-6\t1.89724E-6\t99.2194E-9\t10.0000E+0\t-10.0007E-9\t2.00003E+0\t1.10123E-6\t1.89724E-6\t99.2194E-9\t10.0000E+0\t-10.0007E-9\t2.00002E+0\t1.10123E-6\t1.89724E-6\t99.2194E-9\t10.0000E+0\t-10.0007E-9\t1.99994E+0\t1.10123E-6\t1.89724E-6\t99.2194E-9\t10.0000E+0\n",
      "\n",
      "50 -1.48235E+0\t-10.0007E-9\t2.00016E+0\t1.10123E-6\t1.89724E-6\t99.2194E-9\t10.0000E+0\t-10.0007E-9\t1.99995E+0\t1.10123E-6\t1.89724E-6\t99.2194E-9\t10.0000E+0\t-10.0007E-9\t2.00005E+0\t1.10123E-6\t1.89724E-6\t99.2194E-9\t10.0000E+0\t-10.0007E-9\t1.99997E+0\t1.10123E-6\t1.89724E-6\t99.2194E-9\t10.0000E+0\n",
      "\n",
      "51 -1.46667E+0\t-10.0007E-9\t2.00004E+0\t1.10123E-6\t1.89724E-6\t99.2194E-9\t10.0000E+0\t-10.0007E-9\t1.99995E+0\t1.10123E-6\t1.89724E-6\t99.2194E-9\t10.0000E+0\t-10.0007E-9\t2.00008E+0\t1.10123E-6\t1.89724E-6\t99.2194E-9\t10.0000E+0\t-10.0007E-9\t2.00003E+0\t1.10123E-6\t1.89724E-6\t99.2194E-9\t10.0000E+0\n",
      "\n",
      "52 -1.45098E+0\t-10.0007E-9\t2.00003E+0\t1.10123E-6\t1.89724E-6\t99.2194E-9\t10.0000E+0\t-10.0007E-9\t2.00018E+0\t1.10123E-6\t1.89724E-6\t99.2194E-9\t10.0000E+0\t-10.0007E-9\t2.00009E+0\t1.10123E-6\t1.89724E-6\t99.2194E-9\t10.0000E+0\t-10.0007E-9\t2.00005E+0\t1.10123E-6\t1.89724E-6\t99.2194E-9\t10.0000E+0\n",
      "\n",
      "53 -1.43529E+0\t-10.0007E-9\t2.00025E+0\t1.10123E-6\t1.89724E-6\t99.2194E-9\t10.0000E+0\t-10.0007E-9\t2.00011E+0\t1.10123E-6\t1.89724E-6\t99.2194E-9\t10.0000E+0\t-10.0007E-9\t2.00009E+0\t1.10123E-6\t1.89724E-6\t99.2194E-9\t10.0000E+0\t-10.0007E-9\t2.00005E+0\t1.10123E-6\t1.89724E-6\t99.2194E-9\t10.0000E+0\n",
      "\n",
      "54 -1.41961E+0\t-10.0007E-9\t1.99995E+0\t1.10123E-6\t1.89724E-6\t99.2194E-9\t10.0000E+0\t-10.0007E-9\t1.99994E+0\t1.10123E-6\t1.89724E-6\t99.2194E-9\t10.0000E+0\t-10.0007E-9\t2.00010E+0\t1.10123E-6\t1.89724E-6\t99.2194E-9\t10.0000E+0\t-10.0007E-9\t2.00003E+0\t1.10123E-6\t1.89724E-6\t99.2194E-9\t10.0000E+0\n",
      "\n",
      "55 -1.40392E+0\t-10.0007E-9\t2.00014E+0\t1.10123E-6\t1.89724E-6\t99.2194E-9\t10.0000E+0\t-10.0007E-9\t2.00001E+0\t1.10123E-6\t1.89724E-6\t99.2194E-9\t10.0000E+0\t-10.0007E-9\t2.00009E+0\t1.10123E-6\t1.89724E-6\t99.2194E-9\t10.0000E+0\t-10.0007E-9\t2.00005E+0\t1.10123E-6\t1.89724E-6\t99.2194E-9\t10.0000E+0\n",
      "\n",
      "56 -1.38824E+0\t-10.0007E-9\t2.00014E+0\t1.10123E-6\t1.89724E-6\t99.2194E-9\t10.0000E+0\t-10.0007E-9\t2.00005E+0\t1.10123E-6\t1.89724E-6\t99.2194E-9\t10.0000E+0\t-10.0007E-9\t2.00006E+0\t1.10123E-6\t1.89724E-6\t99.2194E-9\t10.0000E+0\t-10.0007E-9\t2.00010E+0\t1.10123E-6\t1.89724E-6\t99.2194E-9\t10.0000E+0\n",
      "\n",
      "57 -1.37255E+0\t-10.0007E-9\t2.00000E+0\t1.10123E-6\t1.89724E-6\t99.2194E-9\t10.0000E+0\t-10.0007E-9\t2.00034E+0\t1.10123E-6\t1.89724E-6\t99.2194E-9\t10.0000E+0\t-10.0007E-9\t2.00004E+0\t1.10123E-6\t1.89724E-6\t99.2194E-9\t10.0000E+0\t-10.0007E-9\t2.00014E+0\t1.10123E-6\t1.89724E-6\t99.2194E-9\t10.0000E+0\n",
      "\n",
      "58 -1.35686E+0\t-10.0007E-9\t1.99995E+0\t1.10123E-6\t1.89724E-6\t99.2194E-9\t10.0000E+0\t-10.0007E-9\t2.00011E+0\t1.10123E-6\t1.89724E-6\t99.2194E-9\t10.0000E+0\t-10.0007E-9\t2.00000E+0\t1.10123E-6\t1.89724E-6\t99.2194E-9\t10.0000E+0\t-10.0007E-9\t2.00013E+0\t1.10123E-6\t1.89724E-6\t99.2194E-9\t10.0000E+0\n",
      "\n",
      "59 -1.34118E+0\t-10.0007E-9\t2.00006E+0\t1.10123E-6\t1.89724E-6\t99.2194E-9\t10.0000E+0\t-10.0007E-9\t1.99999E+0\t1.10123E-6\t1.89724E-6\t99.2194E-9\t10.0000E+0\t-10.0007E-9\t1.99997E+0\t1.10123E-6\t1.89724E-6\t99.2194E-9\t10.0000E+0\t-10.0007E-9\t2.00007E+0\t1.10123E-6\t1.89724E-6\t99.2194E-9\t10.0000E+0\n",
      "\n",
      "60 -1.32549E+0\t-10.0007E-9\t1.99983E+0\t1.10123E-6\t1.89724E-6\t99.2194E-9\t10.0000E+0\t-10.0007E-9\t2.00007E+0\t1.10123E-6\t1.89724E-6\t99.2194E-9\t10.0000E+0\t-10.0007E-9\t1.99997E+0\t1.10123E-6\t1.89724E-6\t99.2194E-9\t10.0000E+0\t-10.0007E-9\t2.00005E+0\t1.10123E-6\t1.89724E-6\t99.2194E-9\t10.0000E+0\n",
      "\n",
      "61 -1.30980E+0\t-10.0007E-9\t2.00003E+0\t1.10123E-6\t1.89724E-6\t99.2194E-9\t10.0000E+0\t-10.0007E-9\t1.99996E+0\t1.10123E-6\t1.89724E-6\t99.2194E-9\t10.0000E+0\t-10.0007E-9\t1.99996E+0\t1.10123E-6\t1.89724E-6\t99.2194E-9\t10.0000E+0\t-10.0007E-9\t2.00008E+0\t1.10123E-6\t1.89724E-6\t99.2194E-9\t10.0000E+0\n",
      "\n",
      "62 -1.29412E+0\t-10.0007E-9\t2.00001E+0\t1.10123E-6\t1.89724E-6\t99.2194E-9\t10.0000E+0\t-10.0007E-9\t2.00020E+0\t1.10123E-6\t1.89724E-6\t99.2194E-9\t10.0000E+0\t-10.0007E-9\t1.99995E+0\t1.10123E-6\t1.89724E-6\t99.2194E-9\t10.0000E+0\t-10.0007E-9\t2.00014E+0\t1.10123E-6\t1.89724E-6\t99.2194E-9\t10.0000E+0\n",
      "\n",
      "63 -1.27843E+0\t-10.0007E-9\t1.99981E+0\t1.10123E-6\t1.89724E-6\t99.2194E-9\t10.0000E+0\t-10.0007E-9\t2.00024E+0\t1.10123E-6\t1.89724E-6\t99.2194E-9\t10.0000E+0\t-10.0007E-9\t1.99996E+0\t1.10123E-6\t1.89724E-6\t99.2194E-9\t10.0000E+0\t-10.0007E-9\t2.00019E+0\t1.10123E-6\t1.89724E-6\t99.2194E-9\t10.0000E+0\n",
      "\n",
      "64 -1.26275E+0\t-10.0007E-9\t2.00004E+0\t1.10123E-6\t1.89724E-6\t99.2194E-9\t10.0000E+0\t-10.0007E-9\t2.00024E+0\t1.10123E-6\t1.89724E-6\t99.2194E-9\t10.0000E+0\t-10.0007E-9\t1.99997E+0\t1.10123E-6\t1.89724E-6\t99.2194E-9\t10.0000E+0\t-10.0007E-9\t2.00023E+0\t1.10123E-6\t1.89724E-6\t99.2194E-9\t10.0000E+0\n",
      "\n",
      "65 -1.24706E+0\t-10.0007E-9\t2.00000E+0\t1.10123E-6\t1.89724E-6\t99.2194E-9\t10.0000E+0\t-10.0007E-9\t2.00020E+0\t1.10123E-6\t1.89724E-6\t99.2194E-9\t10.0000E+0\t-10.0007E-9\t1.99998E+0\t1.10123E-6\t1.89724E-6\t99.2194E-9\t10.0000E+0\t-10.0007E-9\t2.00021E+0\t1.10123E-6\t1.89724E-6\t99.2194E-9\t10.0000E+0\n",
      "\n",
      "66 -1.23137E+0\t-10.0007E-9\t1.99995E+0\t1.10123E-6\t1.89724E-6\t99.2194E-9\t10.0000E+0\t-10.0007E-9\t2.00023E+0\t1.10123E-6\t1.89724E-6\t99.2194E-9\t10.0000E+0\t-10.0007E-9\t2.00000E+0\t1.10123E-6\t1.89724E-6\t99.2194E-9\t10.0000E+0\t-10.0007E-9\t2.00019E+0\t1.10123E-6\t1.89724E-6\t99.2194E-9\t10.0000E+0\n",
      "\n",
      "67 -1.21569E+0\t-10.0007E-9\t1.99996E+0\t1.10123E-6\t1.89724E-6\t99.2194E-9\t10.0000E+0\t-10.0007E-9\t2.00009E+0\t1.10123E-6\t1.89724E-6\t99.2194E-9\t10.0000E+0\t-10.0007E-9\t2.00001E+0\t1.10123E-6\t1.89724E-6\t99.2194E-9\t10.0000E+0\t-10.0007E-9\t2.00019E+0\t1.10123E-6\t1.89724E-6\t99.2194E-9\t10.0000E+0\n",
      "\n",
      "68 -1.20000E+0\t-10.0007E-9\t2.00012E+0\t1.10123E-6\t1.89724E-6\t99.2194E-9\t10.0000E+0\t-10.0007E-9\t2.00024E+0\t1.10123E-6\t1.89724E-6\t99.2194E-9\t10.0000E+0\t-10.0007E-9\t2.00005E+0\t1.10123E-6\t1.89724E-6\t99.2194E-9\t10.0000E+0\t-10.0007E-9\t2.00017E+0\t1.10123E-6\t1.89724E-6\t99.2194E-9\t10.0000E+0\n",
      "\n",
      "69 -1.18431E+0\t-10.0007E-9\t2.00004E+0\t1.10123E-6\t1.89724E-6\t99.2194E-9\t10.0000E+0\t-10.0007E-9\t2.00020E+0\t1.10123E-6\t1.89724E-6\t99.2194E-9\t10.0000E+0\t-10.0007E-9\t2.00008E+0\t1.10123E-6\t1.89724E-6\t99.2194E-9\t10.0000E+0\t-10.0007E-9\t2.00012E+0\t1.10123E-6\t1.89724E-6\t99.2194E-9\t10.0000E+0\n",
      "\n",
      "70 -1.16863E+0\t-10.0007E-9\t2.00015E+0\t1.10123E-6\t1.89724E-6\t99.2194E-9\t10.0000E+0\t-10.0007E-9\t2.00000E+0\t1.10123E-6\t1.89724E-6\t99.2194E-9\t10.0000E+0\t-10.0007E-9\t2.00010E+0\t1.10123E-6\t1.89724E-6\t99.2194E-9\t10.0000E+0\t-10.0007E-9\t2.00008E+0\t1.10123E-6\t1.89724E-6\t99.2194E-9\t10.0000E+0\n",
      "\n",
      "71 -1.15294E+0\t-10.0007E-9\t2.00004E+0\t1.10123E-6\t1.89724E-6\t99.2194E-9\t10.0000E+0\t-10.0007E-9\t1.99995E+0\t1.10123E-6\t1.89724E-6\t99.2194E-9\t10.0000E+0\t-10.0007E-9\t2.00010E+0\t1.10123E-6\t1.89724E-6\t99.2194E-9\t10.0000E+0\t-10.0007E-9\t2.00004E+0\t1.10123E-6\t1.89724E-6\t99.2194E-9\t10.0000E+0\n",
      "\n",
      "72 -1.13725E+0\t-10.0007E-9\t2.00019E+0\t1.10123E-6\t1.89724E-6\t99.2194E-9\t10.0000E+0\t-10.0007E-9\t2.00014E+0\t1.10123E-6\t1.89724E-6\t99.2194E-9\t10.0000E+0\t-10.0007E-9\t2.00010E+0\t1.10123E-6\t1.89724E-6\t99.2194E-9\t10.0000E+0\t-10.0007E-9\t2.00002E+0\t1.10123E-6\t1.89724E-6\t99.2194E-9\t10.0000E+0\n",
      "\n",
      "73 -1.12157E+0\t-10.0007E-9\t2.00005E+0\t1.10123E-6\t1.89724E-6\t99.2194E-9\t10.0000E+0\t-10.0007E-9\t1.99997E+0\t1.10123E-6\t1.89724E-6\t99.2194E-9\t10.0000E+0\t-10.0007E-9\t2.00008E+0\t1.10123E-6\t1.89724E-6\t99.2194E-9\t10.0000E+0\t-10.0007E-9\t2.00002E+0\t1.10123E-6\t1.89724E-6\t99.2194E-9\t10.0000E+0\n",
      "\n",
      "74 -1.10588E+0\t-10.0007E-9\t2.00005E+0\t1.10123E-6\t1.89724E-6\t99.2194E-9\t10.0000E+0\t-10.0007E-9\t1.99998E+0\t1.10123E-6\t1.89724E-6\t99.2194E-9\t10.0000E+0\t-10.0007E-9\t2.00005E+0\t1.10123E-6\t1.89724E-6\t99.2194E-9\t10.0000E+0\t-10.0007E-9\t2.00005E+0\t1.10123E-6\t1.89724E-6\t99.2194E-9\t10.0000E+0\n",
      "\n",
      "75 -1.09020E+0\t-10.0007E-9\t2.00002E+0\t1.10123E-6\t1.89724E-6\t99.2194E-9\t10.0000E+0\t-10.0007E-9\t2.00005E+0\t1.10123E-6\t1.89724E-6\t99.2194E-9\t10.0000E+0\t-10.0007E-9\t2.00002E+0\t1.10123E-6\t1.89724E-6\t99.2194E-9\t10.0000E+0\t-10.0007E-9\t2.00008E+0\t1.10123E-6\t1.89724E-6\t99.2194E-9\t10.0000E+0\n",
      "\n",
      "76 -1.07451E+0\t-10.0007E-9\t2.00000E+0\t1.10123E-6\t1.89724E-6\t99.2194E-9\t10.0000E+0\t-10.0007E-9\t2.00029E+0\t1.10123E-6\t1.89724E-6\t99.2194E-9\t10.0000E+0\t-10.0007E-9\t1.99999E+0\t1.10123E-6\t1.89724E-6\t99.2194E-9\t10.0000E+0\t-10.0007E-9\t2.00012E+0\t1.10123E-6\t1.89724E-6\t99.2194E-9\t10.0000E+0\n",
      "\n",
      "77 -1.05882E+0\t-10.0007E-9\t1.99999E+0\t1.10123E-6\t1.89724E-6\t99.2194E-9\t10.0000E+0\t-10.0007E-9\t2.00002E+0\t1.10123E-6\t1.89724E-6\t99.2194E-9\t10.0000E+0\t-10.0007E-9\t1.99998E+0\t1.10123E-6\t1.89724E-6\t99.2194E-9\t10.0000E+0\t-10.0007E-9\t2.00013E+0\t1.10123E-6\t1.89724E-6\t99.2194E-9\t10.0000E+0\n",
      "\n",
      "78 -1.04314E+0\t-10.0007E-9\t1.99987E+0\t1.10123E-6\t1.89724E-6\t99.2194E-9\t10.0000E+0\t-10.0007E-9\t2.00019E+0\t1.10123E-6\t1.89724E-6\t99.2194E-9\t10.0000E+0\t-10.0007E-9\t2.00000E+0\t1.10123E-6\t1.89724E-6\t99.2194E-9\t10.0000E+0\t-10.0007E-9\t2.00011E+0\t1.10123E-6\t1.89724E-6\t99.2194E-9\t10.0000E+0\n",
      "\n",
      "79 -1.02745E+0\t-10.0007E-9\t2.00011E+0\t1.10123E-6\t1.89724E-6\t99.2194E-9\t10.0000E+0\t-10.0007E-9\t2.00002E+0\t1.10123E-6\t1.89724E-6\t99.2194E-9\t10.0000E+0\t-10.0007E-9\t2.00004E+0\t1.10123E-6\t1.89724E-6\t99.2194E-9\t10.0000E+0\t-10.0007E-9\t2.00008E+0\t1.10123E-6\t1.89724E-6\t99.2194E-9\t10.0000E+0\n",
      "\n",
      "80 -1.01176E+0\t-10.0007E-9\t2.00016E+0\t1.10123E-6\t1.89724E-6\t99.2194E-9\t10.0000E+0\t-10.0007E-9\t2.00010E+0\t1.10123E-6\t1.89724E-6\t99.2194E-9\t10.0000E+0\t-10.0007E-9\t2.00007E+0\t1.10123E-6\t1.89724E-6\t99.2194E-9\t10.0000E+0\t-10.0007E-9\t2.00008E+0\t1.10123E-6\t1.89724E-6\t99.2194E-9\t10.0000E+0\n",
      "\n",
      "81 -996.078E-3\t-10.0007E-9\t2.00001E+0\t1.10123E-6\t1.89724E-6\t99.2194E-9\t10.0000E+0\t-10.0007E-9\t2.00001E+0\t1.10123E-6\t1.89724E-6\t99.2194E-9\t10.0000E+0\t-10.0007E-9\t2.00010E+0\t1.10123E-6\t1.89724E-6\t99.2194E-9\t10.0000E+0\t-10.0007E-9\t2.00008E+0\t1.10123E-6\t1.89724E-6\t99.2194E-9\t10.0000E+0\n",
      "\n",
      "82 -980.392E-3\t-10.0007E-9\t2.00007E+0\t1.10123E-6\t1.89724E-6\t99.2194E-9\t10.0000E+0\t-10.0007E-9\t2.00019E+0\t1.10123E-6\t1.89724E-6\t99.2194E-9\t10.0000E+0\t-10.0007E-9\t2.00008E+0\t1.10123E-6\t1.89724E-6\t99.2194E-9\t10.0000E+0\t-10.0007E-9\t2.00008E+0\t1.10123E-6\t1.89724E-6\t99.2194E-9\t10.0000E+0\n",
      "\n",
      "83 -964.706E-3\t-10.0007E-9\t2.00024E+0\t1.10123E-6\t1.89724E-6\t99.2194E-9\t10.0000E+0\t-10.0007E-9\t2.00001E+0\t1.10123E-6\t1.89724E-6\t99.2194E-9\t10.0000E+0\t-10.0007E-9\t2.00004E+0\t1.10123E-6\t1.89724E-6\t99.2194E-9\t10.0000E+0\t-10.0007E-9\t2.00009E+0\t1.10123E-6\t1.89724E-6\t99.2194E-9\t10.0000E+0\n",
      "\n",
      "84 -949.020E-3\t-10.0007E-9\t1.99981E+0\t1.10123E-6\t1.89724E-6\t99.2194E-9\t10.0000E+0\t-10.0007E-9\t2.00011E+0\t1.10123E-6\t1.89724E-6\t99.2194E-9\t10.0000E+0\t-10.0007E-9\t1.99999E+0\t1.10123E-6\t1.89724E-6\t99.2194E-9\t10.0000E+0\t-10.0007E-9\t2.00007E+0\t1.10123E-6\t1.89724E-6\t99.2194E-9\t10.0000E+0\n",
      "\n",
      "85 -933.333E-3\t-10.0007E-9\t2.00000E+0\t1.10123E-6\t1.89724E-6\t99.2194E-9\t10.0000E+0\t-10.0007E-9\t2.00011E+0\t1.10123E-6\t1.89724E-6\t99.2194E-9\t10.0000E+0\t-10.0007E-9\t1.99995E+0\t1.10123E-6\t1.89724E-6\t99.2194E-9\t10.0000E+0\t-10.0007E-9\t2.00005E+0\t1.10123E-6\t1.89724E-6\t99.2194E-9\t10.0000E+0\n",
      "\n",
      "86 -917.647E-3\t-10.0007E-9\t1.99990E+0\t1.10123E-6\t1.89724E-6\t99.2194E-9\t10.0000E+0\t-10.0007E-9\t1.99993E+0\t1.10123E-6\t1.89724E-6\t99.2194E-9\t10.0000E+0\t-10.0007E-9\t1.99995E+0\t1.10123E-6\t1.89724E-6\t99.2194E-9\t10.0000E+0\t-10.0007E-9\t2.00006E+0\t1.10123E-6\t1.89724E-6\t99.2194E-9\t10.0000E+0\n",
      "\n",
      "87 -901.961E-3\t-10.0007E-9\t1.99990E+0\t1.10123E-6\t1.89724E-6\t99.2194E-9\t10.0000E+0\t-10.0007E-9\t2.00007E+0\t1.10123E-6\t1.89724E-6\t99.2194E-9\t10.0000E+0\t-10.0007E-9\t1.99998E+0\t1.10123E-6\t1.89724E-6\t99.2194E-9\t10.0000E+0\t-10.0007E-9\t2.00008E+0\t1.10123E-6\t1.89724E-6\t99.2194E-9\t10.0000E+0\n",
      "\n",
      "88 -886.275E-3\t-10.0007E-9\t2.00017E+0\t1.10123E-6\t1.89724E-6\t99.2194E-9\t10.0000E+0\t-10.0007E-9\t2.00022E+0\t1.10123E-6\t1.89724E-6\t99.2194E-9\t10.0000E+0\t-10.0007E-9\t2.00001E+0\t1.10123E-6\t1.89724E-6\t99.2194E-9\t10.0000E+0\t-10.0007E-9\t2.00010E+0\t1.10123E-6\t1.89724E-6\t99.2194E-9\t10.0000E+0\n",
      "\n",
      "89 -870.588E-3\t-10.0007E-9\t1.99994E+0\t1.10123E-6\t1.89724E-6\t99.2194E-9\t10.0000E+0\t-10.0007E-9\t2.00008E+0\t1.10123E-6\t1.89724E-6\t99.2194E-9\t10.0000E+0\t-10.0007E-9\t2.00002E+0\t1.10123E-6\t1.89724E-6\t99.2194E-9\t10.0000E+0\t-10.0007E-9\t2.00012E+0\t1.10123E-6\t1.89724E-6\t99.2194E-9\t10.0000E+0\n",
      "\n",
      "90 -854.902E-3\t-10.0007E-9\t2.00002E+0\t1.10123E-6\t1.89724E-6\t99.2194E-9\t10.0000E+0\t-10.0007E-9\t2.00005E+0\t1.10123E-6\t1.89724E-6\t99.2194E-9\t10.0000E+0\t-10.0007E-9\t2.00003E+0\t1.10123E-6\t1.89724E-6\t99.2194E-9\t10.0000E+0\t-10.0007E-9\t2.00014E+0\t1.10123E-6\t1.89724E-6\t99.2194E-9\t10.0000E+0\n",
      "\n",
      "91 -839.216E-3\t-10.0007E-9\t2.00005E+0\t1.10123E-6\t1.89724E-6\t99.2194E-9\t10.0000E+0\t-10.0007E-9\t2.00024E+0\t1.10123E-6\t1.89724E-6\t99.2194E-9\t10.0000E+0\t-10.0007E-9\t2.00007E+0\t1.10123E-6\t1.89724E-6\t99.2194E-9\t10.0000E+0\t-10.0007E-9\t2.00019E+0\t1.10123E-6\t1.89724E-6\t99.2194E-9\t10.0000E+0\n",
      "\n",
      "92 -823.529E-3\t-10.0007E-9\t2.00008E+0\t1.10123E-6\t1.89724E-6\t99.2194E-9\t10.0000E+0\t-10.0007E-9\t2.00021E+0\t1.10123E-6\t1.89724E-6\t99.2194E-9\t10.0000E+0\t-10.0007E-9\t2.00013E+0\t1.10123E-6\t1.89724E-6\t99.2194E-9\t10.0000E+0\t-10.0007E-9\t2.00025E+0\t1.10123E-6\t1.89724E-6\t99.2194E-9\t10.0000E+0\n",
      "\n",
      "93 -807.843E-3\t-10.0007E-9\t2.00032E+0\t1.10123E-6\t1.89724E-6\t99.2194E-9\t10.0000E+0\t-10.0007E-9\t2.00043E+0\t1.10123E-6\t1.89724E-6\t99.2194E-9\t10.0000E+0\t-10.0007E-9\t2.00017E+0\t1.10123E-6\t1.89724E-6\t99.2194E-9\t10.0000E+0\t-10.0007E-9\t2.00028E+0\t1.10123E-6\t1.89724E-6\t99.2194E-9\t10.0000E+0\n",
      "\n",
      "94 -792.157E-3\t-10.0007E-9\t2.00017E+0\t1.10123E-6\t1.89724E-6\t99.2194E-9\t10.0000E+0\t-10.0007E-9\t2.00023E+0\t1.10123E-6\t1.89724E-6\t99.2194E-9\t10.0000E+0\t-10.0007E-9\t2.00014E+0\t1.10123E-6\t1.89724E-6\t99.2194E-9\t10.0000E+0\t-10.0007E-9\t2.00025E+0\t1.10123E-6\t1.89724E-6\t99.2194E-9\t10.0000E+0\n",
      "\n",
      "95 -776.471E-3\t-10.0007E-9\t2.00007E+0\t1.10123E-6\t1.89724E-6\t99.2194E-9\t10.0000E+0\t-10.0007E-9\t2.00016E+0\t1.10123E-6\t1.89724E-6\t99.2194E-9\t10.0000E+0\t-10.0007E-9\t2.00010E+0\t1.10123E-6\t1.89724E-6\t99.2194E-9\t10.0000E+0\t-10.0007E-9\t2.00017E+0\t1.10123E-6\t1.89724E-6\t99.2194E-9\t10.0000E+0\n",
      "\n",
      "96 -760.784E-3\t-10.0007E-9\t1.99990E+0\t1.10123E-6\t1.89724E-6\t99.2194E-9\t10.0000E+0\t-10.0007E-9\t2.00011E+0\t1.10123E-6\t1.89724E-6\t99.2194E-9\t10.0000E+0\t-10.0007E-9\t2.00008E+0\t1.10123E-6\t1.89724E-6\t99.2194E-9\t10.0000E+0\t-10.0007E-9\t2.00008E+0\t1.10123E-6\t1.89724E-6\t99.2194E-9\t10.0000E+0\n",
      "\n",
      "97 -745.098E-3\t-10.0007E-9\t2.00027E+0\t1.10123E-6\t1.89724E-6\t99.2194E-9\t10.0000E+0\t-10.0007E-9\t1.99993E+0\t1.10123E-6\t1.89724E-6\t99.2194E-9\t10.0000E+0\t-10.0007E-9\t2.00011E+0\t1.10123E-6\t1.89724E-6\t99.2194E-9\t10.0000E+0\t-10.0007E-9\t2.00002E+0\t1.10123E-6\t1.89724E-6\t99.2194E-9\t10.0000E+0\n",
      "\n",
      "98 -729.412E-3\t-10.0007E-9\t2.00010E+0\t1.10123E-6\t1.89724E-6\t99.2194E-9\t10.0000E+0\t-10.0007E-9\t1.99999E+0\t1.10123E-6\t1.89724E-6\t99.2194E-9\t10.0000E+0\t-10.0007E-9\t2.00014E+0\t1.10123E-6\t1.89724E-6\t99.2194E-9\t10.0000E+0\t-10.0007E-9\t1.99998E+0\t1.10123E-6\t1.89724E-6\t99.2194E-9\t10.0000E+0\n",
      "\n",
      "99 -713.726E-3\t-10.0007E-9\t2.00020E+0\t1.10123E-6\t1.89724E-6\t99.2194E-9\t10.0000E+0\t-10.0007E-9\t1.99998E+0\t1.10123E-6\t1.89724E-6\t99.2194E-9\t10.0000E+0\t-10.0007E-9\t2.00013E+0\t1.10123E-6\t1.89724E-6\t99.2194E-9\t10.0000E+0\t-10.0007E-9\t1.99995E+0\t1.10123E-6\t1.89724E-6\t99.2194E-9\t10.0000E+0\n",
      "\n",
      "100 -698.039E-3\t-10.0007E-9\t2.00011E+0\t1.10123E-6\t1.89724E-6\t99.2194E-9\t10.0000E+0\t-10.0007E-9\t1.99993E+0\t1.10123E-6\t1.89724E-6\t99.2194E-9\t10.0000E+0\t-10.0007E-9\t2.00009E+0\t1.10123E-6\t1.89724E-6\t99.2194E-9\t10.0000E+0\t-10.0007E-9\t1.99995E+0\t1.10123E-6\t1.89724E-6\t99.2194E-9\t10.0000E+0\n",
      "\n",
      "101 -682.353E-3\t-10.0007E-9\t1.99994E+0\t1.10123E-6\t1.89724E-6\t99.2194E-9\t10.0000E+0\t-10.0007E-9\t1.99989E+0\t1.10123E-6\t1.89724E-6\t99.2194E-9\t10.0000E+0\t-10.0007E-9\t2.00008E+0\t1.10123E-6\t1.89724E-6\t99.2194E-9\t10.0000E+0\t-10.0007E-9\t1.99994E+0\t1.10123E-6\t1.89724E-6\t99.2194E-9\t10.0000E+0\n",
      "\n",
      "102 -666.667E-3\t-10.0007E-9\t2.00009E+0\t1.10123E-6\t1.89724E-6\t99.2194E-9\t10.0000E+0\t-10.0007E-9\t2.00001E+0\t1.10123E-6\t1.89724E-6\t99.2194E-9\t10.0000E+0\t-10.0007E-9\t2.00008E+0\t1.10123E-6\t1.89724E-6\t99.2194E-9\t10.0000E+0\t-10.0007E-9\t1.99995E+0\t1.10123E-6\t1.89724E-6\t99.2194E-9\t10.0000E+0\n",
      "\n",
      "103 -650.980E-3\t-10.0007E-9\t2.00025E+0\t1.10123E-6\t1.89724E-6\t99.2194E-9\t10.0000E+0\t-10.0007E-9\t1.99996E+0\t1.10123E-6\t1.89724E-6\t99.2194E-9\t10.0000E+0\t-10.0007E-9\t2.00008E+0\t1.10123E-6\t1.89724E-6\t99.2194E-9\t10.0000E+0\t-10.0007E-9\t1.99996E+0\t1.10123E-6\t1.89724E-6\t99.2194E-9\t10.0000E+0\n",
      "\n",
      "104 -635.294E-3\t-10.0007E-9\t1.99995E+0\t1.10123E-6\t1.89724E-6\t99.2194E-9\t10.0000E+0\t-10.0007E-9\t1.99990E+0\t1.10123E-6\t1.89724E-6\t99.2194E-9\t10.0000E+0\t-10.0007E-9\t2.00008E+0\t1.10123E-6\t1.89724E-6\t99.2194E-9\t10.0000E+0\t-10.0007E-9\t1.99999E+0\t1.10123E-6\t1.89724E-6\t99.2194E-9\t10.0000E+0\n",
      "\n",
      "105 -619.608E-3\t-10.0007E-9\t2.00002E+0\t1.10123E-6\t1.89724E-6\t99.2194E-9\t10.0000E+0\t-10.0007E-9\t2.00008E+0\t1.10123E-6\t1.89724E-6\t99.2194E-9\t10.0000E+0\t-10.0007E-9\t2.00006E+0\t1.10123E-6\t1.89724E-6\t99.2194E-9\t10.0000E+0\t-10.0007E-9\t2.00001E+0\t1.10123E-6\t1.89724E-6\t99.2194E-9\t10.0000E+0\n",
      "\n",
      "106 -603.922E-3\t-10.0007E-9\t2.00022E+0\t1.10123E-6\t1.89724E-6\t99.2194E-9\t10.0000E+0\t-10.0007E-9\t2.00006E+0\t1.10123E-6\t1.89724E-6\t99.2194E-9\t10.0000E+0\t-10.0007E-9\t2.00004E+0\t1.10123E-6\t1.89724E-6\t99.2194E-9\t10.0000E+0\t-10.0007E-9\t2.00001E+0\t1.10123E-6\t1.89724E-6\t99.2194E-9\t10.0000E+0\n",
      "\n",
      "107 -588.235E-3\t-10.0007E-9\t1.99994E+0\t1.10123E-6\t1.89724E-6\t99.2194E-9\t10.0000E+0\t-10.0007E-9\t1.99999E+0\t1.10123E-6\t1.89724E-6\t99.2194E-9\t10.0000E+0\t-10.0007E-9\t1.99999E+0\t1.10123E-6\t1.89724E-6\t99.2194E-9\t10.0000E+0\t-10.0007E-9\t1.99999E+0\t1.10123E-6\t1.89724E-6\t99.2194E-9\t10.0000E+0\n",
      "\n",
      "108 -572.549E-3\t-10.0007E-9\t1.99989E+0\t1.10123E-6\t1.89724E-6\t99.2194E-9\t10.0000E+0\t-10.0007E-9\t1.99986E+0\t1.10123E-6\t1.89724E-6\t99.2194E-9\t10.0000E+0\t-10.0007E-9\t1.99995E+0\t1.10123E-6\t1.89724E-6\t99.2194E-9\t10.0000E+0\t-10.0007E-9\t1.99996E+0\t1.10123E-6\t1.89724E-6\t99.2194E-9\t10.0000E+0\n",
      "\n",
      "109 -556.863E-3\t-10.0007E-9\t1.99985E+0\t1.10123E-6\t1.89724E-6\t99.2194E-9\t10.0000E+0\t-10.0007E-9\t2.00003E+0\t1.10123E-6\t1.89724E-6\t99.2194E-9\t10.0000E+0\t-10.0007E-9\t1.99995E+0\t1.10123E-6\t1.89724E-6\t99.2194E-9\t10.0000E+0\t-10.0007E-9\t1.99995E+0\t1.10123E-6\t1.89724E-6\t99.2194E-9\t10.0000E+0\n",
      "\n",
      "110 -541.176E-3\t-10.0007E-9\t2.00009E+0\t1.10123E-6\t1.89724E-6\t99.2194E-9\t10.0000E+0\t-10.0007E-9\t1.99989E+0\t1.10123E-6\t1.89724E-6\t99.2194E-9\t10.0000E+0\t-10.0007E-9\t2.00002E+0\t1.10123E-6\t1.89724E-6\t99.2194E-9\t10.0000E+0\t-9.99563E-9\t1.99996E+0\t1.10123E-6\t1.89724E-6\t99.2194E-9\t10.0000E+0\n",
      "\n",
      "111 -525.490E-3\t-10.0007E-9\t2.00006E+0\t1.10123E-6\t1.89724E-6\t99.2194E-9\t10.0000E+0\t-10.0007E-9\t2.00004E+0\t1.10123E-6\t1.89724E-6\t99.2194E-9\t10.0000E+0\t-10.0007E-9\t2.00007E+0\t1.10123E-6\t1.89724E-6\t99.2194E-9\t10.0000E+0\t-9.87303E-9\t1.99997E+0\t1.10123E-6\t1.89724E-6\t99.2194E-9\t10.0000E+0\n",
      "\n",
      "112 -509.804E-3\t-10.0007E-9\t2.00023E+0\t1.10123E-6\t1.89724E-6\t99.2194E-9\t10.0000E+0\t-9.95561E-9\t1.99990E+0\t1.10123E-6\t1.89724E-6\t99.2194E-9\t10.0000E+0\t-10.0007E-9\t2.00009E+0\t1.10123E-6\t1.89724E-6\t99.2194E-9\t10.0000E+0\t-9.49773E-9\t1.99998E+0\t1.10123E-6\t1.89724E-6\t99.2194E-9\t10.0000E+0\n",
      "\n",
      "113 -494.118E-3\t-10.0007E-9\t1.99996E+0\t1.10123E-6\t1.89724E-6\t99.2194E-9\t10.0000E+0\t-8.95348E-9\t2.00005E+0\t1.10123E-6\t1.89724E-6\t99.2194E-9\t10.0000E+0\t-10.0007E-9\t2.00007E+0\t1.10123E-6\t1.89724E-6\t99.2194E-9\t10.0000E+0\t-8.83926E-9\t2.00001E+0\t1.10123E-6\t1.89724E-6\t99.2194E-9\t10.0000E+0\n",
      "\n",
      "114 -478.431E-3\t-10.0007E-9\t2.00005E+0\t1.10123E-6\t1.89724E-6\t99.2194E-9\t10.0000E+0\t-7.83766E-9\t2.00004E+0\t1.10123E-6\t1.89724E-6\t99.2194E-9\t10.0000E+0\t-10.0007E-9\t2.00006E+0\t1.10123E-6\t1.89724E-6\t99.2194E-9\t10.0000E+0\t-8.00612E-9\t2.00000E+0\t1.10123E-6\t1.89724E-6\t99.2194E-9\t10.0000E+0\n",
      "\n",
      "115 -462.745E-3\t-10.0007E-9\t2.00004E+0\t1.10123E-6\t1.89724E-6\t99.2194E-9\t10.0000E+0\t-7.12444E-9\t2.00001E+0\t1.10123E-6\t1.89724E-6\t99.2194E-9\t10.0000E+0\t-10.0007E-9\t2.00007E+0\t1.10123E-6\t1.89724E-6\t99.2194E-9\t10.0000E+0\t-7.14284E-9\t1.99997E+0\t1.10123E-6\t1.89724E-6\t99.2194E-9\t10.0000E+0\n",
      "\n",
      "116 -447.059E-3\t-10.0007E-9\t2.00015E+0\t1.10123E-6\t1.89724E-6\t99.2194E-9\t10.0000E+0\t-6.37548E-9\t1.99987E+0\t1.10123E-6\t1.89724E-6\t99.2194E-9\t10.0000E+0\t-10.0007E-9\t2.00012E+0\t1.10123E-6\t1.89724E-6\t99.2194E-9\t10.0000E+0\t-6.34506E-9\t1.99993E+0\t1.10123E-6\t1.89724E-6\t99.2194E-9\t10.0000E+0\n",
      "\n",
      "117 -431.373E-3\t-10.0007E-9\t2.00016E+0\t1.10123E-6\t1.89724E-6\t99.2194E-9\t10.0000E+0\t-5.53581E-9\t1.99988E+0\t1.10123E-6\t1.89724E-6\t99.2194E-9\t10.0000E+0\t-10.0007E-9\t2.00013E+0\t1.10123E-6\t1.89724E-6\t99.2194E-9\t10.0000E+0\t-5.62428E-9\t1.99991E+0\t1.10123E-6\t1.89724E-6\t99.2194E-9\t10.0000E+0\n",
      "\n",
      "118 -415.686E-3\t-10.0007E-9\t2.00014E+0\t1.10123E-6\t1.89724E-6\t99.2194E-9\t10.0000E+0\t-4.83297E-9\t1.99995E+0\t1.10123E-6\t1.89724E-6\t99.2194E-9\t10.0000E+0\t-9.99221E-9\t2.00011E+0\t1.10123E-6\t1.89724E-6\t99.2194E-9\t10.0000E+0\t-4.98145E-9\t1.99990E+0\t1.10123E-6\t1.89724E-6\t99.2194E-9\t10.0000E+0\n",
      "\n",
      "119 -400.000E-3\t-10.0007E-9\t2.00003E+0\t1.10123E-6\t1.89724E-6\t99.2194E-9\t10.0000E+0\t-4.44956E-9\t1.99990E+0\t1.10123E-6\t1.89724E-6\t99.2194E-9\t10.0000E+0\t-9.76132E-9\t2.00008E+0\t1.10123E-6\t1.89724E-6\t99.2194E-9\t10.0000E+0\t-4.45265E-9\t1.99988E+0\t1.10123E-6\t1.89724E-6\t99.2194E-9\t10.0000E+0\n",
      "\n",
      "120 -384.314E-3\t-9.92500E-9\t2.00001E+0\t1.10123E-6\t1.89724E-6\t99.2194E-9\t10.0000E+0\t-3.94351E-9\t1.99987E+0\t1.10123E-6\t1.89724E-6\t99.2194E-9\t10.0000E+0\t-9.23697E-9\t2.00007E+0\t1.10123E-6\t1.89724E-6\t99.2194E-9\t10.0000E+0\t-4.01160E-9\t1.99983E+0\t1.10123E-6\t1.89724E-6\t99.2194E-9\t10.0000E+0\n",
      "\n",
      "121 -368.627E-3\t-8.01819E-9\t2.00016E+0\t1.10123E-6\t1.89724E-6\t99.2194E-9\t10.0000E+0\t-3.65059E-9\t1.99967E+0\t1.10123E-6\t1.89724E-6\t99.2194E-9\t10.0000E+0\t-8.41068E-9\t2.00008E+0\t1.10123E-6\t1.89724E-6\t99.2194E-9\t10.0000E+0\t-3.60656E-9\t1.99978E+0\t1.10123E-6\t1.89724E-6\t99.2194E-9\t10.0000E+0\n",
      "\n",
      "122 -352.941E-3\t-7.56649E-9\t2.00005E+0\t1.10123E-6\t1.89724E-6\t99.2194E-9\t10.0000E+0\t-3.21243E-9\t1.99981E+0\t1.10123E-6\t1.89724E-6\t99.2194E-9\t10.0000E+0\t-7.45281E-9\t2.00011E+0\t1.10123E-6\t1.89724E-6\t99.2194E-9\t10.0000E+0\t-3.20534E-9\t1.99977E+0\t1.10123E-6\t1.89724E-6\t99.2194E-9\t10.0000E+0\n",
      "\n",
      "123 -337.255E-3\t-6.46892E-9\t2.00013E+0\t1.10123E-6\t1.89724E-6\t99.2194E-9\t10.0000E+0\t-2.76494E-9\t1.99974E+0\t1.10123E-6\t1.89724E-6\t99.2194E-9\t10.0000E+0\t-6.49688E-9\t2.00013E+0\t1.10123E-6\t1.89724E-6\t99.2194E-9\t10.0000E+0\t-2.79786E-9\t1.99978E+0\t1.10123E-6\t1.89724E-6\t99.2194E-9\t10.0000E+0\n",
      "\n",
      "124 -321.569E-3\t-5.55757E-9\t2.00020E+0\t1.10123E-6\t1.89724E-6\t99.2194E-9\t10.0000E+0\t-2.43758E-9\t1.99981E+0\t1.10123E-6\t1.89724E-6\t99.2194E-9\t10.0000E+0\t-5.67342E-9\t2.00016E+0\t1.10123E-6\t1.89724E-6\t99.2194E-9\t10.0000E+0\t-2.38404E-9\t1.99982E+0\t1.10123E-6\t1.89724E-6\t99.2194E-9\t10.0000E+0\n",
      "\n",
      "125 -305.882E-3\t-4.77577E-9\t2.00013E+0\t1.10123E-6\t1.89724E-6\t99.2194E-9\t10.0000E+0\t-1.91971E-9\t1.99987E+0\t1.10123E-6\t1.89724E-6\t99.2194E-9\t10.0000E+0\t-4.93845E-9\t2.00019E+0\t1.10123E-6\t1.89724E-6\t99.2194E-9\t10.0000E+0\t-2.00157E-9\t1.99988E+0\t1.10123E-6\t1.89724E-6\t99.2194E-9\t10.0000E+0\n",
      "\n",
      "126 -290.196E-3\t-4.31157E-9\t2.00035E+0\t1.10123E-6\t1.89724E-6\t99.2194E-9\t10.0000E+0\t-1.58674E-9\t1.99994E+0\t1.10123E-6\t1.89724E-6\t99.2194E-9\t10.0000E+0\t-4.32827E-9\t2.00021E+0\t1.10123E-6\t1.89724E-6\t99.2194E-9\t10.0000E+0\t-1.68636E-9\t1.99995E+0\t1.10123E-6\t1.89724E-6\t99.2194E-9\t10.0000E+0\n",
      "\n",
      "127 -274.510E-3\t-3.86662E-9\t2.00007E+0\t1.10123E-6\t1.89724E-6\t99.2194E-9\t10.0000E+0\t-1.41584E-9\t2.00007E+0\t1.10123E-6\t1.89724E-6\t99.2194E-9\t10.0000E+0\t-3.79411E-9\t2.00022E+0\t1.10123E-6\t1.89724E-6\t99.2194E-9\t10.0000E+0\t-1.43804E-9\t2.00002E+0\t1.10123E-6\t1.89724E-6\t99.2194E-9\t10.0000E+0\n",
      "\n",
      "128 -258.824E-3\t-3.17435E-9\t2.00033E+0\t1.10123E-6\t1.89724E-6\t99.2194E-9\t10.0000E+0\t-1.28459E-9\t2.00008E+0\t1.10123E-6\t1.89724E-6\t99.2194E-9\t10.0000E+0\t-3.30134E-9\t2.00023E+0\t1.10123E-6\t1.89724E-6\t99.2194E-9\t10.0000E+0\t-1.24338E-9\t2.00006E+0\t1.10123E-6\t1.89724E-6\t99.2194E-9\t10.0000E+0\n",
      "\n",
      "129 -243.137E-3\t-2.83194E-9\t2.00026E+0\t1.10123E-6\t1.89724E-6\t99.2194E-9\t10.0000E+0\t-1.02679E-9\t2.00011E+0\t1.10123E-6\t1.89724E-6\t99.2194E-9\t10.0000E+0\t-2.84123E-9\t2.00022E+0\t1.10123E-6\t1.89724E-6\t99.2194E-9\t10.0000E+0\t-1.07093E-9\t2.00009E+0\t1.10123E-6\t1.89724E-6\t99.2194E-9\t10.0000E+0\n",
      "\n",
      "130 -227.451E-3\t-2.43333E-9\t2.00009E+0\t1.10123E-6\t1.89724E-6\t99.2194E-9\t10.0000E+0\t-881.398E-12\t2.00004E+0\t1.10123E-6\t1.89724E-6\t99.2194E-9\t10.0000E+0\t-2.42095E-9\t2.00022E+0\t1.10123E-6\t1.89724E-6\t99.2194E-9\t10.0000E+0\t-917.598E-12\t2.00011E+0\t1.10123E-6\t1.89724E-6\t99.2194E-9\t10.0000E+0\n",
      "\n",
      "131 -211.765E-3\t-1.99944E-9\t2.00030E+0\t1.10123E-6\t1.89724E-6\t99.2194E-9\t10.0000E+0\t-794.950E-12\t2.00020E+0\t1.10123E-6\t1.89724E-6\t99.2194E-9\t10.0000E+0\t-2.03885E-9\t2.00022E+0\t1.10123E-6\t1.89724E-6\t99.2194E-9\t10.0000E+0\t-782.385E-12\t2.00012E+0\t1.10123E-6\t1.89724E-6\t99.2194E-9\t10.0000E+0\n",
      "\n",
      "132 -196.078E-3\t-1.65621E-9\t2.00020E+0\t1.10123E-6\t1.89724E-6\t99.2194E-9\t10.0000E+0\t-677.489E-12\t2.00017E+0\t1.10123E-6\t1.89724E-6\t99.2194E-9\t10.0000E+0\t-1.67584E-9\t2.00024E+0\t1.10123E-6\t1.89724E-6\t99.2194E-9\t10.0000E+0\t-635.803E-12\t2.00009E+0\t1.10123E-6\t1.89724E-6\t99.2194E-9\t10.0000E+0\n",
      "\n",
      "133 -180.392E-3\t-1.32785E-9\t2.00027E+0\t1.10123E-6\t1.89724E-6\t99.2194E-9\t10.0000E+0\t-516.281E-12\t2.00000E+0\t1.10123E-6\t1.89724E-6\t99.2194E-9\t10.0000E+0\t-1.36125E-9\t2.00027E+0\t1.10123E-6\t1.89724E-6\t99.2194E-9\t10.0000E+0\t-466.909E-12\t2.00003E+0\t1.10123E-6\t1.89724E-6\t99.2194E-9\t10.0000E+0\n",
      "\n",
      "134 -164.706E-3\t-1.02332E-9\t2.00028E+0\t1.10123E-6\t1.89724E-6\t99.2194E-9\t10.0000E+0\t-193.007E-12\t1.99989E+0\t1.10123E-6\t1.89724E-6\t99.2194E-9\t10.0000E+0\t-1.10752E-9\t2.00030E+0\t1.10123E-6\t1.89724E-6\t99.2194E-9\t10.0000E+0\t-301.901E-12\t1.99995E+0\t1.10123E-6\t1.89724E-6\t99.2194E-9\t10.0000E+0\n",
      "\n",
      "135 -149.020E-3\t-904.784E-12\t2.00032E+0\t1.10123E-6\t1.89724E-6\t99.2194E-9\t10.0000E+0\t-138.714E-12\t1.99991E+0\t1.10123E-6\t1.89724E-6\t99.2194E-9\t10.0000E+0\t-907.091E-12\t2.00036E+0\t1.10123E-6\t1.89724E-6\t99.2194E-9\t10.0000E+0\t-183.580E-12\t1.99990E+0\t1.10123E-6\t1.89724E-6\t99.2194E-9\t10.0000E+0\n",
      "\n",
      "136 -133.333E-3\t-750.470E-12\t2.00049E+0\t1.10123E-6\t1.89724E-6\t99.2194E-9\t10.0000E+0\t-113.944E-12\t1.99988E+0\t1.10123E-6\t1.89724E-6\t99.2194E-9\t10.0000E+0\t-738.824E-12\t2.00040E+0\t1.10123E-6\t1.89724E-6\t99.2194E-9\t10.0000E+0\t-122.473E-12\t1.99988E+0\t1.10123E-6\t1.89724E-6\t99.2194E-9\t10.0000E+0\n",
      "\n",
      "137 -117.647E-3\t-578.100E-12\t2.00041E+0\t1.10123E-6\t1.89724E-6\t99.2194E-9\t10.0000E+0\t-100.302E-12\t1.99983E+0\t1.10123E-6\t1.89724E-6\t99.2194E-9\t10.0000E+0\t-587.041E-12\t2.00042E+0\t1.10123E-6\t1.89724E-6\t99.2194E-9\t10.0000E+0\t-102.977E-12\t1.99987E+0\t1.10123E-6\t1.89724E-6\t99.2194E-9\t10.0000E+0\n",
      "\n",
      "138 -101.961E-3\t-411.585E-12\t2.00037E+0\t1.10123E-6\t1.89724E-6\t99.2194E-9\t10.0000E+0\t-87.6748E-12\t1.99996E+0\t1.10123E-6\t1.89724E-6\t99.2194E-9\t10.0000E+0\t-449.312E-12\t2.00041E+0\t1.10123E-6\t1.89724E-6\t99.2194E-9\t10.0000E+0\t-90.9715E-12\t1.99984E+0\t1.10123E-6\t1.89724E-6\t99.2194E-9\t10.0000E+0\n",
      "\n",
      "139 -86.2745E-3\t-319.060E-12\t2.00046E+0\t1.10123E-6\t1.89724E-6\t99.2194E-9\t10.0000E+0\t-83.6932E-12\t1.99977E+0\t1.10123E-6\t1.89724E-6\t99.2194E-9\t10.0000E+0\t-340.869E-12\t2.00040E+0\t1.10123E-6\t1.89724E-6\t99.2194E-9\t10.0000E+0\t-81.6034E-12\t1.99981E+0\t1.10123E-6\t1.89724E-6\t99.2194E-9\t10.0000E+0\n",
      "\n",
      "140 -70.5882E-3\t-253.809E-12\t2.00035E+0\t1.10123E-6\t1.89724E-6\t99.2194E-9\t10.0000E+0\t-72.6170E-12\t1.99970E+0\t1.10123E-6\t1.89724E-6\t99.2194E-9\t10.0000E+0\t-261.025E-12\t2.00040E+0\t1.10123E-6\t1.89724E-6\t99.2194E-9\t10.0000E+0\t-71.9954E-12\t1.99980E+0\t1.10123E-6\t1.89724E-6\t99.2194E-9\t10.0000E+0\n",
      "\n",
      "141 -54.9020E-3\t-197.521E-12\t2.00040E+0\t1.10123E-6\t1.89724E-6\t99.2194E-9\t10.0000E+0\t-63.3958E-12\t1.99985E+0\t1.10123E-6\t1.89724E-6\t99.2194E-9\t10.0000E+0\t-199.852E-12\t2.00036E+0\t1.10123E-6\t1.89724E-6\t99.2194E-9\t10.0000E+0\t-60.3950E-12\t1.99977E+0\t1.10123E-6\t1.89724E-6\t99.2194E-9\t10.0000E+0\n",
      "\n",
      "142 -39.2157E-3\t-141.659E-12\t2.00040E+0\t1.10123E-6\t1.89724E-6\t99.2194E-9\t10.0000E+0\t-48.0679E-12\t1.99983E+0\t1.10123E-6\t1.89724E-6\t99.2194E-9\t10.0000E+0\t-141.749E-12\t2.00032E+0\t1.10123E-6\t1.89724E-6\t99.2194E-9\t10.0000E+0\t-46.2066E-12\t1.99977E+0\t1.10123E-6\t1.89724E-6\t99.2194E-9\t10.0000E+0\n",
      "\n",
      "143 -23.5294E-3\t-95.9499E-12\t2.00013E+0\t1.10123E-6\t1.89724E-6\t99.2194E-9\t10.0000E+0\t-29.1622E-12\t1.99956E+0\t1.10123E-6\t1.89724E-6\t99.2194E-9\t10.0000E+0\t-80.7655E-12\t2.00029E+0\t1.10123E-6\t1.89724E-6\t99.2194E-9\t10.0000E+0\t-30.2279E-12\t1.99978E+0\t1.10123E-6\t1.89724E-6\t99.2194E-9\t10.0000E+0\n",
      "\n",
      "144 -7.84314E-3\t-8.82516E-12\t2.00033E+0\t1.10123E-6\t1.89724E-6\t99.2194E-9\t10.0000E+0\t-14.4299E-12\t1.99993E+0\t1.10123E-6\t1.89724E-6\t99.2194E-9\t10.0000E+0\t-15.1294E-12\t2.00027E+0\t1.10123E-6\t1.89724E-6\t99.2194E-9\t10.0000E+0\t-13.5718E-12\t1.99980E+0\t1.10123E-6\t1.89724E-6\t99.2194E-9\t10.0000E+0\n",
      "\n",
      "145 7.84314E-3\t53.8792E-12\t2.00031E+0\t1.10123E-6\t1.89724E-6\t99.2194E-9\t10.0000E+0\t4.36596E-12\t1.99983E+0\t1.10123E-6\t1.89724E-6\t99.2194E-9\t10.0000E+0\t53.7187E-12\t2.00027E+0\t1.10123E-6\t1.89724E-6\t99.2194E-9\t10.0000E+0\t2.97193E-12\t1.99982E+0\t1.10123E-6\t1.89724E-6\t99.2194E-9\t10.0000E+0\n",
      "\n",
      "146 23.5294E-3\t119.269E-12\t2.00021E+0\t1.10123E-6\t1.89724E-6\t99.2194E-9\t10.0000E+0\t18.2870E-12\t1.99982E+0\t1.10123E-6\t1.89724E-6\t99.2194E-9\t10.0000E+0\t125.282E-12\t2.00030E+0\t1.10123E-6\t1.89724E-6\t99.2194E-9\t10.0000E+0\t18.7491E-12\t1.99984E+0\t1.10123E-6\t1.89724E-6\t99.2194E-9\t10.0000E+0\n",
      "\n",
      "147 39.2157E-3\t196.586E-12\t2.00034E+0\t1.10123E-6\t1.89724E-6\t99.2194E-9\t10.0000E+0\t35.7344E-12\t1.99983E+0\t1.10123E-6\t1.89724E-6\t99.2194E-9\t10.0000E+0\t200.504E-12\t2.00032E+0\t1.10123E-6\t1.89724E-6\t99.2194E-9\t10.0000E+0\t34.2859E-12\t1.99985E+0\t1.10123E-6\t1.89724E-6\t99.2194E-9\t10.0000E+0\n",
      "\n",
      "148 54.9020E-3\t275.943E-12\t2.00043E+0\t1.10123E-6\t1.89724E-6\t99.2194E-9\t10.0000E+0\t47.6758E-12\t1.99988E+0\t1.10123E-6\t1.89724E-6\t99.2194E-9\t10.0000E+0\t286.666E-12\t2.00036E+0\t1.10123E-6\t1.89724E-6\t99.2194E-9\t10.0000E+0\t51.5498E-12\t1.99988E+0\t1.10123E-6\t1.89724E-6\t99.2194E-9\t10.0000E+0\n",
      "\n",
      "149 70.5882E-3\t370.045E-12\t2.00030E+0\t1.10123E-6\t1.89724E-6\t99.2194E-9\t10.0000E+0\t65.7921E-12\t1.99995E+0\t1.10123E-6\t1.89724E-6\t99.2194E-9\t10.0000E+0\t385.060E-12\t2.00038E+0\t1.10123E-6\t1.89724E-6\t99.2194E-9\t10.0000E+0\t74.0293E-12\t1.99988E+0\t1.10123E-6\t1.89724E-6\t99.2194E-9\t10.0000E+0\n",
      "\n",
      "150 86.2745E-3\t497.396E-12\t2.00050E+0\t1.10123E-6\t1.89724E-6\t99.2194E-9\t10.0000E+0\t98.6737E-12\t1.99986E+0\t1.10123E-6\t1.89724E-6\t99.2194E-9\t10.0000E+0\t495.652E-12\t2.00035E+0\t1.10123E-6\t1.89724E-6\t99.2194E-9\t10.0000E+0\t104.783E-12\t1.99990E+0\t1.10123E-6\t1.89724E-6\t99.2194E-9\t10.0000E+0\n",
      "\n",
      "151 101.961E-3\t607.533E-12\t2.00027E+0\t1.10123E-6\t1.89724E-6\t99.2194E-9\t10.0000E+0\t138.333E-12\t1.99980E+0\t1.10123E-6\t1.89724E-6\t99.2194E-9\t10.0000E+0\t616.919E-12\t2.00030E+0\t1.10123E-6\t1.89724E-6\t99.2194E-9\t10.0000E+0\t147.591E-12\t1.99990E+0\t1.10123E-6\t1.89724E-6\t99.2194E-9\t10.0000E+0\n",
      "\n",
      "152 117.647E-3\t739.676E-12\t2.00014E+0\t1.10123E-6\t1.89724E-6\t99.2194E-9\t10.0000E+0\t190.018E-12\t2.00010E+0\t1.10123E-6\t1.89724E-6\t99.2194E-9\t10.0000E+0\t752.485E-12\t2.00026E+0\t1.10123E-6\t1.89724E-6\t99.2194E-9\t10.0000E+0\t205.957E-12\t1.99991E+0\t1.10123E-6\t1.89724E-6\t99.2194E-9\t10.0000E+0\n",
      "\n",
      "153 133.333E-3\t882.457E-12\t2.00026E+0\t1.10123E-6\t1.89724E-6\t99.2194E-9\t10.0000E+0\t268.296E-12\t1.99977E+0\t1.10123E-6\t1.89724E-6\t99.2194E-9\t10.0000E+0\t906.210E-12\t2.00025E+0\t1.10123E-6\t1.89724E-6\t99.2194E-9\t10.0000E+0\t285.928E-12\t1.99991E+0\t1.10123E-6\t1.89724E-6\t99.2194E-9\t10.0000E+0\n",
      "\n",
      "154 149.020E-3\t1.07410E-9\t2.00030E+0\t1.10123E-6\t1.89724E-6\t99.2194E-9\t10.0000E+0\t367.753E-12\t1.99997E+0\t1.10123E-6\t1.89724E-6\t99.2194E-9\t10.0000E+0\t1.07518E-9\t2.00027E+0\t1.10123E-6\t1.89724E-6\t99.2194E-9\t10.0000E+0\t390.641E-12\t1.99991E+0\t1.10123E-6\t1.89724E-6\t99.2194E-9\t10.0000E+0\n",
      "\n",
      "155 164.706E-3\t1.26658E-9\t2.00029E+0\t1.10123E-6\t1.89724E-6\t99.2194E-9\t10.0000E+0\t511.264E-12\t1.99991E+0\t1.10123E-6\t1.89724E-6\t99.2194E-9\t10.0000E+0\t1.25366E-9\t2.00026E+0\t1.10123E-6\t1.89724E-6\t99.2194E-9\t10.0000E+0\t522.492E-12\t1.99990E+0\t1.10123E-6\t1.89724E-6\t99.2194E-9\t10.0000E+0\n",
      "\n",
      "156 180.392E-3\t1.41641E-9\t2.00029E+0\t1.10123E-6\t1.89724E-6\t99.2194E-9\t10.0000E+0\t657.121E-12\t1.99985E+0\t1.10123E-6\t1.89724E-6\t99.2194E-9\t10.0000E+0\t1.44697E-9\t2.00024E+0\t1.10123E-6\t1.89724E-6\t99.2194E-9\t10.0000E+0\t682.161E-12\t1.99990E+0\t1.10123E-6\t1.89724E-6\t99.2194E-9\t10.0000E+0\n",
      "\n",
      "157 196.078E-3\t1.62530E-9\t2.00005E+0\t1.10123E-6\t1.89724E-6\t99.2194E-9\t10.0000E+0\t849.781E-12\t1.99996E+0\t1.10123E-6\t1.89724E-6\t99.2194E-9\t10.0000E+0\t1.67805E-9\t2.00023E+0\t1.10123E-6\t1.89724E-6\t99.2194E-9\t10.0000E+0\t869.867E-12\t1.99989E+0\t1.10123E-6\t1.89724E-6\t99.2194E-9\t10.0000E+0\n",
      "\n",
      "158 211.765E-3\t1.90724E-9\t2.00032E+0\t1.10123E-6\t1.89724E-6\t99.2194E-9\t10.0000E+0\t1.07157E-9\t1.99985E+0\t1.10123E-6\t1.89724E-6\t99.2194E-9\t10.0000E+0\t1.95840E-9\t2.00024E+0\t1.10123E-6\t1.89724E-6\t99.2194E-9\t10.0000E+0\t1.07898E-9\t1.99986E+0\t1.10123E-6\t1.89724E-6\t99.2194E-9\t10.0000E+0\n",
      "\n",
      "159 227.451E-3\t2.30165E-9\t2.00033E+0\t1.10123E-6\t1.89724E-6\t99.2194E-9\t10.0000E+0\t1.30644E-9\t1.99984E+0\t1.10123E-6\t1.89724E-6\t99.2194E-9\t10.0000E+0\t2.27236E-9\t2.00023E+0\t1.10123E-6\t1.89724E-6\t99.2194E-9\t10.0000E+0\t1.29617E-9\t1.99984E+0\t1.10123E-6\t1.89724E-6\t99.2194E-9\t10.0000E+0\n",
      "\n",
      "160 243.137E-3\t2.61796E-9\t2.00018E+0\t1.10123E-6\t1.89724E-6\t99.2194E-9\t10.0000E+0\t1.52465E-9\t1.99971E+0\t1.10123E-6\t1.89724E-6\t99.2194E-9\t10.0000E+0\t2.59238E-9\t2.00021E+0\t1.10123E-6\t1.89724E-6\t99.2194E-9\t10.0000E+0\t1.53191E-9\t1.99987E+0\t1.10123E-6\t1.89724E-6\t99.2194E-9\t10.0000E+0\n",
      "\n",
      "161 258.824E-3\t2.88112E-9\t2.00010E+0\t1.10123E-6\t1.89724E-6\t99.2194E-9\t10.0000E+0\t1.70646E-9\t2.00000E+0\t1.10123E-6\t1.89724E-6\t99.2194E-9\t10.0000E+0\t2.94860E-9\t2.00018E+0\t1.10123E-6\t1.89724E-6\t99.2194E-9\t10.0000E+0\t1.78574E-9\t1.99993E+0\t1.10123E-6\t1.89724E-6\t99.2194E-9\t10.0000E+0\n",
      "\n",
      "162 274.510E-3\t3.21217E-9\t2.00014E+0\t1.10123E-6\t1.89724E-6\t99.2194E-9\t10.0000E+0\t2.11981E-9\t2.00010E+0\t1.10123E-6\t1.89724E-6\t99.2194E-9\t10.0000E+0\t3.34423E-9\t2.00020E+0\t1.10123E-6\t1.89724E-6\t99.2194E-9\t10.0000E+0\t2.05738E-9\t2.00000E+0\t1.10123E-6\t1.89724E-6\t99.2194E-9\t10.0000E+0\n",
      "\n",
      "163 290.196E-3\t3.92098E-9\t2.00038E+0\t1.10123E-6\t1.89724E-6\t99.2194E-9\t10.0000E+0\t2.32603E-9\t1.99994E+0\t1.10123E-6\t1.89724E-6\t99.2194E-9\t10.0000E+0\t3.84195E-9\t2.00024E+0\t1.10123E-6\t1.89724E-6\t99.2194E-9\t10.0000E+0\t2.33115E-9\t2.00005E+0\t1.10123E-6\t1.89724E-6\t99.2194E-9\t10.0000E+0\n",
      "\n",
      "164 305.882E-3\t4.18894E-9\t2.00018E+0\t1.10123E-6\t1.89724E-6\t99.2194E-9\t10.0000E+0\t2.59459E-9\t2.00019E+0\t1.10123E-6\t1.89724E-6\t99.2194E-9\t10.0000E+0\t4.42131E-9\t2.00027E+0\t1.10123E-6\t1.89724E-6\t99.2194E-9\t10.0000E+0\t2.62204E-9\t2.00007E+0\t1.10123E-6\t1.89724E-6\t99.2194E-9\t10.0000E+0\n",
      "\n",
      "165 321.569E-3\t5.18663E-9\t2.00030E+0\t1.10123E-6\t1.89724E-6\t99.2194E-9\t10.0000E+0\t2.85941E-9\t1.99999E+0\t1.10123E-6\t1.89724E-6\t99.2194E-9\t10.0000E+0\t5.04375E-9\t2.00030E+0\t1.10123E-6\t1.89724E-6\t99.2194E-9\t10.0000E+0\t2.90716E-9\t2.00006E+0\t1.10123E-6\t1.89724E-6\t99.2194E-9\t10.0000E+0\n",
      "\n",
      "166 337.255E-3\t5.70109E-9\t2.00036E+0\t1.10123E-6\t1.89724E-6\t99.2194E-9\t10.0000E+0\t3.32300E-9\t2.00019E+0\t1.10123E-6\t1.89724E-6\t99.2194E-9\t10.0000E+0\t5.74295E-9\t2.00031E+0\t1.10123E-6\t1.89724E-6\t99.2194E-9\t10.0000E+0\t3.23964E-9\t2.00005E+0\t1.10123E-6\t1.89724E-6\t99.2194E-9\t10.0000E+0\n",
      "\n",
      "167 352.941E-3\t6.19621E-9\t2.00032E+0\t1.10123E-6\t1.89724E-6\t99.2194E-9\t10.0000E+0\t3.39948E-9\t1.99987E+0\t1.10123E-6\t1.89724E-6\t99.2194E-9\t10.0000E+0\t6.65716E-9\t2.00031E+0\t1.10123E-6\t1.89724E-6\t99.2194E-9\t10.0000E+0\t3.66645E-9\t2.00004E+0\t1.10123E-6\t1.89724E-6\t99.2194E-9\t10.0000E+0\n",
      "\n",
      "168 368.627E-3\t7.62896E-9\t2.00031E+0\t1.10123E-6\t1.89724E-6\t99.2194E-9\t10.0000E+0\t4.12461E-9\t2.00006E+0\t1.10123E-6\t1.89724E-6\t99.2194E-9\t10.0000E+0\t7.74205E-9\t2.00026E+0\t1.10123E-6\t1.89724E-6\t99.2194E-9\t10.0000E+0\t4.20276E-9\t2.00005E+0\t1.10123E-6\t1.89724E-6\t99.2194E-9\t10.0000E+0\n",
      "\n",
      "169 384.314E-3\t9.34740E-9\t2.00016E+0\t1.10123E-6\t1.89724E-6\t99.2194E-9\t10.0000E+0\t4.95634E-9\t2.00016E+0\t1.10123E-6\t1.89724E-6\t99.2194E-9\t10.0000E+0\t8.80781E-9\t2.00020E+0\t1.10123E-6\t1.89724E-6\t99.2194E-9\t10.0000E+0\t4.79036E-9\t2.00004E+0\t1.10123E-6\t1.89724E-6\t99.2194E-9\t10.0000E+0\n",
      "\n",
      "170 400.000E-3\t9.96446E-9\t2.00009E+0\t1.10123E-6\t1.89724E-6\t99.2194E-9\t10.0000E+0\t5.40020E-9\t2.00001E+0\t1.10123E-6\t1.89724E-6\t99.2194E-9\t10.0000E+0\t9.56991E-9\t2.00016E+0\t1.10123E-6\t1.89724E-6\t99.2194E-9\t10.0000E+0\t5.42834E-9\t2.00003E+0\t1.10123E-6\t1.89724E-6\t99.2194E-9\t10.0000E+0\n",
      "\n",
      "171 415.686E-3\t9.99965E-9\t2.00016E+0\t1.10123E-6\t1.89724E-6\t99.2194E-9\t10.0000E+0\t5.84846E-9\t1.99992E+0\t1.10123E-6\t1.89724E-6\t99.2194E-9\t10.0000E+0\t9.91847E-9\t2.00016E+0\t1.10123E-6\t1.89724E-6\t99.2194E-9\t10.0000E+0\t6.13038E-9\t1.99997E+0\t1.10123E-6\t1.89724E-6\t99.2194E-9\t10.0000E+0\n",
      "\n",
      "172 431.373E-3\t9.99965E-9\t2.00024E+0\t1.10123E-6\t1.89724E-6\t99.2194E-9\t10.0000E+0\t6.91840E-9\t1.99997E+0\t1.10123E-6\t1.89724E-6\t99.2194E-9\t10.0000E+0\t9.99572E-9\t2.00017E+0\t1.10123E-6\t1.89724E-6\t99.2194E-9\t10.0000E+0\t7.08353E-9\t1.99993E+0\t1.10123E-6\t1.89724E-6\t99.2194E-9\t10.0000E+0\n",
      "\n",
      "173 447.059E-3\t9.99965E-9\t2.00016E+0\t1.10123E-6\t1.89724E-6\t99.2194E-9\t10.0000E+0\t7.94832E-9\t1.99983E+0\t1.10123E-6\t1.89724E-6\t99.2194E-9\t10.0000E+0\t9.99965E-9\t2.00014E+0\t1.10123E-6\t1.89724E-6\t99.2194E-9\t10.0000E+0\t8.18444E-9\t1.99989E+0\t1.10123E-6\t1.89724E-6\t99.2194E-9\t10.0000E+0\n",
      "\n",
      "174 462.745E-3\t9.99965E-9\t2.00007E+0\t1.10123E-6\t1.89724E-6\t99.2194E-9\t10.0000E+0\t9.99965E-9\t1.99993E+0\t1.10123E-6\t1.89724E-6\t99.2194E-9\t10.0000E+0\t9.99965E-9\t2.00008E+0\t1.10123E-6\t1.89724E-6\t99.2194E-9\t10.0000E+0\t9.17037E-9\t1.99988E+0\t1.10123E-6\t1.89724E-6\t99.2194E-9\t10.0000E+0\n",
      "\n",
      "175 478.431E-3\t9.99965E-9\t1.99999E+0\t1.10123E-6\t1.89724E-6\t99.2194E-9\t10.0000E+0\t9.99965E-9\t1.99975E+0\t1.10123E-6\t1.89724E-6\t99.2194E-9\t10.0000E+0\t9.99965E-9\t2.00006E+0\t1.10123E-6\t1.89724E-6\t99.2194E-9\t10.0000E+0\t9.77051E-9\t1.99990E+0\t1.10123E-6\t1.89724E-6\t99.2194E-9\t10.0000E+0\n",
      "\n",
      "176 494.118E-3\t9.99965E-9\t2.00000E+0\t1.10123E-6\t1.89724E-6\t99.2194E-9\t10.0000E+0\t9.99965E-9\t2.00007E+0\t1.10123E-6\t1.89724E-6\t99.2194E-9\t10.0000E+0\t9.99965E-9\t2.00009E+0\t1.10123E-6\t1.89724E-6\t99.2194E-9\t10.0000E+0\t9.99965E-9\t1.99993E+0\t1.10123E-6\t1.89724E-6\t99.2194E-9\t10.0000E+0\n",
      "\n",
      "177 509.804E-3\t9.99965E-9\t2.00026E+0\t1.10123E-6\t1.89724E-6\t99.2194E-9\t10.0000E+0\t9.99965E-9\t1.99997E+0\t1.10123E-6\t1.89724E-6\t99.2194E-9\t10.0000E+0\t9.99965E-9\t2.00012E+0\t1.10123E-6\t1.89724E-6\t99.2194E-9\t10.0000E+0\t9.99965E-9\t1.99992E+0\t1.10123E-6\t1.89724E-6\t99.2194E-9\t10.0000E+0\n",
      "\n",
      "178 525.490E-3\t9.99965E-9\t2.00015E+0\t1.10123E-6\t1.89724E-6\t99.2194E-9\t10.0000E+0\t9.99965E-9\t1.99981E+0\t1.10123E-6\t1.89724E-6\t99.2194E-9\t10.0000E+0\t9.99965E-9\t2.00014E+0\t1.10123E-6\t1.89724E-6\t99.2194E-9\t10.0000E+0\t9.99965E-9\t1.99991E+0\t1.10123E-6\t1.89724E-6\t99.2194E-9\t10.0000E+0\n",
      "\n",
      "179 541.176E-3\t9.99965E-9\t2.00009E+0\t1.10123E-6\t1.89724E-6\t99.2194E-9\t10.0000E+0\t9.99965E-9\t1.99989E+0\t1.10123E-6\t1.89724E-6\t99.2194E-9\t10.0000E+0\t9.99965E-9\t2.00013E+0\t1.10123E-6\t1.89724E-6\t99.2194E-9\t10.0000E+0\t9.99965E-9\t1.99993E+0\t1.10123E-6\t1.89724E-6\t99.2194E-9\t10.0000E+0\n",
      "\n",
      "180 556.863E-3\t9.99965E-9\t2.00012E+0\t1.10123E-6\t1.89724E-6\t99.2194E-9\t10.0000E+0\t9.99965E-9\t1.99994E+0\t1.10123E-6\t1.89724E-6\t99.2194E-9\t10.0000E+0\t9.99965E-9\t2.00011E+0\t1.10123E-6\t1.89724E-6\t99.2194E-9\t10.0000E+0\t9.99965E-9\t1.99999E+0\t1.10123E-6\t1.89724E-6\t99.2194E-9\t10.0000E+0\n",
      "\n",
      "181 572.549E-3\t9.99965E-9\t2.00006E+0\t1.10123E-6\t1.89724E-6\t99.2194E-9\t10.0000E+0\t9.99965E-9\t2.00023E+0\t1.10123E-6\t1.89724E-6\t99.2194E-9\t10.0000E+0\t9.99965E-9\t2.00010E+0\t1.10123E-6\t1.89724E-6\t99.2194E-9\t10.0000E+0\t9.99965E-9\t2.00003E+0\t1.10123E-6\t1.89724E-6\t99.2194E-9\t10.0000E+0\n",
      "\n",
      "182 588.235E-3\t9.99965E-9\t2.00017E+0\t1.10123E-6\t1.89724E-6\t99.2194E-9\t10.0000E+0\t9.99965E-9\t1.99998E+0\t1.10123E-6\t1.89724E-6\t99.2194E-9\t10.0000E+0\t9.99965E-9\t2.00011E+0\t1.10123E-6\t1.89724E-6\t99.2194E-9\t10.0000E+0\t9.99965E-9\t2.00000E+0\t1.10123E-6\t1.89724E-6\t99.2194E-9\t10.0000E+0\n",
      "\n",
      "183 603.922E-3\t9.99965E-9\t2.00005E+0\t1.10123E-6\t1.89724E-6\t99.2194E-9\t10.0000E+0\t9.99965E-9\t1.99990E+0\t1.10123E-6\t1.89724E-6\t99.2194E-9\t10.0000E+0\t9.99965E-9\t2.00012E+0\t1.10123E-6\t1.89724E-6\t99.2194E-9\t10.0000E+0\t9.99965E-9\t1.99996E+0\t1.10123E-6\t1.89724E-6\t99.2194E-9\t10.0000E+0\n",
      "\n",
      "184 619.608E-3\t9.99965E-9\t2.00012E+0\t1.10123E-6\t1.89724E-6\t99.2194E-9\t10.0000E+0\t9.99965E-9\t1.99986E+0\t1.10123E-6\t1.89724E-6\t99.2194E-9\t10.0000E+0\t9.99965E-9\t2.00014E+0\t1.10123E-6\t1.89724E-6\t99.2194E-9\t10.0000E+0\t9.99965E-9\t1.99990E+0\t1.10123E-6\t1.89724E-6\t99.2194E-9\t10.0000E+0\n",
      "\n",
      "185 635.294E-3\t9.99965E-9\t2.00022E+0\t1.10123E-6\t1.89724E-6\t99.2194E-9\t10.0000E+0\t9.99965E-9\t2.00003E+0\t1.10123E-6\t1.89724E-6\t99.2194E-9\t10.0000E+0\t9.99965E-9\t2.00015E+0\t1.10123E-6\t1.89724E-6\t99.2194E-9\t10.0000E+0\t9.99965E-9\t1.99984E+0\t1.10123E-6\t1.89724E-6\t99.2194E-9\t10.0000E+0\n",
      "\n",
      "186 650.980E-3\t9.99965E-9\t2.00021E+0\t1.10123E-6\t1.89724E-6\t99.2194E-9\t10.0000E+0\t9.99965E-9\t1.99969E+0\t1.10123E-6\t1.89724E-6\t99.2194E-9\t10.0000E+0\t9.99965E-9\t2.00014E+0\t1.10123E-6\t1.89724E-6\t99.2194E-9\t10.0000E+0\t9.99965E-9\t1.99976E+0\t1.10123E-6\t1.89724E-6\t99.2194E-9\t10.0000E+0\n",
      "\n",
      "187 666.667E-3\t9.99965E-9\t1.99999E+0\t1.10123E-6\t1.89724E-6\t99.2194E-9\t10.0000E+0\t9.99965E-9\t1.99956E+0\t1.10123E-6\t1.89724E-6\t99.2194E-9\t10.0000E+0\t9.99965E-9\t2.00010E+0\t1.10123E-6\t1.89724E-6\t99.2194E-9\t10.0000E+0\t9.99965E-9\t1.99969E+0\t1.10123E-6\t1.89724E-6\t99.2194E-9\t10.0000E+0\n",
      "\n",
      "188 682.353E-3\t9.99965E-9\t2.00010E+0\t1.10123E-6\t1.89724E-6\t99.2194E-9\t10.0000E+0\t9.99965E-9\t1.99975E+0\t1.10123E-6\t1.89724E-6\t99.2194E-9\t10.0000E+0\t9.99965E-9\t2.00006E+0\t1.10123E-6\t1.89724E-6\t99.2194E-9\t10.0000E+0\t9.99965E-9\t1.99966E+0\t1.10123E-6\t1.89724E-6\t99.2194E-9\t10.0000E+0\n",
      "\n",
      "189 698.039E-3\t9.99965E-9\t2.00009E+0\t1.10123E-6\t1.89724E-6\t99.2194E-9\t10.0000E+0\t9.99965E-9\t1.99960E+0\t1.10123E-6\t1.89724E-6\t99.2194E-9\t10.0000E+0\t9.99965E-9\t2.00002E+0\t1.10123E-6\t1.89724E-6\t99.2194E-9\t10.0000E+0\t9.99965E-9\t1.99969E+0\t1.10123E-6\t1.89724E-6\t99.2194E-9\t10.0000E+0\n",
      "\n",
      "190 713.726E-3\t9.99965E-9\t1.99988E+0\t1.10123E-6\t1.89724E-6\t99.2194E-9\t10.0000E+0\t9.99965E-9\t1.99975E+0\t1.10123E-6\t1.89724E-6\t99.2194E-9\t10.0000E+0\t9.99965E-9\t1.99998E+0\t1.10123E-6\t1.89724E-6\t99.2194E-9\t10.0000E+0\t9.99965E-9\t1.99972E+0\t1.10123E-6\t1.89724E-6\t99.2194E-9\t10.0000E+0\n",
      "\n",
      "191 729.412E-3\t9.99965E-9\t1.99995E+0\t1.10123E-6\t1.89724E-6\t99.2194E-9\t10.0000E+0\t9.99965E-9\t1.99979E+0\t1.10123E-6\t1.89724E-6\t99.2194E-9\t10.0000E+0\t9.99965E-9\t1.99994E+0\t1.10123E-6\t1.89724E-6\t99.2194E-9\t10.0000E+0\t9.99965E-9\t1.99974E+0\t1.10123E-6\t1.89724E-6\t99.2194E-9\t10.0000E+0\n",
      "\n",
      "192 745.098E-3\t9.99965E-9\t1.99993E+0\t1.10123E-6\t1.89724E-6\t99.2194E-9\t10.0000E+0\t9.99965E-9\t1.99969E+0\t1.10123E-6\t1.89724E-6\t99.2194E-9\t10.0000E+0\t9.99965E-9\t1.99992E+0\t1.10123E-6\t1.89724E-6\t99.2194E-9\t10.0000E+0\t9.99965E-9\t1.99976E+0\t1.10123E-6\t1.89724E-6\t99.2194E-9\t10.0000E+0\n",
      "\n",
      "193 760.784E-3\t9.99965E-9\t1.99996E+0\t1.10123E-6\t1.89724E-6\t99.2194E-9\t10.0000E+0\t9.99965E-9\t1.99983E+0\t1.10123E-6\t1.89724E-6\t99.2194E-9\t10.0000E+0\t9.99965E-9\t1.99994E+0\t1.10123E-6\t1.89724E-6\t99.2194E-9\t10.0000E+0\t9.99965E-9\t1.99974E+0\t1.10123E-6\t1.89724E-6\t99.2194E-9\t10.0000E+0\n",
      "\n",
      "194 776.471E-3\t9.99965E-9\t1.99984E+0\t1.10123E-6\t1.89724E-6\t99.2194E-9\t10.0000E+0\t9.99965E-9\t1.99973E+0\t1.10123E-6\t1.89724E-6\t99.2194E-9\t10.0000E+0\t9.99965E-9\t1.99995E+0\t1.10123E-6\t1.89724E-6\t99.2194E-9\t10.0000E+0\t9.99965E-9\t1.99971E+0\t1.10123E-6\t1.89724E-6\t99.2194E-9\t10.0000E+0\n",
      "\n",
      "195 792.157E-3\t9.99965E-9\t2.00008E+0\t1.10123E-6\t1.89724E-6\t99.2194E-9\t10.0000E+0\t9.99965E-9\t1.99961E+0\t1.10123E-6\t1.89724E-6\t99.2194E-9\t10.0000E+0\t9.99965E-9\t1.99997E+0\t1.10123E-6\t1.89724E-6\t99.2194E-9\t10.0000E+0\t9.99965E-9\t1.99965E+0\t1.10123E-6\t1.89724E-6\t99.2194E-9\t10.0000E+0\n",
      "\n",
      "196 807.843E-3\t9.99965E-9\t1.99998E+0\t1.10123E-6\t1.89724E-6\t99.2194E-9\t10.0000E+0\t9.99965E-9\t1.99963E+0\t1.10123E-6\t1.89724E-6\t99.2194E-9\t10.0000E+0\t9.99965E-9\t1.99998E+0\t1.10123E-6\t1.89724E-6\t99.2194E-9\t10.0000E+0\t9.99965E-9\t1.99960E+0\t1.10123E-6\t1.89724E-6\t99.2194E-9\t10.0000E+0\n",
      "\n",
      "197 823.529E-3\t9.99965E-9\t1.99997E+0\t1.10123E-6\t1.89724E-6\t99.2194E-9\t10.0000E+0\t9.99965E-9\t1.99947E+0\t1.10123E-6\t1.89724E-6\t99.2194E-9\t10.0000E+0\t9.99965E-9\t1.99998E+0\t1.10123E-6\t1.89724E-6\t99.2194E-9\t10.0000E+0\t9.99965E-9\t1.99958E+0\t1.10123E-6\t1.89724E-6\t99.2194E-9\t10.0000E+0\n",
      "\n",
      "198 839.216E-3\t9.99965E-9\t1.99992E+0\t1.10123E-6\t1.89724E-6\t99.2194E-9\t10.0000E+0\t9.99965E-9\t1.99966E+0\t1.10123E-6\t1.89724E-6\t99.2194E-9\t10.0000E+0\t9.99965E-9\t1.99999E+0\t1.10123E-6\t1.89724E-6\t99.2194E-9\t10.0000E+0\t9.99965E-9\t1.99960E+0\t1.10123E-6\t1.89724E-6\t99.2194E-9\t10.0000E+0\n",
      "\n",
      "199 854.902E-3\t9.99965E-9\t2.00005E+0\t1.10123E-6\t1.89724E-6\t99.2194E-9\t10.0000E+0\t9.99965E-9\t1.99961E+0\t1.10123E-6\t1.89724E-6\t99.2194E-9\t10.0000E+0\t9.99965E-9\t2.00003E+0\t1.10123E-6\t1.89724E-6\t99.2194E-9\t10.0000E+0\t9.99965E-9\t1.99964E+0\t1.10123E-6\t1.89724E-6\t99.2194E-9\t10.0000E+0\n",
      "\n",
      "200 870.588E-3\t9.99965E-9\t2.00010E+0\t1.10123E-6\t1.89724E-6\t99.2194E-9\t10.0000E+0\t9.99965E-9\t1.99970E+0\t1.10123E-6\t1.89724E-6\t99.2194E-9\t10.0000E+0\t9.99965E-9\t2.00004E+0\t1.10123E-6\t1.89724E-6\t99.2194E-9\t10.0000E+0\t9.99965E-9\t1.99967E+0\t1.10123E-6\t1.89724E-6\t99.2194E-9\t10.0000E+0\n",
      "\n",
      "201 886.275E-3\t9.99965E-9\t2.00008E+0\t1.10123E-6\t1.89724E-6\t99.2194E-9\t10.0000E+0\t9.99965E-9\t1.99971E+0\t1.10123E-6\t1.89724E-6\t99.2194E-9\t10.0000E+0\t9.99965E-9\t2.00000E+0\t1.10123E-6\t1.89724E-6\t99.2194E-9\t10.0000E+0\t9.99965E-9\t1.99965E+0\t1.10123E-6\t1.89724E-6\t99.2194E-9\t10.0000E+0\n",
      "\n",
      "202 901.961E-3\t9.99965E-9\t1.99985E+0\t1.10123E-6\t1.89724E-6\t99.2194E-9\t10.0000E+0\t9.99965E-9\t1.99960E+0\t1.10123E-6\t1.89724E-6\t99.2194E-9\t10.0000E+0\t9.99965E-9\t1.99994E+0\t1.10123E-6\t1.89724E-6\t99.2194E-9\t10.0000E+0\t9.99965E-9\t1.99963E+0\t1.10123E-6\t1.89724E-6\t99.2194E-9\t10.0000E+0\n",
      "\n",
      "203 917.647E-3\t9.99965E-9\t1.99981E+0\t1.10123E-6\t1.89724E-6\t99.2194E-9\t10.0000E+0\t9.99965E-9\t1.99953E+0\t1.10123E-6\t1.89724E-6\t99.2194E-9\t10.0000E+0\t9.99965E-9\t1.99990E+0\t1.10123E-6\t1.89724E-6\t99.2194E-9\t10.0000E+0\t9.99965E-9\t1.99961E+0\t1.10123E-6\t1.89724E-6\t99.2194E-9\t10.0000E+0\n",
      "\n",
      "204 933.333E-3\t9.99965E-9\t1.99995E+0\t1.10123E-6\t1.89724E-6\t99.2194E-9\t10.0000E+0\t9.99965E-9\t1.99966E+0\t1.10123E-6\t1.89724E-6\t99.2194E-9\t10.0000E+0\t9.99965E-9\t1.99989E+0\t1.10123E-6\t1.89724E-6\t99.2194E-9\t10.0000E+0\t9.99965E-9\t1.99962E+0\t1.10123E-6\t1.89724E-6\t99.2194E-9\t10.0000E+0\n",
      "\n",
      "205 949.020E-3\t9.99965E-9\t1.99997E+0\t1.10123E-6\t1.89724E-6\t99.2194E-9\t10.0000E+0\t9.99965E-9\t1.99966E+0\t1.10123E-6\t1.89724E-6\t99.2194E-9\t10.0000E+0\t9.99965E-9\t1.99988E+0\t1.10123E-6\t1.89724E-6\t99.2194E-9\t10.0000E+0\t9.99965E-9\t1.99966E+0\t1.10123E-6\t1.89724E-6\t99.2194E-9\t10.0000E+0\n",
      "\n",
      "206 964.706E-3\t9.99965E-9\t1.99974E+0\t1.10123E-6\t1.89724E-6\t99.2194E-9\t10.0000E+0\t9.99965E-9\t1.99965E+0\t1.10123E-6\t1.89724E-6\t99.2194E-9\t10.0000E+0\t9.99965E-9\t1.99985E+0\t1.10123E-6\t1.89724E-6\t99.2194E-9\t10.0000E+0\t9.99965E-9\t1.99968E+0\t1.10123E-6\t1.89724E-6\t99.2194E-9\t10.0000E+0\n",
      "\n",
      "207 980.392E-3\t9.99965E-9\t1.99983E+0\t1.10123E-6\t1.89724E-6\t99.2194E-9\t10.0000E+0\t9.99965E-9\t1.99979E+0\t1.10123E-6\t1.89724E-6\t99.2194E-9\t10.0000E+0\t9.99965E-9\t1.99983E+0\t1.10123E-6\t1.89724E-6\t99.2194E-9\t10.0000E+0\t9.99965E-9\t1.99971E+0\t1.10123E-6\t1.89724E-6\t99.2194E-9\t10.0000E+0\n",
      "\n",
      "208 996.078E-3\t9.99965E-9\t1.99982E+0\t1.10123E-6\t1.89724E-6\t99.2194E-9\t10.0000E+0\t9.99965E-9\t1.99962E+0\t1.10123E-6\t1.89724E-6\t99.2194E-9\t10.0000E+0\t9.99965E-9\t1.99983E+0\t1.10123E-6\t1.89724E-6\t99.2194E-9\t10.0000E+0\t9.99965E-9\t1.99974E+0\t1.10123E-6\t1.89724E-6\t99.2194E-9\t10.0000E+0\n",
      "\n",
      "209 1.01176E+0\t9.99965E-9\t1.99990E+0\t1.10123E-6\t1.89724E-6\t99.2194E-9\t10.0000E+0\t9.99965E-9\t1.99982E+0\t1.10123E-6\t1.89724E-6\t99.2194E-9\t10.0000E+0\t9.99965E-9\t1.99985E+0\t1.10123E-6\t1.89724E-6\t99.2194E-9\t10.0000E+0\t9.99965E-9\t1.99977E+0\t1.10123E-6\t1.89724E-6\t99.2194E-9\t10.0000E+0\n",
      "\n",
      "210 1.02745E+0\t9.99965E-9\t1.99983E+0\t1.10123E-6\t1.89724E-6\t99.2194E-9\t10.0000E+0\t9.99965E-9\t1.99982E+0\t1.10123E-6\t1.89724E-6\t99.2194E-9\t10.0000E+0\t9.99965E-9\t1.99986E+0\t1.10123E-6\t1.89724E-6\t99.2194E-9\t10.0000E+0\t9.99965E-9\t1.99978E+0\t1.10123E-6\t1.89724E-6\t99.2194E-9\t10.0000E+0\n",
      "\n",
      "211 1.04314E+0\t9.99965E-9\t1.99980E+0\t1.10123E-6\t1.89724E-6\t99.2194E-9\t10.0000E+0\t9.99965E-9\t1.99977E+0\t1.10123E-6\t1.89724E-6\t99.2194E-9\t10.0000E+0\t9.99965E-9\t1.99989E+0\t1.10123E-6\t1.89724E-6\t99.2194E-9\t10.0000E+0\t9.99965E-9\t1.99978E+0\t1.10123E-6\t1.89724E-6\t99.2194E-9\t10.0000E+0\n",
      "\n",
      "212 1.05882E+0\t9.99965E-9\t2.00005E+0\t1.10123E-6\t1.89724E-6\t99.2194E-9\t10.0000E+0\t9.99965E-9\t1.99979E+0\t1.10123E-6\t1.89724E-6\t99.2194E-9\t10.0000E+0\t9.99965E-9\t1.99992E+0\t1.10123E-6\t1.89724E-6\t99.2194E-9\t10.0000E+0\t9.99965E-9\t1.99975E+0\t1.10123E-6\t1.89724E-6\t99.2194E-9\t10.0000E+0\n",
      "\n",
      "213 1.07451E+0\t9.99965E-9\t1.99993E+0\t1.10123E-6\t1.89724E-6\t99.2194E-9\t10.0000E+0\t9.99965E-9\t1.99966E+0\t1.10123E-6\t1.89724E-6\t99.2194E-9\t10.0000E+0\t9.99965E-9\t1.99994E+0\t1.10123E-6\t1.89724E-6\t99.2194E-9\t10.0000E+0\t9.99965E-9\t1.99970E+0\t1.10123E-6\t1.89724E-6\t99.2194E-9\t10.0000E+0\n",
      "\n",
      "214 1.09020E+0\t9.99965E-9\t1.99989E+0\t1.10123E-6\t1.89724E-6\t99.2194E-9\t10.0000E+0\t9.99965E-9\t1.99971E+0\t1.10123E-6\t1.89724E-6\t99.2194E-9\t10.0000E+0\t9.99965E-9\t1.99994E+0\t1.10123E-6\t1.89724E-6\t99.2194E-9\t10.0000E+0\t9.99965E-9\t1.99965E+0\t1.10123E-6\t1.89724E-6\t99.2194E-9\t10.0000E+0\n",
      "\n",
      "215 1.10588E+0\t9.99965E-9\t1.99999E+0\t1.10123E-6\t1.89724E-6\t99.2194E-9\t10.0000E+0\t9.99965E-9\t1.99954E+0\t1.10123E-6\t1.89724E-6\t99.2194E-9\t10.0000E+0\t9.99965E-9\t1.99993E+0\t1.10123E-6\t1.89724E-6\t99.2194E-9\t10.0000E+0\t9.99965E-9\t1.99961E+0\t1.10123E-6\t1.89724E-6\t99.2194E-9\t10.0000E+0\n",
      "\n",
      "216 1.12157E+0\t9.99965E-9\t1.99988E+0\t1.10123E-6\t1.89724E-6\t99.2194E-9\t10.0000E+0\t9.99965E-9\t1.99954E+0\t1.10123E-6\t1.89724E-6\t99.2194E-9\t10.0000E+0\t9.99965E-9\t1.99992E+0\t1.10123E-6\t1.89724E-6\t99.2194E-9\t10.0000E+0\t9.99965E-9\t1.99959E+0\t1.10123E-6\t1.89724E-6\t99.2194E-9\t10.0000E+0\n",
      "\n",
      "217 1.13725E+0\t9.99965E-9\t1.99997E+0\t1.10123E-6\t1.89724E-6\t99.2194E-9\t10.0000E+0\t9.99965E-9\t1.99966E+0\t1.10123E-6\t1.89724E-6\t99.2194E-9\t10.0000E+0\t9.99965E-9\t1.99991E+0\t1.10123E-6\t1.89724E-6\t99.2194E-9\t10.0000E+0\t9.99965E-9\t1.99958E+0\t1.10123E-6\t1.89724E-6\t99.2194E-9\t10.0000E+0\n",
      "\n",
      "218 1.15294E+0\t9.99965E-9\t1.99982E+0\t1.10123E-6\t1.89724E-6\t99.2194E-9\t10.0000E+0\t9.99965E-9\t1.99952E+0\t1.10123E-6\t1.89724E-6\t99.2194E-9\t10.0000E+0\t9.99965E-9\t1.99991E+0\t1.10123E-6\t1.89724E-6\t99.2194E-9\t10.0000E+0\t9.99965E-9\t1.99957E+0\t1.10123E-6\t1.89724E-6\t99.2194E-9\t10.0000E+0\n",
      "\n",
      "219 1.16863E+0\t9.99965E-9\t1.99996E+0\t1.10123E-6\t1.89724E-6\t99.2194E-9\t10.0000E+0\t9.99965E-9\t1.99957E+0\t1.10123E-6\t1.89724E-6\t99.2194E-9\t10.0000E+0\t9.99965E-9\t1.99991E+0\t1.10123E-6\t1.89724E-6\t99.2194E-9\t10.0000E+0\t9.99965E-9\t1.99957E+0\t1.10123E-6\t1.89724E-6\t99.2194E-9\t10.0000E+0\n",
      "\n",
      "220 1.18431E+0\t9.99965E-9\t1.99991E+0\t1.10123E-6\t1.89724E-6\t99.2194E-9\t10.0000E+0\t9.99965E-9\t1.99957E+0\t1.10123E-6\t1.89724E-6\t99.2194E-9\t10.0000E+0\t9.99965E-9\t1.99990E+0\t1.10123E-6\t1.89724E-6\t99.2194E-9\t10.0000E+0\t9.99965E-9\t1.99957E+0\t1.10123E-6\t1.89724E-6\t99.2194E-9\t10.0000E+0\n",
      "\n",
      "221 1.20000E+0\t9.99965E-9\t1.99993E+0\t1.10123E-6\t1.89724E-6\t99.2194E-9\t10.0000E+0\t9.99965E-9\t1.99962E+0\t1.10123E-6\t1.89724E-6\t99.2194E-9\t10.0000E+0\t9.99965E-9\t1.99990E+0\t1.10123E-6\t1.89724E-6\t99.2194E-9\t10.0000E+0\t9.99965E-9\t1.99957E+0\t1.10123E-6\t1.89724E-6\t99.2194E-9\t10.0000E+0\n",
      "\n",
      "222 1.21569E+0\t9.99965E-9\t1.99975E+0\t1.10123E-6\t1.89724E-6\t99.2194E-9\t10.0000E+0\t9.99965E-9\t1.99953E+0\t1.10123E-6\t1.89724E-6\t99.2194E-9\t10.0000E+0\t9.99965E-9\t1.99988E+0\t1.10123E-6\t1.89724E-6\t99.2194E-9\t10.0000E+0\t9.99965E-9\t1.99957E+0\t1.10123E-6\t1.89724E-6\t99.2194E-9\t10.0000E+0\n",
      "\n",
      "223 1.23137E+0\t9.99965E-9\t2.00002E+0\t1.10123E-6\t1.89724E-6\t99.2194E-9\t10.0000E+0\t9.99965E-9\t1.99954E+0\t1.10123E-6\t1.89724E-6\t99.2194E-9\t10.0000E+0\t9.99965E-9\t1.99988E+0\t1.10123E-6\t1.89724E-6\t99.2194E-9\t10.0000E+0\t9.99965E-9\t1.99958E+0\t1.10123E-6\t1.89724E-6\t99.2194E-9\t10.0000E+0\n",
      "\n",
      "224 1.24706E+0\t9.99965E-9\t1.99981E+0\t1.10123E-6\t1.89724E-6\t99.2194E-9\t10.0000E+0\t9.99965E-9\t1.99967E+0\t1.10123E-6\t1.89724E-6\t99.2194E-9\t10.0000E+0\t9.99965E-9\t1.99986E+0\t1.10123E-6\t1.89724E-6\t99.2194E-9\t10.0000E+0\t9.99965E-9\t1.99960E+0\t1.10123E-6\t1.89724E-6\t99.2194E-9\t10.0000E+0\n",
      "\n",
      "225 1.26275E+0\t9.99965E-9\t1.99987E+0\t1.10123E-6\t1.89724E-6\t99.2194E-9\t10.0000E+0\t9.99965E-9\t1.99957E+0\t1.10123E-6\t1.89724E-6\t99.2194E-9\t10.0000E+0\t9.99965E-9\t1.99983E+0\t1.10123E-6\t1.89724E-6\t99.2194E-9\t10.0000E+0\t9.99965E-9\t1.99961E+0\t1.10123E-6\t1.89724E-6\t99.2194E-9\t10.0000E+0\n",
      "\n",
      "226 1.27843E+0\t9.99965E-9\t1.99975E+0\t1.10123E-6\t1.89724E-6\t99.2194E-9\t10.0000E+0\t9.99965E-9\t1.99966E+0\t1.10123E-6\t1.89724E-6\t99.2194E-9\t10.0000E+0\t9.99965E-9\t1.99977E+0\t1.10123E-6\t1.89724E-6\t99.2194E-9\t10.0000E+0\t9.99965E-9\t1.99963E+0\t1.10123E-6\t1.89724E-6\t99.2194E-9\t10.0000E+0\n",
      "\n",
      "227 1.29412E+0\t9.99965E-9\t1.99972E+0\t1.10123E-6\t1.89724E-6\t99.2194E-9\t10.0000E+0\t9.99965E-9\t1.99952E+0\t1.10123E-6\t1.89724E-6\t99.2194E-9\t10.0000E+0\t9.99965E-9\t1.99977E+0\t1.10123E-6\t1.89724E-6\t99.2194E-9\t10.0000E+0\t9.99965E-9\t1.99965E+0\t1.10123E-6\t1.89724E-6\t99.2194E-9\t10.0000E+0\n",
      "\n",
      "228 1.30980E+0\t9.99965E-9\t1.99973E+0\t1.10123E-6\t1.89724E-6\t99.2194E-9\t10.0000E+0\t9.99965E-9\t1.99981E+0\t1.10123E-6\t1.89724E-6\t99.2194E-9\t10.0000E+0\t9.99965E-9\t1.99977E+0\t1.10123E-6\t1.89724E-6\t99.2194E-9\t10.0000E+0\t9.99965E-9\t1.99969E+0\t1.10123E-6\t1.89724E-6\t99.2194E-9\t10.0000E+0\n",
      "\n",
      "229 1.32549E+0\t9.99965E-9\t1.99992E+0\t1.10123E-6\t1.89724E-6\t99.2194E-9\t10.0000E+0\t9.99965E-9\t1.99974E+0\t1.10123E-6\t1.89724E-6\t99.2194E-9\t10.0000E+0\t9.99965E-9\t1.99978E+0\t1.10123E-6\t1.89724E-6\t99.2194E-9\t10.0000E+0\t9.99965E-9\t1.99969E+0\t1.10123E-6\t1.89724E-6\t99.2194E-9\t10.0000E+0\n",
      "\n",
      "230 1.34118E+0\t9.99965E-9\t1.99972E+0\t1.10123E-6\t1.89724E-6\t99.2194E-9\t10.0000E+0\t9.99965E-9\t1.99966E+0\t1.10123E-6\t1.89724E-6\t99.2194E-9\t10.0000E+0\t9.99965E-9\t1.99977E+0\t1.10123E-6\t1.89724E-6\t99.2194E-9\t10.0000E+0\t9.99965E-9\t1.99965E+0\t1.10123E-6\t1.89724E-6\t99.2194E-9\t10.0000E+0\n",
      "\n",
      "231 1.35686E+0\t9.99965E-9\t1.99965E+0\t1.10123E-6\t1.89724E-6\t99.2194E-9\t10.0000E+0\t9.99965E-9\t1.99951E+0\t1.10123E-6\t1.89724E-6\t99.2194E-9\t10.0000E+0\t9.99965E-9\t1.99975E+0\t1.10123E-6\t1.89724E-6\t99.2194E-9\t10.0000E+0\t9.99965E-9\t1.99958E+0\t1.10123E-6\t1.89724E-6\t99.2194E-9\t10.0000E+0\n",
      "\n",
      "232 1.37255E+0\t9.99965E-9\t1.99988E+0\t1.10123E-6\t1.89724E-6\t99.2194E-9\t10.0000E+0\t9.99965E-9\t1.99959E+0\t1.10123E-6\t1.89724E-6\t99.2194E-9\t10.0000E+0\t9.99965E-9\t1.99973E+0\t1.10123E-6\t1.89724E-6\t99.2194E-9\t10.0000E+0\t9.99965E-9\t1.99955E+0\t1.10123E-6\t1.89724E-6\t99.2194E-9\t10.0000E+0\n",
      "\n",
      "233 1.38824E+0\t9.99965E-9\t1.99967E+0\t1.10123E-6\t1.89724E-6\t99.2194E-9\t10.0000E+0\t9.99965E-9\t1.99944E+0\t1.10123E-6\t1.89724E-6\t99.2194E-9\t10.0000E+0\t9.99965E-9\t1.99974E+0\t1.10123E-6\t1.89724E-6\t99.2194E-9\t10.0000E+0\t9.99965E-9\t1.99955E+0\t1.10123E-6\t1.89724E-6\t99.2194E-9\t10.0000E+0\n",
      "\n",
      "234 1.40392E+0\t9.99965E-9\t1.99962E+0\t1.10123E-6\t1.89724E-6\t99.2194E-9\t10.0000E+0\t9.99965E-9\t1.99966E+0\t1.10123E-6\t1.89724E-6\t99.2194E-9\t10.0000E+0\t9.99965E-9\t1.99974E+0\t1.10123E-6\t1.89724E-6\t99.2194E-9\t10.0000E+0\t9.99965E-9\t1.99960E+0\t1.10123E-6\t1.89724E-6\t99.2194E-9\t10.0000E+0\n",
      "\n",
      "235 1.41961E+0\t9.99965E-9\t1.99994E+0\t1.10123E-6\t1.89724E-6\t99.2194E-9\t10.0000E+0\t9.99965E-9\t1.99961E+0\t1.10123E-6\t1.89724E-6\t99.2194E-9\t10.0000E+0\t9.99965E-9\t1.99974E+0\t1.10123E-6\t1.89724E-6\t99.2194E-9\t10.0000E+0\t9.99965E-9\t1.99964E+0\t1.10123E-6\t1.89724E-6\t99.2194E-9\t10.0000E+0\n",
      "\n",
      "236 1.43529E+0\t9.99965E-9\t1.99962E+0\t1.10123E-6\t1.89724E-6\t99.2194E-9\t10.0000E+0\t9.99965E-9\t1.99975E+0\t1.10123E-6\t1.89724E-6\t99.2194E-9\t10.0000E+0\t9.99965E-9\t1.99976E+0\t1.10123E-6\t1.89724E-6\t99.2194E-9\t10.0000E+0\t9.99965E-9\t1.99970E+0\t1.10123E-6\t1.89724E-6\t99.2194E-9\t10.0000E+0\n",
      "\n",
      "237 1.45098E+0\t9.99965E-9\t1.99976E+0\t1.10123E-6\t1.89724E-6\t99.2194E-9\t10.0000E+0\t9.99965E-9\t1.99969E+0\t1.10123E-6\t1.89724E-6\t99.2194E-9\t10.0000E+0\t9.99965E-9\t1.99976E+0\t1.10123E-6\t1.89724E-6\t99.2194E-9\t10.0000E+0\t9.99965E-9\t1.99974E+0\t1.10123E-6\t1.89724E-6\t99.2194E-9\t10.0000E+0\n",
      "\n",
      "238 1.46667E+0\t9.99965E-9\t1.99985E+0\t1.10123E-6\t1.89724E-6\t99.2194E-9\t10.0000E+0\t9.99965E-9\t1.99982E+0\t1.10123E-6\t1.89724E-6\t99.2194E-9\t10.0000E+0\t9.99965E-9\t1.99976E+0\t1.10123E-6\t1.89724E-6\t99.2194E-9\t10.0000E+0\t9.99965E-9\t1.99976E+0\t1.10123E-6\t1.89724E-6\t99.2194E-9\t10.0000E+0\n",
      "\n",
      "239 1.48235E+0\t9.99965E-9\t1.99965E+0\t1.10123E-6\t1.89724E-6\t99.2194E-9\t10.0000E+0\t9.99965E-9\t1.99980E+0\t1.10123E-6\t1.89724E-6\t99.2194E-9\t10.0000E+0\t9.99965E-9\t1.99979E+0\t1.10123E-6\t1.89724E-6\t99.2194E-9\t10.0000E+0\t9.99965E-9\t1.99976E+0\t1.10123E-6\t1.89724E-6\t99.2194E-9\t10.0000E+0\n",
      "\n",
      "240 1.49804E+0\t9.99965E-9\t1.99984E+0\t1.10123E-6\t1.89724E-6\t99.2194E-9\t10.0000E+0\t9.99965E-9\t1.99969E+0\t1.10123E-6\t1.89724E-6\t99.2194E-9\t10.0000E+0\t9.99965E-9\t1.99983E+0\t1.10123E-6\t1.89724E-6\t99.2194E-9\t10.0000E+0\t9.99965E-9\t1.99975E+0\t1.10123E-6\t1.89724E-6\t99.2194E-9\t10.0000E+0\n",
      "\n",
      "241 1.51373E+0\t9.99965E-9\t1.99997E+0\t1.10123E-6\t1.89724E-6\t99.2194E-9\t10.0000E+0\t9.99965E-9\t1.99973E+0\t1.10123E-6\t1.89724E-6\t99.2194E-9\t10.0000E+0\t9.99965E-9\t1.99986E+0\t1.10123E-6\t1.89724E-6\t99.2194E-9\t10.0000E+0\t9.99965E-9\t1.99974E+0\t1.10123E-6\t1.89724E-6\t99.2194E-9\t10.0000E+0\n",
      "\n",
      "242 1.52941E+0\t9.99965E-9\t1.99983E+0\t1.10123E-6\t1.89724E-6\t99.2194E-9\t10.0000E+0\t9.99965E-9\t1.99975E+0\t1.10123E-6\t1.89724E-6\t99.2194E-9\t10.0000E+0\t9.99965E-9\t1.99985E+0\t1.10123E-6\t1.89724E-6\t99.2194E-9\t10.0000E+0\t9.99965E-9\t1.99975E+0\t1.10123E-6\t1.89724E-6\t99.2194E-9\t10.0000E+0\n",
      "\n",
      "243 1.54510E+0\t9.99965E-9\t1.99991E+0\t1.10123E-6\t1.89724E-6\t99.2194E-9\t10.0000E+0\t9.99965E-9\t1.99978E+0\t1.10123E-6\t1.89724E-6\t99.2194E-9\t10.0000E+0\t9.99965E-9\t1.99981E+0\t1.10123E-6\t1.89724E-6\t99.2194E-9\t10.0000E+0\t9.99965E-9\t1.99976E+0\t1.10123E-6\t1.89724E-6\t99.2194E-9\t10.0000E+0\n",
      "\n",
      "244 1.56078E+0\t9.99965E-9\t1.99956E+0\t1.10123E-6\t1.89724E-6\t99.2194E-9\t10.0000E+0\t9.99965E-9\t1.99979E+0\t1.10123E-6\t1.89724E-6\t99.2194E-9\t10.0000E+0\t9.99965E-9\t1.99977E+0\t1.10123E-6\t1.89724E-6\t99.2194E-9\t10.0000E+0\t9.99965E-9\t1.99973E+0\t1.10123E-6\t1.89724E-6\t99.2194E-9\t10.0000E+0\n",
      "\n",
      "245 1.57647E+0\t9.99965E-9\t1.99985E+0\t1.10123E-6\t1.89724E-6\t99.2194E-9\t10.0000E+0\t9.99965E-9\t1.99969E+0\t1.10123E-6\t1.89724E-6\t99.2194E-9\t10.0000E+0\t9.99965E-9\t1.99978E+0\t1.10123E-6\t1.89724E-6\t99.2194E-9\t10.0000E+0\t9.99965E-9\t1.99969E+0\t1.10123E-6\t1.89724E-6\t99.2194E-9\t10.0000E+0\n",
      "\n",
      "246 1.59216E+0\t9.99965E-9\t1.99982E+0\t1.10123E-6\t1.89724E-6\t99.2194E-9\t10.0000E+0\t9.99965E-9\t1.99948E+0\t1.10123E-6\t1.89724E-6\t99.2194E-9\t10.0000E+0\t9.99965E-9\t1.99980E+0\t1.10123E-6\t1.89724E-6\t99.2194E-9\t10.0000E+0\t9.99965E-9\t1.99969E+0\t1.10123E-6\t1.89724E-6\t99.2194E-9\t10.0000E+0\n",
      "\n",
      "247 1.60784E+0\t9.99965E-9\t1.99984E+0\t1.10123E-6\t1.89724E-6\t99.2194E-9\t10.0000E+0\t9.99965E-9\t1.99988E+0\t1.10123E-6\t1.89724E-6\t99.2194E-9\t10.0000E+0\t9.99965E-9\t1.99983E+0\t1.10123E-6\t1.89724E-6\t99.2194E-9\t10.0000E+0\t9.99965E-9\t1.99972E+0\t1.10123E-6\t1.89724E-6\t99.2194E-9\t10.0000E+0\n",
      "\n",
      "248 1.62353E+0\t9.99965E-9\t1.99980E+0\t1.10123E-6\t1.89724E-6\t99.2194E-9\t10.0000E+0\t9.99965E-9\t1.99977E+0\t1.10123E-6\t1.89724E-6\t99.2194E-9\t10.0000E+0\t9.99965E-9\t1.99984E+0\t1.10123E-6\t1.89724E-6\t99.2194E-9\t10.0000E+0\t9.99965E-9\t1.99976E+0\t1.10123E-6\t1.89724E-6\t99.2194E-9\t10.0000E+0\n",
      "\n",
      "249 1.63922E+0\t9.99965E-9\t1.99989E+0\t1.10123E-6\t1.89724E-6\t99.2194E-9\t10.0000E+0\t9.99965E-9\t1.99975E+0\t1.10123E-6\t1.89724E-6\t99.2194E-9\t10.0000E+0\t9.99965E-9\t1.99986E+0\t1.10123E-6\t1.89724E-6\t99.2194E-9\t10.0000E+0\t9.99965E-9\t1.99981E+0\t1.10123E-6\t1.89724E-6\t99.2194E-9\t10.0000E+0\n",
      "\n",
      "250 1.65490E+0\t9.99965E-9\t1.99983E+0\t1.10123E-6\t1.89724E-6\t99.2194E-9\t10.0000E+0\t9.99965E-9\t1.99982E+0\t1.10123E-6\t1.89724E-6\t99.2194E-9\t10.0000E+0\t9.99965E-9\t1.99988E+0\t1.10123E-6\t1.89724E-6\t99.2194E-9\t10.0000E+0\t9.99965E-9\t1.99982E+0\t1.10123E-6\t1.89724E-6\t99.2194E-9\t10.0000E+0\n",
      "\n",
      "251 1.67059E+0\t9.99965E-9\t1.99996E+0\t1.10123E-6\t1.89724E-6\t99.2194E-9\t10.0000E+0\t9.99965E-9\t1.99997E+0\t1.10123E-6\t1.89724E-6\t99.2194E-9\t10.0000E+0\t9.99965E-9\t1.99991E+0\t1.10123E-6\t1.89724E-6\t99.2194E-9\t10.0000E+0\t9.99965E-9\t1.99984E+0\t1.10123E-6\t1.89724E-6\t99.2194E-9\t10.0000E+0\n",
      "\n",
      "252 1.68627E+0\t9.99965E-9\t1.99991E+0\t1.10123E-6\t1.89724E-6\t99.2194E-9\t10.0000E+0\t9.99965E-9\t1.99972E+0\t1.10123E-6\t1.89724E-6\t99.2194E-9\t10.0000E+0\t9.99965E-9\t1.99992E+0\t1.10123E-6\t1.89724E-6\t99.2194E-9\t10.0000E+0\t9.99965E-9\t1.99983E+0\t1.10123E-6\t1.89724E-6\t99.2194E-9\t10.0000E+0\n",
      "\n",
      "253 1.70196E+0\t9.99965E-9\t2.00002E+0\t1.10123E-6\t1.89724E-6\t99.2194E-9\t10.0000E+0\t9.99965E-9\t1.99990E+0\t1.10123E-6\t1.89724E-6\t99.2194E-9\t10.0000E+0\t9.99965E-9\t1.99992E+0\t1.10123E-6\t1.89724E-6\t99.2194E-9\t10.0000E+0\t9.99965E-9\t1.99979E+0\t1.10123E-6\t1.89724E-6\t99.2194E-9\t10.0000E+0\n",
      "\n",
      "254 1.71765E+0\t9.99965E-9\t1.99979E+0\t1.10123E-6\t1.89724E-6\t99.2194E-9\t10.0000E+0\t9.99965E-9\t1.99973E+0\t1.10123E-6\t1.89724E-6\t99.2194E-9\t10.0000E+0\t9.99965E-9\t1.99988E+0\t1.10123E-6\t1.89724E-6\t99.2194E-9\t10.0000E+0\t9.99965E-9\t1.99978E+0\t1.10123E-6\t1.89724E-6\t99.2194E-9\t10.0000E+0\n",
      "\n",
      "255 1.73333E+0\t9.99965E-9\t1.99990E+0\t1.10123E-6\t1.89724E-6\t99.2194E-9\t10.0000E+0\t9.99965E-9\t1.99961E+0\t1.10123E-6\t1.89724E-6\t99.2194E-9\t10.0000E+0\t9.99965E-9\t1.99987E+0\t1.10123E-6\t1.89724E-6\t99.2194E-9\t10.0000E+0\t9.99965E-9\t1.99981E+0\t1.10123E-6\t1.89724E-6\t99.2194E-9\t10.0000E+0\n",
      "\n",
      "256 1.74902E+0\t9.99965E-9\t1.99975E+0\t1.10123E-6\t1.89724E-6\t99.2194E-9\t10.0000E+0\t9.99965E-9\t2.00005E+0\t1.10123E-6\t1.89724E-6\t99.2194E-9\t10.0000E+0\t9.99965E-9\t1.99987E+0\t1.10123E-6\t1.89724E-6\t99.2194E-9\t10.0000E+0\t9.99965E-9\t1.99984E+0\t1.10123E-6\t1.89724E-6\t99.2194E-9\t10.0000E+0\n",
      "\n",
      "257 1.76471E+0\t9.99965E-9\t2.00003E+0\t1.10123E-6\t1.89724E-6\t99.2194E-9\t10.0000E+0\t9.99965E-9\t1.99990E+0\t1.10123E-6\t1.89724E-6\t99.2194E-9\t10.0000E+0\t9.99965E-9\t1.99990E+0\t1.10123E-6\t1.89724E-6\t99.2194E-9\t10.0000E+0\t9.99965E-9\t1.99988E+0\t1.10123E-6\t1.89724E-6\t99.2194E-9\t10.0000E+0\n",
      "\n",
      "258 1.78039E+0\t9.99965E-9\t1.99987E+0\t1.10123E-6\t1.89724E-6\t99.2194E-9\t10.0000E+0\t9.99965E-9\t1.99978E+0\t1.10123E-6\t1.89724E-6\t99.2194E-9\t10.0000E+0\t9.99965E-9\t1.99989E+0\t1.10123E-6\t1.89724E-6\t99.2194E-9\t10.0000E+0\t9.99965E-9\t1.99988E+0\t1.10123E-6\t1.89724E-6\t99.2194E-9\t10.0000E+0\n",
      "\n",
      "259 1.79608E+0\t9.99965E-9\t1.99987E+0\t1.10123E-6\t1.89724E-6\t99.2194E-9\t10.0000E+0\t9.99965E-9\t1.99996E+0\t1.10123E-6\t1.89724E-6\t99.2194E-9\t10.0000E+0\t9.99965E-9\t1.99989E+0\t1.10123E-6\t1.89724E-6\t99.2194E-9\t10.0000E+0\t9.99965E-9\t1.99984E+0\t1.10123E-6\t1.89724E-6\t99.2194E-9\t10.0000E+0\n",
      "\n",
      "260 1.81176E+0\t9.99965E-9\t1.99983E+0\t1.10123E-6\t1.89724E-6\t99.2194E-9\t10.0000E+0\t9.99965E-9\t1.99977E+0\t1.10123E-6\t1.89724E-6\t99.2194E-9\t10.0000E+0\t9.99965E-9\t1.99988E+0\t1.10123E-6\t1.89724E-6\t99.2194E-9\t10.0000E+0\t9.99965E-9\t1.99981E+0\t1.10123E-6\t1.89724E-6\t99.2194E-9\t10.0000E+0\n",
      "\n",
      "261 1.82745E+0\t9.99965E-9\t1.99996E+0\t1.10123E-6\t1.89724E-6\t99.2194E-9\t10.0000E+0\t9.99965E-9\t1.99976E+0\t1.10123E-6\t1.89724E-6\t99.2194E-9\t10.0000E+0\t9.99965E-9\t1.99992E+0\t1.10123E-6\t1.89724E-6\t99.2194E-9\t10.0000E+0\t9.99965E-9\t1.99976E+0\t1.10123E-6\t1.89724E-6\t99.2194E-9\t10.0000E+0\n",
      "\n",
      "262 1.84314E+0\t9.99965E-9\t1.99991E+0\t1.10123E-6\t1.89724E-6\t99.2194E-9\t10.0000E+0\t9.99965E-9\t1.99971E+0\t1.10123E-6\t1.89724E-6\t99.2194E-9\t10.0000E+0\t9.99965E-9\t1.99993E+0\t1.10123E-6\t1.89724E-6\t99.2194E-9\t10.0000E+0\t9.99965E-9\t1.99971E+0\t1.10123E-6\t1.89724E-6\t99.2194E-9\t10.0000E+0\n",
      "\n",
      "263 1.85882E+0\t9.99965E-9\t2.00008E+0\t1.10123E-6\t1.89724E-6\t99.2194E-9\t10.0000E+0\t9.99965E-9\t1.99963E+0\t1.10123E-6\t1.89724E-6\t99.2194E-9\t10.0000E+0\t9.99965E-9\t1.99993E+0\t1.10123E-6\t1.89724E-6\t99.2194E-9\t10.0000E+0\t9.99965E-9\t1.99970E+0\t1.10123E-6\t1.89724E-6\t99.2194E-9\t10.0000E+0\n",
      "\n",
      "264 1.87451E+0\t9.99965E-9\t1.99969E+0\t1.10123E-6\t1.89724E-6\t99.2194E-9\t10.0000E+0\t9.99965E-9\t1.99971E+0\t1.10123E-6\t1.89724E-6\t99.2194E-9\t10.0000E+0\t9.99965E-9\t1.99988E+0\t1.10123E-6\t1.89724E-6\t99.2194E-9\t10.0000E+0\t9.99965E-9\t1.99971E+0\t1.10123E-6\t1.89724E-6\t99.2194E-9\t10.0000E+0\n",
      "\n",
      "265 1.89020E+0\t9.99965E-9\t1.99999E+0\t1.10123E-6\t1.89724E-6\t99.2194E-9\t10.0000E+0\t9.99965E-9\t1.99982E+0\t1.10123E-6\t1.89724E-6\t99.2194E-9\t10.0000E+0\t9.99965E-9\t1.99984E+0\t1.10123E-6\t1.89724E-6\t99.2194E-9\t10.0000E+0\t9.99965E-9\t1.99971E+0\t1.10123E-6\t1.89724E-6\t99.2194E-9\t10.0000E+0\n",
      "\n",
      "266 1.90588E+0\t9.99965E-9\t1.99973E+0\t1.10123E-6\t1.89724E-6\t99.2194E-9\t10.0000E+0\t9.99965E-9\t1.99960E+0\t1.10123E-6\t1.89724E-6\t99.2194E-9\t10.0000E+0\t9.99965E-9\t1.99980E+0\t1.10123E-6\t1.89724E-6\t99.2194E-9\t10.0000E+0\t9.99965E-9\t1.99972E+0\t1.10123E-6\t1.89724E-6\t99.2194E-9\t10.0000E+0\n",
      "\n",
      "267 1.92157E+0\t9.99965E-9\t1.99972E+0\t1.10123E-6\t1.89724E-6\t99.2194E-9\t10.0000E+0\t9.99965E-9\t1.99973E+0\t1.10123E-6\t1.89724E-6\t99.2194E-9\t10.0000E+0\t9.99965E-9\t1.99980E+0\t1.10123E-6\t1.89724E-6\t99.2194E-9\t10.0000E+0\t9.99965E-9\t1.99974E+0\t1.10123E-6\t1.89724E-6\t99.2194E-9\t10.0000E+0\n",
      "\n",
      "268 1.93725E+0\t9.99965E-9\t1.99985E+0\t1.10123E-6\t1.89724E-6\t99.2194E-9\t10.0000E+0\t9.99965E-9\t1.99983E+0\t1.10123E-6\t1.89724E-6\t99.2194E-9\t10.0000E+0\t9.99965E-9\t1.99981E+0\t1.10123E-6\t1.89724E-6\t99.2194E-9\t10.0000E+0\t9.99965E-9\t1.99974E+0\t1.10123E-6\t1.89724E-6\t99.2194E-9\t10.0000E+0\n",
      "\n",
      "269 1.95294E+0\t9.99965E-9\t1.99982E+0\t1.10123E-6\t1.89724E-6\t99.2194E-9\t10.0000E+0\t9.99965E-9\t1.99982E+0\t1.10123E-6\t1.89724E-6\t99.2194E-9\t10.0000E+0\t9.99965E-9\t1.99985E+0\t1.10123E-6\t1.89724E-6\t99.2194E-9\t10.0000E+0\t9.99965E-9\t1.99974E+0\t1.10123E-6\t1.89724E-6\t99.2194E-9\t10.0000E+0\n",
      "\n",
      "270 1.96863E+0\t9.99965E-9\t1.99996E+0\t1.10123E-6\t1.89724E-6\t99.2194E-9\t10.0000E+0\t9.99965E-9\t1.99950E+0\t1.10123E-6\t1.89724E-6\t99.2194E-9\t10.0000E+0\t9.99965E-9\t1.99988E+0\t1.10123E-6\t1.89724E-6\t99.2194E-9\t10.0000E+0\t9.99965E-9\t1.99975E+0\t1.10123E-6\t1.89724E-6\t99.2194E-9\t10.0000E+0\n",
      "\n",
      "271 1.98431E+0\t9.99965E-9\t1.99978E+0\t1.10123E-6\t1.89724E-6\t99.2194E-9\t10.0000E+0\t9.99965E-9\t1.99987E+0\t1.10123E-6\t1.89724E-6\t99.2194E-9\t10.0000E+0\t9.99965E-9\t1.99993E+0\t1.10123E-6\t1.89724E-6\t99.2194E-9\t10.0000E+0\t9.99965E-9\t1.99982E+0\t1.10123E-6\t1.89724E-6\t99.2194E-9\t10.0000E+0\n",
      "\n",
      "272 2.00000E+0\t9.99965E-9\t2.00000E+0\t1.10123E-6\t1.89724E-6\t99.2194E-9\t10.0000E+0\t9.99965E-9\t1.99995E+0\t1.10123E-6\t1.89724E-6\t99.2194E-9\t10.0000E+0\t9.99965E-9\t2.00000E+0\t1.10123E-6\t1.89724E-6\t99.2194E-9\t10.0000E+0\t9.99965E-9\t1.99995E+0\t1.10123E-6\t1.89724E-6\t99.2194E-9\t10.0000E+0\n",
      "\n"
     ]
    }
   ],
   "source": [
    "#What if we want to save the numerical portion? We can do that by first figuring out the number of header lines\n",
    "f.seek(0) #go back to the beginning of the file\n",
    "\n",
    "for ind,line in enumerate(f):\n",
    "    print(ind, line)"
   ]
  },
  {
   "cell_type": "code",
   "execution_count": 20,
   "metadata": {},
   "outputs": [],
   "source": [
    "#The numbers start from line 17. The easiest way to read this is to use numpy's loadtxt function\n",
    "#Let's import numpy first\n",
    "import numpy as np\n",
    "\n",
    "#Now let's read the data using the loadtxt function, and pass the number of initial lines to skip.\n",
    "data_arr = np.loadtxt(path_to_data_file, skiprows=17)"
   ]
  },
  {
   "cell_type": "code",
   "execution_count": 48,
   "metadata": {},
   "outputs": [
    {
     "name": "stdout",
     "output_type": "stream",
     "text": [
      "[[-2.00000e+00 -1.00007e-08  2.00011e+00 ...  1.89724e-06  9.92194e-08\n",
      "   1.00000e+01]\n",
      " [-1.98431e+00 -1.00007e-08  2.00012e+00 ...  1.89724e-06  9.92194e-08\n",
      "   1.00000e+01]\n",
      " [-1.96863e+00 -1.00007e-08  2.00043e+00 ...  1.89724e-06  9.92194e-08\n",
      "   1.00000e+01]\n",
      " ...\n",
      " [ 1.96863e+00  9.99965e-09  1.99996e+00 ...  1.89724e-06  9.92194e-08\n",
      "   1.00000e+01]\n",
      " [ 1.98431e+00  9.99965e-09  1.99978e+00 ...  1.89724e-06  9.92194e-08\n",
      "   1.00000e+01]\n",
      " [ 2.00000e+00  9.99965e-09  2.00000e+00 ...  1.89724e-06  9.92194e-08\n",
      "   1.00000e+01]]\n"
     ]
    }
   ],
   "source": [
    "print(data_arr)"
   ]
  },
  {
   "cell_type": "markdown",
   "metadata": {},
   "source": [
    "# Alternative: Read it directly using pure python"
   ]
  },
  {
   "cell_type": "code",
   "execution_count": 49,
   "metadata": {},
   "outputs": [],
   "source": [
    "#now let's read the numbers into a list\n",
    "headerlines=17\n",
    "\n",
    "my_array = []\n",
    "\n",
    "f.seek(0)\n",
    "for ind,line in enumerate(f):\n",
    "    if ind>headerlines: my_array.append(line)\n",
    "    "
   ]
  },
  {
   "cell_type": "code",
   "execution_count": 51,
   "metadata": {},
   "outputs": [
    {
     "data": {
      "text/plain": [
       "'-1.98431E+0\\t-10.0007E-9\\t2.00012E+0\\t1.10123E-6\\t1.89724E-6\\t99.2194E-9\\t10.0000E+0\\t-10.0007E-9\\t1.99990E+0\\t1.10123E-6\\t1.89724E-6\\t99.2194E-9\\t10.0000E+0\\t-10.0007E-9\\t2.00021E+0\\t1.10123E-6\\t1.89724E-6\\t99.2194E-9\\t10.0000E+0\\t-10.0007E-9\\t1.99983E+0\\t1.10123E-6\\t1.89724E-6\\t99.2194E-9\\t10.0000E+0\\n'"
      ]
     },
     "execution_count": 51,
     "metadata": {},
     "output_type": "execute_result"
    }
   ],
   "source": [
    "#Let's see what this did\n",
    "my_array[0]"
   ]
  },
  {
   "cell_type": "code",
   "execution_count": 52,
   "metadata": {},
   "outputs": [],
   "source": [
    "#It looks like this is a string! and it is split up ('delimited)') by the 'tab' character ('\\t'). \n",
    "#We can use the 'split' method on a string to return us the elements without the delimiter. \n",
    "\n",
    "line_1 = my_array[0].split('\\t') #split based on the tab"
   ]
  },
  {
   "cell_type": "code",
   "execution_count": 53,
   "metadata": {},
   "outputs": [
    {
     "data": {
      "text/plain": [
       "['-1.98431E+0',\n",
       " '-10.0007E-9',\n",
       " '2.00012E+0',\n",
       " '1.10123E-6',\n",
       " '1.89724E-6',\n",
       " '99.2194E-9',\n",
       " '10.0000E+0',\n",
       " '-10.0007E-9',\n",
       " '1.99990E+0',\n",
       " '1.10123E-6',\n",
       " '1.89724E-6',\n",
       " '99.2194E-9',\n",
       " '10.0000E+0',\n",
       " '-10.0007E-9',\n",
       " '2.00021E+0',\n",
       " '1.10123E-6',\n",
       " '1.89724E-6',\n",
       " '99.2194E-9',\n",
       " '10.0000E+0',\n",
       " '-10.0007E-9',\n",
       " '1.99983E+0',\n",
       " '1.10123E-6',\n",
       " '1.89724E-6',\n",
       " '99.2194E-9',\n",
       " '10.0000E+0\\n']"
      ]
     },
     "execution_count": 53,
     "metadata": {},
     "output_type": "execute_result"
    }
   ],
   "source": [
    "line_1"
   ]
  },
  {
   "cell_type": "code",
   "execution_count": 54,
   "metadata": {},
   "outputs": [],
   "source": [
    "#We can convert these to floats. Let's see what happens if we try that.\n",
    "line_1_floats = [float(val) for val in line_1]"
   ]
  },
  {
   "cell_type": "code",
   "execution_count": 55,
   "metadata": {},
   "outputs": [
    {
     "data": {
      "text/plain": [
       "[-1.98431,\n",
       " -1.00007e-08,\n",
       " 2.00012,\n",
       " 1.10123e-06,\n",
       " 1.89724e-06,\n",
       " 9.92194e-08,\n",
       " 10.0,\n",
       " -1.00007e-08,\n",
       " 1.9999,\n",
       " 1.10123e-06,\n",
       " 1.89724e-06,\n",
       " 9.92194e-08,\n",
       " 10.0,\n",
       " -1.00007e-08,\n",
       " 2.00021,\n",
       " 1.10123e-06,\n",
       " 1.89724e-06,\n",
       " 9.92194e-08,\n",
       " 10.0,\n",
       " -1.00007e-08,\n",
       " 1.99983,\n",
       " 1.10123e-06,\n",
       " 1.89724e-06,\n",
       " 9.92194e-08,\n",
       " 10.0]"
      ]
     },
     "execution_count": 55,
     "metadata": {},
     "output_type": "execute_result"
    }
   ],
   "source": [
    "line_1_floats"
   ]
  },
  {
   "cell_type": "markdown",
   "metadata": {},
   "source": [
    "# Exercise: Can you continue this process for all of the lines? \n",
    "\n",
    "You should end up with a list of lists"
   ]
  },
  {
   "cell_type": "code",
   "execution_count": null,
   "metadata": {},
   "outputs": [],
   "source": []
  },
  {
   "cell_type": "markdown",
   "metadata": {},
   "source": [
    "# Additional exercises: For loops, and dictionaries.\n",
    "\n",
    "1. Create a function that will return a dictionary with fields. The dictionary should have fields 'Name', 'Age', 'Height', and these fields should be populated based on the input to the function. include default values in case no value is provided by the user. \n",
    "\n",
    "2. Instatiate a loop to iterate over lists containing names, ages and heights, to return a list of dictionaries based on these values. I.e., imagine we have lists age = [10,11,12], height = [156, 134, 125] (these are in cm), age = [34,56,24]. I want to iterate through these values to use the function in (1) to return me the dictionary with these key, value pairs.\n",
    "\n",
    "3. \n",
    "\n",
    "\n"
   ]
  },
  {
   "cell_type": "code",
   "execution_count": null,
   "metadata": {},
   "outputs": [],
   "source": []
  }
 ],
 "metadata": {
  "kernelspec": {
   "display_name": "Python 3 (ipykernel)",
   "language": "python",
   "name": "python3"
  },
  "language_info": {
   "codemirror_mode": {
    "name": "ipython",
    "version": 3
   },
   "file_extension": ".py",
   "mimetype": "text/x-python",
   "name": "python",
   "nbconvert_exporter": "python",
   "pygments_lexer": "ipython3",
   "version": "3.10.14"
  }
 },
 "nbformat": 4,
 "nbformat_minor": 4
}
